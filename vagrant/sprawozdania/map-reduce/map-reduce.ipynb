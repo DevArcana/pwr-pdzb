{
 "cells": [
  {
   "cell_type": "code",
   "execution_count": 22,
   "metadata": {},
   "outputs": [],
   "source": [
    "import docker\n",
    "import uuid\n",
    "\n",
    "def run_in_master(command):\n",
    "    client = docker.from_env()\n",
    "    container = client.containers.get('master')\n",
    "    return container.exec_run(command)\n",
    "\n",
    "def get_data_from_output_path(path):\n",
    "    return f\"{path}/part-r-00000\"\n",
    "\n",
    "def print_hdfs_output(path):\n",
    "    raw = run_in_master(f\"hdfs dfs -cat {get_data_from_output_path(path)}\").output.decode('utf-8')\n",
    "    print(f\"{raw[0:10000]}\")\n",
    "    \n"
   ]
  },
  {
   "cell_type": "markdown",
   "metadata": {},
   "source": [
    "# Covid"
   ]
  },
  {
   "cell_type": "markdown",
   "metadata": {},
   "source": [
    "## Wybór kolumn"
   ]
  },
  {
   "cell_type": "code",
   "execution_count": 23,
   "metadata": {},
   "outputs": [
    {
     "name": "stdout",
     "output_type": "stream",
     "text": [
      "True\n"
     ]
    }
   ],
   "source": [
    "covid_01_jar_path = \"/data/master_volume/map_reduce_jars/covid_01.jar\"\n",
    "covid_01_input_path = \"/datasets/covid-dataset.jsonl\"\n",
    "covid_01_output_path = \"/out_covid_1\" + str(uuid.uuid4())\n",
    "\n",
    "res = run_in_master(f\"yarn jar {covid_01_jar_path} {covid_01_input_path} {covid_01_output_path}\")\n",
    "print(res.exit_code == 0)"
   ]
  },
  {
   "cell_type": "code",
   "execution_count": 26,
   "metadata": {},
   "outputs": [
    {
     "name": "stdout",
     "output_type": "stream",
     "text": [
      "\n"
     ]
    }
   ],
   "source": [
    "print_hdfs_output(covid_01_output_path)"
   ]
  },
  {
   "cell_type": "markdown",
   "metadata": {},
   "source": [
    "## Wybór wymiaru czasu"
   ]
  },
  {
   "cell_type": "code",
   "execution_count": 21,
   "metadata": {},
   "outputs": [
    {
     "name": "stdout",
     "output_type": "stream",
     "text": [
      "True\n"
     ]
    }
   ],
   "source": [
    "covid_02_jar_path = \"/data/master_volume/map_reduce_jars/covid_02.jar\"\n",
    "covid_02_input_path = get_data_from_output_path(covid_01_output_path)\n",
    "covid_02_output_path = \"/out_covid_2\" + str(uuid.uuid4())\n",
    "\n",
    "res = run_in_master(f\"yarn jar {covid_02_jar_path} {covid_02_input_path} {covid_02_output_path}\")\n",
    "print(res.exit_code == 0)"
   ]
  },
  {
   "cell_type": "code",
   "execution_count": null,
   "metadata": {},
   "outputs": [],
   "source": [
    "print_hdfs_output(covid_02_output_path)"
   ]
  },
  {
   "cell_type": "markdown",
   "metadata": {},
   "source": [
    "# Steam"
   ]
  },
  {
   "cell_type": "markdown",
   "metadata": {},
   "source": [
    "## Agregacja danych ze źródeł Steam"
   ]
  },
  {
   "cell_type": "code",
   "execution_count": 6,
   "metadata": {},
   "outputs": [
    {
     "name": "stdout",
     "output_type": "stream",
     "text": [
      "ExecResult(exit_code=0, output=b\"2023-05-07 00:32:56,528 INFO client.DefaultNoHARMFailoverProxyProvider: Connecting to ResourceManager at master/10.1.2.3:8050\\n2023-05-07 00:32:56,722 WARN mapreduce.JobResourceUploader: Hadoop command-line option parsing not performed. Implement the Tool interface and execute your application with ToolRunner to remedy this.\\n2023-05-07 00:32:56,727 INFO mapreduce.JobResourceUploader: Disabling Erasure Coding for path: /tmp/hadoop-yarn/staging/root/.staging/job_1683384448395_0001\\n2023-05-07 00:32:56,998 INFO input.FileInputFormat: Total input files to process : 2\\n2023-05-07 00:32:57,049 INFO mapreduce.JobSubmitter: number of splits:6\\n2023-05-07 00:32:57,129 INFO mapreduce.JobSubmitter: Submitting tokens for job: job_1683384448395_0001\\n2023-05-07 00:32:57,129 INFO mapreduce.JobSubmitter: Executing with tokens: []\\n2023-05-07 00:32:57,212 INFO conf.Configuration: resource-types.xml not found\\n2023-05-07 00:32:57,212 INFO resource.ResourceUtils: Unable to find 'resource-types.xml'.\\n2023-05-07 00:32:57,345 INFO impl.YarnClientImpl: Submitted application application_1683384448395_0001\\n2023-05-07 00:32:57,378 INFO mapreduce.Job: The url to track the job: http://master:8088/proxy/application_1683384448395_0001/\\n2023-05-07 00:32:57,379 INFO mapreduce.Job: Running job: job_1683384448395_0001\\n2023-05-07 00:33:02,436 INFO mapreduce.Job: Job job_1683384448395_0001 running in uber mode : false\\n2023-05-07 00:33:02,437 INFO mapreduce.Job:  map 0% reduce 0%\\n2023-05-07 00:33:20,519 INFO mapreduce.Job:  map 9% reduce 0%\\n2023-05-07 00:33:26,550 INFO mapreduce.Job:  map 25% reduce 0%\\n2023-05-07 00:33:29,571 INFO mapreduce.Job:  map 34% reduce 0%\\n2023-05-07 00:33:32,635 INFO mapreduce.Job:  map 45% reduce 0%\\n2023-05-07 00:33:38,709 INFO mapreduce.Job:  map 55% reduce 0%\\n2023-05-07 00:33:40,774 INFO mapreduce.Job:  map 69% reduce 0%\\n2023-05-07 00:33:43,787 INFO mapreduce.Job:  map 77% reduce 0%\\n2023-05-07 00:33:44,791 INFO mapreduce.Job:  map 88% reduce 0%\\n2023-05-07 00:33:45,793 INFO mapreduce.Job:  map 88% reduce 28%\\n2023-05-07 00:33:50,805 INFO mapreduce.Job:  map 90% reduce 28%\\n2023-05-07 00:33:56,830 INFO mapreduce.Job:  map 92% reduce 28%\\n2023-05-07 00:34:02,849 INFO mapreduce.Job:  map 100% reduce 28%\\n2023-05-07 00:34:03,854 INFO mapreduce.Job:  map 100% reduce 71%\\n2023-05-07 00:34:04,856 INFO mapreduce.Job:  map 100% reduce 100%\\n2023-05-07 00:34:04,860 INFO mapreduce.Job: Job job_1683384448395_0001 completed successfully\\n2023-05-07 00:34:04,913 INFO mapreduce.Job: Counters: 55\\n\\tFile System Counters\\n\\t\\tFILE: Number of bytes read=22218431\\n\\t\\tFILE: Number of bytes written=46294525\\n\\t\\tFILE: Number of read operations=0\\n\\t\\tFILE: Number of large read operations=0\\n\\t\\tFILE: Number of write operations=0\\n\\t\\tHDFS: Number of bytes read=599219589\\n\\t\\tHDFS: Number of bytes written=7402170\\n\\t\\tHDFS: Number of read operations=23\\n\\t\\tHDFS: Number of large read operations=0\\n\\t\\tHDFS: Number of write operations=2\\n\\t\\tHDFS: Number of bytes read erasure-coded=0\\n\\tJob Counters \\n\\t\\tKilled map tasks=2\\n\\t\\tLaunched map tasks=7\\n\\t\\tLaunched reduce tasks=1\\n\\t\\tData-local map tasks=7\\n\\t\\tTotal time spent by all maps in occupied slots (ms)=266817\\n\\t\\tTotal time spent by all reduces in occupied slots (ms)=33387\\n\\t\\tTotal time spent by all map tasks (ms)=266817\\n\\t\\tTotal time spent by all reduce tasks (ms)=33387\\n\\t\\tTotal vcore-milliseconds taken by all map tasks=266817\\n\\t\\tTotal vcore-milliseconds taken by all reduce tasks=33387\\n\\t\\tTotal megabyte-milliseconds taken by all map tasks=273220608\\n\\t\\tTotal megabyte-milliseconds taken by all reduce tasks=34188288\\n\\tMap-Reduce Framework\\n\\t\\tMap input records=103972\\n\\t\\tMap output records=103972\\n\\t\\tMap output bytes=21906426\\n\\t\\tMap output materialized bytes=22218461\\n\\t\\tInput split bytes=1861\\n\\t\\tCombine input records=0\\n\\t\\tCombine output records=0\\n\\t\\tReduce input groups=52043\\n\\t\\tReduce shuffle bytes=22218461\\n\\t\\tReduce input records=103972\\n\\t\\tReduce output records=51492\\n\\t\\tSpilled Records=207944\\n\\t\\tShuffled Maps =6\\n\\t\\tFailed Shuffles=0\\n\\t\\tMerged Map outputs=6\\n\\t\\tGC time elapsed (ms)=4388\\n\\t\\tCPU time spent (ms)=150860\\n\\t\\tPhysical memory (bytes) snapshot=4011819008\\n\\t\\tVirtual memory (bytes) snapshot=18447237120\\n\\t\\tTotal committed heap usage (bytes)=3255828480\\n\\t\\tPeak Map Physical memory (bytes)=613683200\\n\\t\\tPeak Map Virtual memory (bytes)=2644094976\\n\\t\\tPeak Reduce Physical memory (bytes)=421187584\\n\\t\\tPeak Reduce Virtual memory (bytes)=2602635264\\n\\tShuffle Errors\\n\\t\\tBAD_ID=0\\n\\t\\tCONNECTION=0\\n\\t\\tIO_ERROR=0\\n\\t\\tWRONG_LENGTH=0\\n\\t\\tWRONG_MAP=0\\n\\t\\tWRONG_REDUCE=0\\n\\tFile Input Format Counters \\n\\t\\tBytes Read=0\\n\\tFile Output Format Counters \\n\\t\\tBytes Written=7402170\\n\")\n"
     ]
    }
   ],
   "source": [
    "steam_01_jar_path = \"/data/master_volume/map_reduce_jars/steam_01_combine.jar\"\n",
    "steam_01_input_path = \"/datasets/steam-dataset/steam_dataset/appinfo/store_data/steam_store_data.jsonl\"\n",
    "steam_01_input_path2 = \"/datasets/steam-dataset/steam_dataset/steamspy/basic/steam_spy_scrap.jsonl\"\n",
    "steam_01_output_path = \"/out_steam_1\" + str(uuid.uuid4())\n",
    "\n",
    "res = run_in_master(f\"yarn jar {steam_01_jar_path} {steam_01_input_path} {steam_01_input_path2} {steam_01_output_path}\")\n",
    "\n",
    "print(res)"
   ]
  },
  {
   "cell_type": "code",
   "execution_count": 14,
   "metadata": {},
   "outputs": [
    {
     "name": "stdout",
     "output_type": "stream",
     "text": [
      "1\n"
     ]
    }
   ],
   "source": [
    "print(res.exit_code)"
   ]
  },
  {
   "cell_type": "code",
   "execution_count": 8,
   "metadata": {},
   "outputs": [
    {
     "name": "stdout",
     "output_type": "stream",
     "text": [
      "10\t{\"game_id\":10,\"name\":\"Counter-Strike\",\"positive\":196557,\"negative\":5070,\"owners\":\"10,000,000 .. 20,000,000\",\"ccu\":12877,\"release_date\":\"2000-11-01\"}\n",
      "1000000\t{\"game_id\":1000000,\"name\":\"ASCENXION\",\"positive\":27,\"negative\":5,\"owners\":\"0 .. 20,000\",\"ccu\":0,\"release_date\":\"2021-05-14\"}\n",
      "1000010\t{\"game_id\":1000010,\"name\":\"Crown Trick\",\"positive\":3809,\"negative\":583,\"owners\":\"200,000 .. 500,000\",\"ccu\":51,\"release_date\":\"2020-10-16\"}\n",
      "1000030\t{\"game_id\":1000030,\"name\":\"Cook, Serve, Delicious! 3?!\",\"positive\":1469,\"negative\":101,\"owners\":\"50,000 .. 100,000\",\"ccu\":54,\"release_date\":\"2020-10-14\"}\n",
      "1000040\t{\"game_id\":1000040,\"name\":\"细胞战争\",\"positive\":0,\"negative\":1,\"owners\":\"0 .. 20,000\",\"ccu\":0,\"release_date\":\"2019-03-30\"}\n",
      "1000080\t{\"game_id\":1000080,\"name\":\"Zengeon\",\"positive\":1011,\"negative\":431,\"owners\":\"50,000 .. 100,000\",\"ccu\":2,\"release_date\":\"2019-06-24\"}\n",
      "1000100\t{\"game_id\":1000100,\"name\":\"干支セトラ　陽ノ卷｜干支etc.　陽之卷\",\"positive\":18,\"negative\":6,\"owners\":\"0 .. 20,000\",\"ccu\":0,\"release_date\":\"2019-01-24\"}\n",
      "1000110\t{\"game_id\":1000110,\"name\":\"Jumping Master(跳跳大咖)\",\"positive\":51,\"negative\":34,\"owners\":\"20,000 .. 50,000\",\"ccu\":0,\"release_date\":\"2019-04-08\"}\n",
      "1000130\t{\"game_id\":1000130,\"name\":\"Cube Defender\",\"positive\":6,\"negative\":0,\"owners\":\"0 .. 20,000\",\"ccu\":0,\"release_date\":\"2019-01-06\"}\n",
      "1000280\t{\"game_id\":1000280,\"name\":\"Tower of Origin2-Worm's Nest\",\"positive\":31,\"negative\":11,\"owners\":\"0 .. 20,000\",\"ccu\":0,\"release_date\":\"2021-09-09\"}\n",
      "1000310\t{\"game_id\":1000310,\"name\":\"人气动漫大乱斗\",\"positive\":1,\"negative\":5,\"owners\":\"0 .. 20,000\",\"ccu\":0,\"release_date\":\"2019-12-17\"}\n",
      "1000360\t{\"game_id\":1000360,\"name\":\"Hellish Quart\",\"positive\":3628,\"negative\":256,\"owners\":\"100,000 .. 200,000\",\"ccu\":46,\"release_date\":\"2021-02-16\"}\n",
      "1000370\t{\"game_id\":1000370,\"name\":\"SurReal Subway\",\"positive\":0,\"negative\":1,\"owners\":\"0 .. 20,000\",\"ccu\":0,\"release_date\":\"2019-01-03\"}\n",
      "1000380\t{\"game_id\":1000380,\"name\":\"Rogue Reaper\",\"positive\":306,\"negative\":86,\"owners\":\"100,000 .. 200,000\",\"ccu\":0,\"release_date\":\"2019-02-01\"}\n",
      "1000410\t{\"game_id\":1000410,\"name\":\"WRATH: Aeon of Ruin\",\"positive\":1168,\"negative\":271,\"owners\":\"20,000 .. 50,000\",\"ccu\":2,\"release_date\":\"2019-11-22\"}\n",
      "1000470\t{\"game_id\":1000470,\"name\":\"Drawngeon: Dungeons of Ink and Paper\",\"positive\":55,\"negative\":13,\"owners\":\"20,000 .. 50,000\",\"ccu\":0,\"release_date\":\"2019-05-24\"}\n",
      "1000480\t{\"game_id\":1000480,\"name\":\"Battle Motion\",\"positive\":9,\"negative\":6,\"owners\":\"0 .. 20,000\",\"ccu\":0,\"release_date\":\"2019-02-04\"}\n",
      "1000500\t{\"game_id\":1000500,\"name\":\"Elden Gunfire : The Undisputables\",\"positive\":7,\"negative\":3,\"owners\":\"100,000 .. 200,000\",\"ccu\":0,\"release_date\":\"2021-12-05\"}\n",
      "1000510\t{\"game_id\":1000510,\"name\":\"The Marvellous Machine\",\"positive\":92,\"negative\":18,\"owners\":\"0 .. 20,000\",\"ccu\":0,\"release_date\":\"2019-02-11\"}\n",
      "1000540\t{\"game_id\":1000540,\"name\":\"Tactical Control\",\"positive\":53,\"negative\":12,\"owners\":\"20,000 .. 50,000\",\"ccu\":0,\"release_date\":\"2019-03-21\"}\n",
      "1000550\t{\"game_id\":1000550,\"name\":\"Love Hentai: Endgame\",\"positive\":0,\"negative\":0,\"owners\":\"0 .. 20,000\",\"ccu\":0,\"release_date\":\"2019-02-20\"}\n",
      "1000600\t{\"game_id\":1000600,\"name\":\"The ScreaMaze\",\"positive\":6,\"negative\":1,\"owners\":\"0 .. 20,000\",\"ccu\":0,\"release_date\":\"2019-01-10\"}\n",
      "1000650\t{\"game_id\":1000650,\"name\":\"Fist Of Heaven & Hell\",\"positive\":7,\"negative\":0,\"owners\":\"0 .. 20,000\",\"ccu\":0,\"release_date\":\"2019-06-28\"}\n",
      "1000750\t{\"game_id\":1000750,\"name\":\"Rotund Rebound\",\"positive\":5,\"negative\":0,\"owners\":\"0 .. 20,000\",\"ccu\":0,\"release_date\":\"2022-04-01\"}\n",
      "1000760\t{\"game_id\":1000760,\"name\":\"Foregone\",\"positive\":524,\"negative\":106,\"owners\":\"20,000 .. 50,000\",\"ccu\":2,\"release_date\":\"2021-03-01\"}\n",
      "1000770\t{\"game_id\":1000770,\"name\":\"Urban Tale\",\"positive\":89,\"negative\":31,\"owners\":\"0 .. 20,000\",\"ccu\":0,\"release_date\":\"2021-10-07\"}\n",
      "1000790\t{\"game_id\":1000790,\"name\":\"Flex Apocalypse Racing\",\"positive\":5,\"negative\":4,\"owners\":\"0 .. 20,000\",\"ccu\":0,\"release_date\":\"2019-01-01\"}\n",
      "1000810\t{\"game_id\":1000810,\"name\":\"RogueCraft Squadron\",\"positive\":5,\"negative\":1,\"owners\":\"0 .. 20,000\",\"ccu\":0,\"release_date\":\"2019-02-18\"}\n",
      "1000830\t{\"game_id\":1000830,\"name\":\"Gachi Finder 3000\",\"positive\":159,\"negative\":4,\"owners\":\"0 .. 20,000\",\"ccu\":0,\"release_date\":\"2019-01-08\"}\n",
      "1000860\t{\"game_id\":1000860,\"name\":\"Allspace\",\"positive\":40,\"negative\":19,\"owners\":\"0 .. 20,000\",\"ccu\":0,\"release_date\":\"2019-10-18\"}\n",
      "1000870\t{\"game_id\":1000870,\"name\":\"On Target VR Darts\",\"positive\":5,\"negative\":4,\"owners\":\"0 .. 20,000\",\"ccu\":0,\"release_date\":\"2020-12-22\"}\n",
      "1000880\t{\"game_id\":1000880,\"name\":\"REPTOMOM\",\"positive\":0,\"negative\":1,\"owners\":\"0 .. 20,000\",\"ccu\":0,\"release_date\":\"2020-09-10\"}\n",
      "1000900\t{\"game_id\":1000900,\"name\":\"Zero spring episode 3\",\"positive\":1,\"negative\":0,\"owners\":\"0 .. 20,000\",\"ccu\":0,\"release_date\":\"2019-01-10\"}\n",
      "1000980\t{\"game_id\":1000980,\"name\":\"Kill Tiger\",\"positive\":1,\"negative\":0,\"owners\":\"0 .. 20,000\",\"ccu\":0,\"release_date\":\"2019-03-01\"}\n",
      "1000990\t{\"game_id\":1000990,\"name\":\"Gun Beat\",\"positive\":8,\"negative\":3,\"owners\":\"0 .. 20,000\",\"ccu\":0,\"release_date\":\"2019-01-14\"}\n",
      "1001010\t{\"game_id\":1001010,\"name\":\"雪·疑 Sknow\",\"positive\":9,\"negative\":3,\"owners\":\"0 .. 20,000\",\"ccu\":0,\"release_date\":\"2019-05-19\"}\n",
      "1001040\t{\"game_id\":1001040,\"name\":\"Glorious Companions\",\"positive\":66,\"negative\":36,\"owners\":\"0 .. 20,000\",\"ccu\":0,\"release_date\":\"2019-06-04\"}\n",
      "1001100\t{\"game_id\":1001100,\"name\":\"Kooring VR Wonderland:Mecadino's Attack\",\"positive\":11,\"negative\":0,\"owners\":\"0 .. 20,000\",\"ccu\":0,\"release_date\":\"2020-10-09\"}\n",
      "1001140\t{\"game_id\":1001140,\"name\":\"Angry Birds VR: Isle of Pigs\",\"positive\":254,\"negative\":26,\"owners\":\"20,000 .. 50,000\",\"ccu\":3,\"release_date\":\"2019-02-07\"}\n",
      "1001170\t{\"game_id\":1001170,\"name\":\"Master Of Secrets: Dark Europe\",\"positive\":1,\"negative\":10,\"owners\":\"0 .. 20,000\",\"ccu\":0,\"release_date\":\"2019-06-25\"}\n",
      "1001200\t{\"game_id\":1001200,\"name\":\"ROWROW\",\"positive\":13,\"negative\":2,\"owners\":\"0 .. 20,000\",\"ccu\":0,\"release_date\":\"2019-01-31\"}\n",
      "1001230\t{\"game_id\":1001230,\"name\":\"Partial Control\",\"positive\":30,\"negative\":3,\"owners\":\"0 .. 20,000\",\"ccu\":0,\"release_date\":\"2019-06-14\"}\n",
      "1001240\t{\"game_id\":1001240,\"name\":\"VR Flight Simulator New York - Cessna\",\"positive\":10,\"negative\":13,\"owners\":\"0 .. 20,000\",\"ccu\":0,\"release_date\":\"2019-01-05\"}\n",
      "1001380\t{\"game_id\":1001380,\"name\":\"SNAILS\",\"positive\":5,\"negative\":3,\"owners\":\"0 .. 20,000\",\"ccu\":0,\"release_date\":\"2019-01-03\"}\n",
      "1001390\t{\"game_id\":1001390,\"name\":\"VireFit\",\"positive\":2,\"negative\":6,\"owners\":\"0 .. 20,000\",\"ccu\":0,\"release_date\":\"2019-03-25\"}\n",
      "1001430\t{\"game_id\":1001430,\"name\":\"Next Stop 3\",\"positive\":15,\"negative\":0,\"owners\":\"0 .. 20,000\",\"ccu\":0,\"release_date\":\"2019-03-09\"}\n",
      "1001450\t{\"game_id\":1001450,\"name\":\"The Town\",\"positive\":1,\"negative\":1,\"owners\":\"0 .. 20,000\",\"ccu\":0,\"release_date\":\"2019-01-22\"}\n",
      "1001490\t{\"game_id\":1001490,\"name\":\"Tower Behind the Moon\",\"positive\":8,\"negative\":6,\"owners\":\"0 .. 20,000\",\"ccu\":0,\"release_date\":\"2018-12-20\"}\n",
      "1001500\t{\"game_id\":1001500,\"name\":\"Chronicon Apocalyptica\",\"positive\":6,\"negative\":2,\"owners\":\"0 .. 20,000\",\"ccu\":0,\"release_date\":\"2019-01-11\"}\n",
      "1001550\t{\"game_id\":1001550,\"name\":\"In Orbit\",\"positive\":6,\"negative\":2,\"owners\":\"0 .. 20,000\",\"ccu\":0,\"release_date\":\"2019-01-18\"}\n",
      "1001570\t{\"game_id\":1001570,\"name\":\"GUIDE\",\"positive\":2,\"negative\":0,\"owners\":\"0 .. 20,000\",\"ccu\":0,\"release_date\":\"2019-04-16\"}\n",
      "1001590\t{\"game_id\":1001590,\"name\":\"Grab Lab\",\"positive\":8,\"negative\":0,\"owners\":\"0 .. 20,000\",\"ccu\":0,\"release_date\":\"2019-06-21\"}\n",
      "1001600\t{\"game_id\":1001600,\"name\":\"Diggerman\",\"positive\":29,\"negative\":2,\"owners\":\"0 .. 20,000\",\"ccu\":0,\"release_date\":\"2019-06-14\"}\n",
      "1001640\t{\"game_id\":1001640,\"name\":\"Where the Bees Make Honey\",\"positive\":23,\"negative\":34,\"owners\":\"0 .. 20,000\",\"ccu\":0,\"release_date\":\"2019-03-26\"}\n",
      "1001660\t{\"game_id\":1001660,\"name\":\"The Demon Crystal\",\"positive\":11,\"negative\":0,\"owners\":\"0 .. 20,000\",\"ccu\":0,\"release_date\":\"2019-03-28\"}\n",
      "1001690\t{\"game_id\":1001690,\"name\":\"Mars Flight VR\",\"positive\":5,\"negative\":1,\"owners\":\"0 .. 20,000\",\"ccu\":0,\"release_date\":\"2021-06-08\"}\n",
      "1001730\t{\"game_id\":1001730,\"name\":\"Twisting Mower\",\"positive\":1,\"negative\":0,\"owners\":\"0 .. 20,000\",\"ccu\":0,\"release_date\":\"2019-05-22\"}\n",
      "1001740\t{\"game_id\":1001740,\"name\":\"Diamonds\",\"positive\":4,\"negative\":0,\"owners\":\"0 .. 20,000\",\"ccu\":0,\"release_date\":\"2019-11-18\"}\n",
      "1001760\t{\"game_id\":1001760,\"name\":\"Xtreme League\",\"positive\":0,\"negative\":3,\"owners\":\"0 .. 20,000\",\"ccu\":0,\"release_date\":\"2019-03-07\"}\n",
      "1001800\t{\"game_id\":1001800,\"name\":\"KUNAI\",\"positive\":354,\"negative\":78,\"owners\":\"50,000 .. 100,000\",\"ccu\":1,\"release_date\":\"2020-02-06\"}\n",
      "1001810\t{\"game_id\":1001810,\"name\":\"Virus Expansion\",\"positive\":1,\"negative\":3,\"owners\":\"0 .. 20,000\",\"ccu\":0,\"release_date\":\"2019-03-29\"}\n",
      "1001860\t{\"game_id\":1001860,\"name\":\"Casual Desktop Game\",\"positive\":144,\"negative\":23,\"owners\":\"20,000 .. 50,000\",\"ccu\":0,\"release_date\":\"2020-02-14\"}\n",
      "1001870\t{\"game_id\":1001870,\"name\":\"RoboVirus\",\"positive\":29,\"negative\":1,\"owners\":\"0 .. 20,000\",\"ccu\":0,\"release_date\":\"2019-08-30\"}\n",
      "1001880\t{\"game_id\":1001880,\"name\":\"aMAZE Valentine\",\"positive\":45,\"negative\":10,\"owners\":\"0 .. 20,000\",\"ccu\":0,\"release_date\":\"2018-12-28\"}\n",
      "1001910\t{\"game_id\":1001910,\"name\":\"Fused\",\"positive\":6,\"negative\":3,\"owners\":\"0 .. 20,000\",\"ccu\":0,\"release_date\":\"2019-03-08\"}\n",
      "1001950\t{\"game_id\":1001950,\"name\":\"There Was A Dream\",\"positive\":10,\"negative\":5,\"owners\":\"0 .. 20,000\",\"ccu\":0,\"release_date\":\"2021-02-11\"}\n",
      "1001960\t{\"game_id\":1001960,\"name\":\"Zibbs - Alien Survival\",\"positive\":11,\"negative\":9,\"owners\":\"0 .. 20,000\",\"ccu\":0,\"release_date\":\"2020-11-08\"}\n",
      "1001970\t{\"game_id\":1001970,\"name\":\"Rhythmy\",\"positive\":28,\"negative\":2,\"owners\":\"0 .. 20,000\",\"ccu\":0,\"release_date\":\"2020-03-24\"}\n",
      "1001980\t{\"game_id\":1001980,\"name\":\"Archeo: Shinar\",\"positive\":80,\"negative\":20,\"owners\":\"0 .. 20,000\",\"ccu\":0,\"release_date\":\"2019-09-11\"}\n",
      "1001990\t{\"game_id\":1001990,\"name\":\"WARED\",\"positive\":1,\"negative\":4,\"owners\":\"20,000 .. 50,000\",\"ccu\":0,\"release_date\":\"2019-06-19\"}\n",
      "1002\t{\"game_id\":1002,\"name\":\"Rag Doll Kung Fu\",\"positive\":54,\"negative\":22,\"owners\":\"20,000 .. 50,000\",\"ccu\":0,\"release_date\":\"2005-10-12\"}\n"
     ]
    }
   ],
   "source": [
    "raw = run_in_master(f\"hdfs dfs -cat {steam_01_output_path}/part-r-00000\").output.decode('utf-8')\n",
    "print(f\"{raw[0:10000]}\")"
   ]
  },
  {
   "cell_type": "markdown",
   "metadata": {},
   "source": [
    "## Selekcja gier"
   ]
  },
  {
   "cell_type": "code",
   "execution_count": 9,
   "metadata": {},
   "outputs": [],
   "source": [
    "steam_02_jar_path = \"/data/master_volume/map_reduce_jars/steam_02_choose.jar\"\n",
    "steam_02_input_path = steam_01_output_path\n",
    "steam_02_output_path = \"/out_steam_2\" + str(uuid.uuid4())\n",
    "\n",
    "res = run_in_master(f\"yarn jar {steam_02_jar_path} {steam_02_input_path} {steam_02_output_path}\")"
   ]
  },
  {
   "cell_type": "code",
   "execution_count": 10,
   "metadata": {},
   "outputs": [
    {
     "name": "stdout",
     "output_type": "stream",
     "text": [
      "\n"
     ]
    }
   ],
   "source": [
    "raw = run_in_master(f\"hdfs dfs -cat {steam_02_output_path}/part-r-00000\").output.decode('utf-8')\n",
    "print(f\"{raw[0:10000]}\")"
   ]
  },
  {
   "cell_type": "markdown",
   "metadata": {},
   "source": [
    "## Wybór pierwszych N gier"
   ]
  },
  {
   "cell_type": "code",
   "execution_count": null,
   "metadata": {},
   "outputs": [],
   "source": [
    "steam_03_jar_path = \"/data/master_volume/map_reduce_jars/steam_03.jar\"\n",
    "steam_03_input_path = steam_02_output_path\n",
    "steam_03_output_path = \"/out_steam_3\" + str(uuid.uuid4())\n",
    "\n",
    "res = run_in_master(f\"yarn jar {steam_03_jar_path} {steam_03_input_path} {steam_03_output_path}\")"
   ]
  },
  {
   "cell_type": "markdown",
   "metadata": {},
   "source": [
    "## Pobranie danych ze Steam Charts API"
   ]
  },
  {
   "cell_type": "code",
   "execution_count": null,
   "metadata": {},
   "outputs": [],
   "source": [
    "steam_04_jar_path = \"/data/master_volume/map_reduce_jars/steam_04.jar\"\n",
    "steam_04_input_path = steam_03_output_path\n",
    "steam_04_output_path = \"/out_steam_4\" + str(uuid.uuid4())\n",
    "\n",
    "res = run_in_master(f\"yarn jar {steam_04_jar_path} {steam_04_input_path} {steam_04_output_path}\")"
   ]
  }
 ],
 "metadata": {
  "kernelspec": {
   "display_name": "Python 3 (ipykernel)",
   "language": "python",
   "name": "python3"
  },
  "language_info": {
   "codemirror_mode": {
    "name": "ipython",
    "version": 3
   },
   "file_extension": ".py",
   "mimetype": "text/x-python",
   "name": "python",
   "nbconvert_exporter": "python",
   "pygments_lexer": "ipython3",
   "version": "3.11.3"
  }
 },
 "nbformat": 4,
 "nbformat_minor": 2
}
