{
 "cells": [
  {
   "cell_type": "code",
   "execution_count": 1,
   "metadata": {},
   "outputs": [],
   "source": [
    "import docker\n",
    "import uuid\n",
    "\n",
    "def run_in_master(command):\n",
    "    client = docker.from_env()\n",
    "    container = client.containers.get('master')\n",
    "    return container.exec_run(command)\n",
    "\n",
    "def get_data_from_output_path(path):\n",
    "    return f\"{path}/part-r-00000\"\n",
    "\n",
    "def print_hdfs_output(path):\n",
    "    raw = run_in_master(f\"hdfs dfs -cat {get_data_from_output_path(path)}\").output.decode('utf-8')\n",
    "    print(f\"{raw[0:10000]}\")\n",
    "    \n"
   ]
  },
  {
   "cell_type": "markdown",
   "metadata": {},
   "source": [
    "# Covid"
   ]
  },
  {
   "cell_type": "markdown",
   "metadata": {},
   "source": [
    "## Wybór kolumn"
   ]
  },
  {
   "cell_type": "code",
   "execution_count": 2,
   "metadata": {},
   "outputs": [
    {
     "name": "stdout",
     "output_type": "stream",
     "text": [
      "True\n"
     ]
    }
   ],
   "source": [
    "covid_01_jar_path = \"/data/master_volume/map_reduce_jars/covid_01.jar\"\n",
    "covid_01_input_path = \"/datasets/covid-dataset.jsonl\"\n",
    "covid_01_output_path = \"/out_covid_1\" + str(uuid.uuid4())\n",
    "\n",
    "res = run_in_master(f\"yarn jar {covid_01_jar_path} {covid_01_input_path} {covid_01_output_path}\")\n",
    "print(res.exit_code == 0)"
   ]
  },
  {
   "cell_type": "code",
   "execution_count": 5,
   "metadata": {},
   "outputs": [
    {
     "name": "stdout",
     "output_type": "stream",
     "text": [
      "id\t{\"date\":\"2023-04-19\",\"country\":\"Zimbabwe\",\"total_cases\":264613,\"new_cases\":0,\"total_deaths\":264613,\"new_deaths\":0,\"average_global_new_cases_per_million\":160.28056}\n",
      "id\t{\"date\":\"2023-04-18\",\"country\":\"Zimbabwe\",\"total_cases\":264613,\"new_cases\":0,\"total_deaths\":264613,\"new_deaths\":0,\"average_global_new_cases_per_million\":160.28056}\n",
      "id\t{\"date\":\"2023-04-17\",\"country\":\"Zimbabwe\",\"total_cases\":264613,\"new_cases\":3,\"total_deaths\":264613,\"new_deaths\":0,\"average_global_new_cases_per_million\":160.28056}\n",
      "id\t{\"date\":\"2023-04-16\",\"country\":\"Zimbabwe\",\"total_cases\":264610,\"new_cases\":3,\"total_deaths\":264610,\"new_deaths\":0,\"average_global_new_cases_per_million\":160.28056}\n",
      "id\t{\"date\":\"2023-04-15\",\"country\":\"Zimbabwe\",\"total_cases\":264607,\"new_cases\":10,\"total_deaths\":264607,\"new_deaths\":0,\"average_global_new_cases_per_million\":160.28056}\n",
      "id\t{\"date\":\"2023-04-14\",\"country\":\"Zimbabwe\",\"total_cases\":264597,\"new_cases\":4,\"total_deaths\":264597,\"new_deaths\":0,\"average_global_new_cases_per_million\":160.28056}\n",
      "id\t{\"date\":\"2023-04-13\",\"country\":\"Zimbabwe\",\"total_cases\":264593,\"new_cases\":2,\"total_deaths\":264593,\"new_deaths\":0,\"average_global_new_cases_per_million\":160.28056}\n",
      "id\t{\"date\":\"2023-04-12\",\"country\":\"Zimbabwe\",\"total_cases\":264591,\"new_cases\":5,\"total_deaths\":264591,\"new_deaths\":0,\"average_global_new_cases_per_million\":160.28056}\n",
      "id\t{\"date\":\"2023-04-11\",\"country\":\"Zimbabwe\",\"total_cases\":264586,\"new_cases\":2,\"total_deaths\":264586,\"new_deaths\":0,\"average_global_new_cases_per_million\":160.28056}\n",
      "id\t{\"date\":\"2023-04-10\",\"country\":\"Zimbabwe\",\"total_cases\":264584,\"new_cases\":2,\"total_deaths\":264584,\"new_deaths\":0,\"average_global_new_cases_per_million\":160.28056}\n",
      "id\t{\"date\":\"2023-04-09\",\"country\":\"Zimbabwe\",\"total_cases\":264582,\"new_cases\":4,\"total_deaths\":264582,\"new_deaths\":0,\"average_global_new_cases_per_million\":160.28056}\n",
      "id\t{\"date\":\"2023-04-08\",\"country\":\"Zimbabwe\",\"total_cases\":264578,\"new_cases\":2,\"total_deaths\":264578,\"new_deaths\":1,\"average_global_new_cases_per_million\":160.28056}\n",
      "id\t{\"date\":\"2023-04-07\",\"country\":\"Zimbabwe\",\"total_cases\":264576,\"new_cases\":5,\"total_deaths\":264576,\"new_deaths\":1,\"average_global_new_cases_per_million\":160.28056}\n",
      "id\t{\"date\":\"2023-04-06\",\"country\":\"Zimbabwe\",\"total_cases\":264571,\"new_cases\":5,\"total_deaths\":264571,\"new_deaths\":1,\"average_global_new_cases_per_million\":160.28056}\n",
      "id\t{\"date\":\"2023-04-05\",\"country\":\"Zimbabwe\",\"total_cases\":264566,\"new_cases\":4,\"total_deaths\":264566,\"new_deaths\":1,\"average_global_new_cases_per_million\":160.28056}\n",
      "id\t{\"date\":\"2023-04-04\",\"country\":\"Zimbabwe\",\"total_cases\":264562,\"new_cases\":7,\"total_deaths\":264562,\"new_deaths\":0,\"average_global_new_cases_per_million\":160.28056}\n",
      "id\t{\"date\":\"2023-04-03\",\"country\":\"Zimbabwe\",\"total_cases\":264555,\"new_cases\":6,\"total_deaths\":264555,\"new_deaths\":0,\"average_global_new_cases_per_million\":160.28056}\n",
      "id\t{\"date\":\"2023-04-02\",\"country\":\"Zimbabwe\",\"total_cases\":264549,\"new_cases\":0,\"total_deaths\":264549,\"new_deaths\":0,\"average_global_new_cases_per_million\":160.28056}\n",
      "id\t{\"date\":\"2023-04-01\",\"country\":\"Zimbabwe\",\"total_cases\":264549,\"new_cases\":7,\"total_deaths\":264549,\"new_deaths\":0,\"average_global_new_cases_per_million\":160.28056}\n",
      "id\t{\"date\":\"2023-03-31\",\"country\":\"Zimbabwe\",\"total_cases\":264542,\"new_cases\":7,\"total_deaths\":264542,\"new_deaths\":1,\"average_global_new_cases_per_million\":160.28056}\n",
      "id\t{\"date\":\"2023-03-30\",\"country\":\"Zimbabwe\",\"total_cases\":264535,\"new_cases\":5,\"total_deaths\":264535,\"new_deaths\":0,\"average_global_new_cases_per_million\":160.28056}\n",
      "id\t{\"date\":\"2023-03-29\",\"country\":\"Zimbabwe\",\"total_cases\":264530,\"new_cases\":9,\"total_deaths\":264530,\"new_deaths\":0,\"average_global_new_cases_per_million\":160.28056}\n",
      "id\t{\"date\":\"2023-03-28\",\"country\":\"Zimbabwe\",\"total_cases\":264521,\"new_cases\":10,\"total_deaths\":264521,\"new_deaths\":1,\"average_global_new_cases_per_million\":160.28056}\n",
      "id\t{\"date\":\"2023-03-27\",\"country\":\"Zimbabwe\",\"total_cases\":264511,\"new_cases\":2,\"total_deaths\":264511,\"new_deaths\":0,\"average_global_new_cases_per_million\":160.28056}\n",
      "id\t{\"date\":\"2023-03-26\",\"country\":\"Zimbabwe\",\"total_cases\":264509,\"new_cases\":1,\"total_deaths\":264509,\"new_deaths\":0,\"average_global_new_cases_per_million\":160.28056}\n",
      "id\t{\"date\":\"2023-03-25\",\"country\":\"Zimbabwe\",\"total_cases\":264508,\"new_cases\":4,\"total_deaths\":264508,\"new_deaths\":0,\"average_global_new_cases_per_million\":160.28056}\n",
      "id\t{\"date\":\"2023-03-24\",\"country\":\"Zimbabwe\",\"total_cases\":264504,\"new_cases\":14,\"total_deaths\":264504,\"new_deaths\":0,\"average_global_new_cases_per_million\":160.28056}\n",
      "id\t{\"date\":\"2023-03-23\",\"country\":\"Zimbabwe\",\"total_cases\":264490,\"new_cases\":15,\"total_deaths\":264490,\"new_deaths\":0,\"average_global_new_cases_per_million\":160.28056}\n",
      "id\t{\"date\":\"2023-03-22\",\"country\":\"Zimbabwe\",\"total_cases\":264475,\"new_cases\":5,\"total_deaths\":264475,\"new_deaths\":1,\"average_global_new_cases_per_million\":160.28056}\n",
      "id\t{\"date\":\"2023-03-21\",\"country\":\"Zimbabwe\",\"total_cases\":264470,\"new_cases\":14,\"total_deaths\":264470,\"new_deaths\":0,\"average_global_new_cases_per_million\":160.28056}\n",
      "id\t{\"date\":\"2023-03-20\",\"country\":\"Zimbabwe\",\"total_cases\":264456,\"new_cases\":8,\"total_deaths\":264456,\"new_deaths\":0,\"average_global_new_cases_per_million\":160.28056}\n",
      "id\t{\"date\":\"2023-03-19\",\"country\":\"Zimbabwe\",\"total_cases\":264448,\"new_cases\":7,\"total_deaths\":264448,\"new_deaths\":1,\"average_global_new_cases_per_million\":160.28056}\n",
      "id\t{\"date\":\"2023-03-18\",\"country\":\"Zimbabwe\",\"total_cases\":264441,\"new_cases\":10,\"total_deaths\":264441,\"new_deaths\":1,\"average_global_new_cases_per_million\":160.28056}\n",
      "id\t{\"date\":\"2023-03-17\",\"country\":\"Zimbabwe\",\"total_cases\":264431,\"new_cases\":17,\"total_deaths\":264431,\"new_deaths\":0,\"average_global_new_cases_per_million\":160.28056}\n",
      "id\t{\"date\":\"2023-03-16\",\"country\":\"Zimbabwe\",\"total_cases\":264414,\"new_cases\":2,\"total_deaths\":264414,\"new_deaths\":1,\"average_global_new_cases_per_million\":160.28056}\n",
      "id\t{\"date\":\"2023-03-15\",\"country\":\"Zimbabwe\",\"total_cases\":264412,\"new_cases\":7,\"total_deaths\":264412,\"new_deaths\":0,\"average_global_new_cases_per_million\":160.28056}\n",
      "id\t{\"date\":\"2023-03-14\",\"country\":\"Zimbabwe\",\"total_cases\":264405,\"new_cases\":14,\"total_deaths\":264405,\"new_deaths\":3,\"average_global_new_cases_per_million\":160.28056}\n",
      "id\t{\"date\":\"2023-03-13\",\"country\":\"Zimbabwe\",\"total_cases\":264391,\"new_cases\":6,\"total_deaths\":264391,\"new_deaths\":0,\"average_global_new_cases_per_million\":160.28056}\n",
      "id\t{\"date\":\"2023-03-12\",\"country\":\"Zimbabwe\",\"total_cases\":264385,\"new_cases\":13,\"total_deaths\":264385,\"new_deaths\":0,\"average_global_new_cases_per_million\":160.28056}\n",
      "id\t{\"date\":\"2023-03-11\",\"country\":\"Zimbabwe\",\"total_cases\":264372,\"new_cases\":20,\"total_deaths\":264372,\"new_deaths\":0,\"average_global_new_cases_per_million\":160.28056}\n",
      "id\t{\"date\":\"2023-03-10\",\"country\":\"Zimbabwe\",\"total_cases\":264352,\"new_cases\":20,\"total_deaths\":264352,\"new_deaths\":0,\"average_global_new_cases_per_million\":160.28056}\n",
      "id\t{\"date\":\"2023-03-09\",\"country\":\"Zimbabwe\",\"total_cases\":264332,\"new_cases\":17,\"total_deaths\":264332,\"new_deaths\":0,\"average_global_new_cases_per_million\":160.28056}\n",
      "id\t{\"date\":\"2023-03-08\",\"country\":\"Zimbabwe\",\"total_cases\":264315,\"new_cases\":28,\"total_deaths\":264315,\"new_deaths\":1,\"average_global_new_cases_per_million\":160.28056}\n",
      "id\t{\"date\":\"2023-03-07\",\"country\":\"Zimbabwe\",\"total_cases\":264287,\"new_cases\":11,\"total_deaths\":264287,\"new_deaths\":0,\"average_global_new_cases_per_million\":160.28056}\n",
      "id\t{\"date\":\"2023-03-06\",\"country\":\"Zimbabwe\",\"total_cases\":264276,\"new_cases\":6,\"total_deaths\":264276,\"new_deaths\":0,\"average_global_new_cases_per_million\":160.28056}\n",
      "id\t{\"date\":\"2023-03-05\",\"country\":\"Zimbabwe\",\"total_cases\":264270,\"new_cases\":11,\"total_deaths\":264270,\"new_deaths\":0,\"average_global_new_cases_per_million\":160.28056}\n",
      "id\t{\"date\":\"2023-03-04\",\"country\":\"Zimbabwe\",\"total_cases\":264259,\"new_cases\":15,\"total_deaths\":264259,\"new_deaths\":0,\"average_global_new_cases_per_million\":160.28056}\n",
      "id\t{\"date\":\"2023-03-03\",\"country\":\"Zimbabwe\",\"total_cases\":264244,\"new_cases\":29,\"total_deaths\":264244,\"new_deaths\":1,\"average_global_new_cases_per_million\":160.28056}\n",
      "id\t{\"date\":\"2023-03-02\",\"country\":\"Zimbabwe\",\"total_cases\":264215,\"new_cases\":36,\"total_deaths\":264215,\"new_deaths\":1,\"average_global_new_cases_per_million\":160.28056}\n",
      "id\t{\"date\":\"2023-03-01\",\"country\":\"Zimbabwe\",\"total_cases\":264179,\"new_cases\":30,\"total_deaths\":264179,\"new_deaths\":0,\"average_global_new_cases_per_million\":160.28056}\n",
      "id\t{\"date\":\"2023-02-28\",\"country\":\"Zimbabwe\",\"total_cases\":264149,\"new_cases\":22,\"total_deaths\":264149,\"new_deaths\":1,\"average_global_new_cases_per_million\":160.28056}\n",
      "id\t{\"date\":\"2023-02-27\",\"country\":\"Zimbabwe\",\"total_cases\":264127,\"new_cases\":19,\"total_deaths\":264127,\"new_deaths\":0,\"average_global_new_cases_per_million\":160.28056}\n",
      "id\t{\"date\":\"2023-02-26\",\"country\":\"Zimbabwe\",\"total_cases\":264108,\"new_cases\":13,\"total_deaths\":264108,\"new_deaths\":0,\"average_global_new_cases_per_million\":160.28056}\n",
      "id\t{\"date\":\"2023-02-25\",\"country\":\"Zimbabwe\",\"total_cases\":264095,\"new_cases\":49,\"total_deaths\":264095,\"new_deaths\":0,\"average_global_new_cases_per_million\":160.28056}\n",
      "id\t{\"date\":\"2023-02-24\",\"country\":\"Zimbabwe\",\"total_cases\":264046,\"new_cases\":35,\"total_deaths\":264046,\"new_deaths\":4,\"average_global_new_cases_per_million\":160.28056}\n",
      "id\t{\"date\":\"2023-02-23\",\"country\":\"Zimbabwe\",\"total_cases\":264011,\"new_cases\":48,\"total_deaths\":264011,\"new_deaths\":1,\"average_global_new_cases_per_million\":160.28056}\n",
      "id\t{\"date\":\"2023-02-22\",\"country\":\"Zimbabwe\",\"total_cases\":263963,\"new_cases\":17,\"total_deaths\":263963,\"new_deaths\":0,\"average_global_new_cases_per_million\":160.28056}\n",
      "id\t{\"date\":\"2023-02-21\",\"country\":\"Zimbabwe\",\"total_cases\":263946,\"new_cases\":25,\"total_deaths\":263946,\"new_deaths\":0,\"average_global_new_cases_per_million\":160.28056}\n",
      "id\t{\"date\":\"2023-02-20\",\"country\":\"Zimbabwe\",\"total_cases\":263921,\"new_cases\":19,\"total_deaths\":263921,\"new_deaths\":0,\"average_global_new_cases_per_million\":160.28056}\n",
      "id\t{\"date\":\"2023-02-19\",\"country\":\"Zimbabwe\",\"total_cases\":263902,\"new_cases\":15,\"total_deaths\":263902,\"new_deaths\":1,\"\n"
     ]
    }
   ],
   "source": [
    "print_hdfs_output(covid_01_output_path)"
   ]
  },
  {
   "cell_type": "markdown",
   "metadata": {},
   "source": [
    "## Wybór wymiaru czasu"
   ]
  },
  {
   "cell_type": "code",
   "execution_count": 21,
   "metadata": {},
   "outputs": [
    {
     "name": "stdout",
     "output_type": "stream",
     "text": [
      "True\n"
     ]
    }
   ],
   "source": [
    "covid_02_jar_path = \"/data/master_volume/map_reduce_jars/covid_02.jar\"\n",
    "covid_02_input_path = get_data_from_output_path(covid_01_output_path)\n",
    "covid_02_output_path = \"/out_covid_2\" + str(uuid.uuid4())\n",
    "\n",
    "res = run_in_master(f\"yarn jar {covid_02_jar_path} {covid_02_input_path} {covid_02_output_path}\")\n",
    "print(res.exit_code == 0)"
   ]
  },
  {
   "cell_type": "code",
   "execution_count": null,
   "metadata": {},
   "outputs": [],
   "source": [
    "print_hdfs_output(covid_02_output_path)"
   ]
  },
  {
   "cell_type": "markdown",
   "metadata": {},
   "source": [
    "# Steam"
   ]
  },
  {
   "cell_type": "markdown",
   "metadata": {},
   "source": [
    "## Agregacja danych ze źródeł Steam"
   ]
  },
  {
   "cell_type": "code",
   "execution_count": 3,
   "metadata": {},
   "outputs": [
    {
     "name": "stdout",
     "output_type": "stream",
     "text": [
      "True\n"
     ]
    }
   ],
   "source": [
    "steam_01_jar_path = \"/data/master_volume/map_reduce_jars/steam_01_combine.jar\"\n",
    "steam_01_input_path = \"/datasets/steam-dataset/steam_dataset/appinfo/store_data/steam_store_data.jsonl\"\n",
    "steam_01_input_path2 = \"/datasets/steam-dataset/steam_dataset/steamspy/basic/steam_spy_scrap.jsonl\"\n",
    "steam_01_output_path = \"/out_steam_1\" + str(uuid.uuid4())\n",
    "\n",
    "res = run_in_master(f\"yarn jar {steam_01_jar_path} {steam_01_input_path} {steam_01_input_path2} {steam_01_output_path}\")\n",
    "print(res.exit_code == 0)"
   ]
  },
  {
   "cell_type": "code",
   "execution_count": 4,
   "metadata": {},
   "outputs": [
    {
     "name": "stdout",
     "output_type": "stream",
     "text": [
      "10\t{\"game_id\":10,\"name\":\"Counter-Strike\",\"positive\":196557,\"negative\":5070,\"owners\":\"10,000,000 .. 20,000,000\",\"ccu\":12877,\"release_date\":\"2000-11-01\"}\n",
      "1000000\t{\"game_id\":1000000,\"name\":\"ASCENXION\",\"positive\":27,\"negative\":5,\"owners\":\"0 .. 20,000\",\"ccu\":0,\"release_date\":\"2021-05-14\"}\n",
      "1000010\t{\"game_id\":1000010,\"name\":\"Crown Trick\",\"positive\":3809,\"negative\":583,\"owners\":\"200,000 .. 500,000\",\"ccu\":51,\"release_date\":\"2020-10-16\"}\n",
      "1000030\t{\"game_id\":1000030,\"name\":\"Cook, Serve, Delicious! 3?!\",\"positive\":1469,\"negative\":101,\"owners\":\"50,000 .. 100,000\",\"ccu\":54,\"release_date\":\"2020-10-14\"}\n",
      "1000040\t{\"game_id\":1000040,\"name\":\"细胞战争\",\"positive\":0,\"negative\":1,\"owners\":\"0 .. 20,000\",\"ccu\":0,\"release_date\":\"2019-03-30\"}\n",
      "1000080\t{\"game_id\":1000080,\"name\":\"Zengeon\",\"positive\":1011,\"negative\":431,\"owners\":\"50,000 .. 100,000\",\"ccu\":2,\"release_date\":\"2019-06-24\"}\n",
      "1000100\t{\"game_id\":1000100,\"name\":\"干支セトラ　陽ノ卷｜干支etc.　陽之卷\",\"positive\":18,\"negative\":6,\"owners\":\"0 .. 20,000\",\"ccu\":0,\"release_date\":\"2019-01-24\"}\n",
      "1000110\t{\"game_id\":1000110,\"name\":\"Jumping Master(跳跳大咖)\",\"positive\":51,\"negative\":34,\"owners\":\"20,000 .. 50,000\",\"ccu\":0,\"release_date\":\"2019-04-08\"}\n",
      "1000130\t{\"game_id\":1000130,\"name\":\"Cube Defender\",\"positive\":6,\"negative\":0,\"owners\":\"0 .. 20,000\",\"ccu\":0,\"release_date\":\"2019-01-06\"}\n",
      "1000280\t{\"game_id\":1000280,\"name\":\"Tower of Origin2-Worm's Nest\",\"positive\":31,\"negative\":11,\"owners\":\"0 .. 20,000\",\"ccu\":0,\"release_date\":\"2021-09-09\"}\n",
      "1000310\t{\"game_id\":1000310,\"name\":\"人气动漫大乱斗\",\"positive\":1,\"negative\":5,\"owners\":\"0 .. 20,000\",\"ccu\":0,\"release_date\":\"2019-12-17\"}\n",
      "1000360\t{\"game_id\":1000360,\"name\":\"Hellish Quart\",\"positive\":3628,\"negative\":256,\"owners\":\"100,000 .. 200,000\",\"ccu\":46,\"release_date\":\"2021-02-16\"}\n",
      "1000370\t{\"game_id\":1000370,\"name\":\"SurReal Subway\",\"positive\":0,\"negative\":1,\"owners\":\"0 .. 20,000\",\"ccu\":0,\"release_date\":\"2019-01-03\"}\n",
      "1000380\t{\"game_id\":1000380,\"name\":\"Rogue Reaper\",\"positive\":306,\"negative\":86,\"owners\":\"100,000 .. 200,000\",\"ccu\":0,\"release_date\":\"2019-02-01\"}\n",
      "1000410\t{\"game_id\":1000410,\"name\":\"WRATH: Aeon of Ruin\",\"positive\":1168,\"negative\":271,\"owners\":\"20,000 .. 50,000\",\"ccu\":2,\"release_date\":\"2019-11-22\"}\n",
      "1000470\t{\"game_id\":1000470,\"name\":\"Drawngeon: Dungeons of Ink and Paper\",\"positive\":55,\"negative\":13,\"owners\":\"20,000 .. 50,000\",\"ccu\":0,\"release_date\":\"2019-05-24\"}\n",
      "1000480\t{\"game_id\":1000480,\"name\":\"Battle Motion\",\"positive\":9,\"negative\":6,\"owners\":\"0 .. 20,000\",\"ccu\":0,\"release_date\":\"2019-02-04\"}\n",
      "1000500\t{\"game_id\":1000500,\"name\":\"Elden Gunfire : The Undisputables\",\"positive\":7,\"negative\":3,\"owners\":\"100,000 .. 200,000\",\"ccu\":0,\"release_date\":\"2021-12-05\"}\n",
      "1000510\t{\"game_id\":1000510,\"name\":\"The Marvellous Machine\",\"positive\":92,\"negative\":18,\"owners\":\"0 .. 20,000\",\"ccu\":0,\"release_date\":\"2019-02-11\"}\n",
      "1000540\t{\"game_id\":1000540,\"name\":\"Tactical Control\",\"positive\":53,\"negative\":12,\"owners\":\"20,000 .. 50,000\",\"ccu\":0,\"release_date\":\"2019-03-21\"}\n",
      "1000550\t{\"game_id\":1000550,\"name\":\"Love Hentai: Endgame\",\"positive\":0,\"negative\":0,\"owners\":\"0 .. 20,000\",\"ccu\":0,\"release_date\":\"2019-02-20\"}\n",
      "1000600\t{\"game_id\":1000600,\"name\":\"The ScreaMaze\",\"positive\":6,\"negative\":1,\"owners\":\"0 .. 20,000\",\"ccu\":0,\"release_date\":\"2019-01-10\"}\n",
      "1000650\t{\"game_id\":1000650,\"name\":\"Fist Of Heaven & Hell\",\"positive\":7,\"negative\":0,\"owners\":\"0 .. 20,000\",\"ccu\":0,\"release_date\":\"2019-06-28\"}\n",
      "1000750\t{\"game_id\":1000750,\"name\":\"Rotund Rebound\",\"positive\":5,\"negative\":0,\"owners\":\"0 .. 20,000\",\"ccu\":0,\"release_date\":\"2022-04-01\"}\n",
      "1000760\t{\"game_id\":1000760,\"name\":\"Foregone\",\"positive\":524,\"negative\":106,\"owners\":\"20,000 .. 50,000\",\"ccu\":2,\"release_date\":\"2021-03-01\"}\n",
      "1000770\t{\"game_id\":1000770,\"name\":\"Urban Tale\",\"positive\":89,\"negative\":31,\"owners\":\"0 .. 20,000\",\"ccu\":0,\"release_date\":\"2021-10-07\"}\n",
      "1000790\t{\"game_id\":1000790,\"name\":\"Flex Apocalypse Racing\",\"positive\":5,\"negative\":4,\"owners\":\"0 .. 20,000\",\"ccu\":0,\"release_date\":\"2019-01-01\"}\n",
      "1000810\t{\"game_id\":1000810,\"name\":\"RogueCraft Squadron\",\"positive\":5,\"negative\":1,\"owners\":\"0 .. 20,000\",\"ccu\":0,\"release_date\":\"2019-02-18\"}\n",
      "1000830\t{\"game_id\":1000830,\"name\":\"Gachi Finder 3000\",\"positive\":159,\"negative\":4,\"owners\":\"0 .. 20,000\",\"ccu\":0,\"release_date\":\"2019-01-08\"}\n",
      "1000860\t{\"game_id\":1000860,\"name\":\"Allspace\",\"positive\":40,\"negative\":19,\"owners\":\"0 .. 20,000\",\"ccu\":0,\"release_date\":\"2019-10-18\"}\n",
      "1000870\t{\"game_id\":1000870,\"name\":\"On Target VR Darts\",\"positive\":5,\"negative\":4,\"owners\":\"0 .. 20,000\",\"ccu\":0,\"release_date\":\"2020-12-22\"}\n",
      "1000880\t{\"game_id\":1000880,\"name\":\"REPTOMOM\",\"positive\":0,\"negative\":1,\"owners\":\"0 .. 20,000\",\"ccu\":0,\"release_date\":\"2020-09-10\"}\n",
      "1000900\t{\"game_id\":1000900,\"name\":\"Zero spring episode 3\",\"positive\":1,\"negative\":0,\"owners\":\"0 .. 20,000\",\"ccu\":0,\"release_date\":\"2019-01-10\"}\n",
      "1000980\t{\"game_id\":1000980,\"name\":\"Kill Tiger\",\"positive\":1,\"negative\":0,\"owners\":\"0 .. 20,000\",\"ccu\":0,\"release_date\":\"2019-03-01\"}\n",
      "1000990\t{\"game_id\":1000990,\"name\":\"Gun Beat\",\"positive\":8,\"negative\":3,\"owners\":\"0 .. 20,000\",\"ccu\":0,\"release_date\":\"2019-01-14\"}\n",
      "1001010\t{\"game_id\":1001010,\"name\":\"雪·疑 Sknow\",\"positive\":9,\"negative\":3,\"owners\":\"0 .. 20,000\",\"ccu\":0,\"release_date\":\"2019-05-19\"}\n",
      "1001040\t{\"game_id\":1001040,\"name\":\"Glorious Companions\",\"positive\":66,\"negative\":36,\"owners\":\"0 .. 20,000\",\"ccu\":0,\"release_date\":\"2019-06-04\"}\n",
      "1001100\t{\"game_id\":1001100,\"name\":\"Kooring VR Wonderland:Mecadino's Attack\",\"positive\":11,\"negative\":0,\"owners\":\"0 .. 20,000\",\"ccu\":0,\"release_date\":\"2020-10-09\"}\n",
      "1001140\t{\"game_id\":1001140,\"name\":\"Angry Birds VR: Isle of Pigs\",\"positive\":254,\"negative\":26,\"owners\":\"20,000 .. 50,000\",\"ccu\":3,\"release_date\":\"2019-02-07\"}\n",
      "1001170\t{\"game_id\":1001170,\"name\":\"Master Of Secrets: Dark Europe\",\"positive\":1,\"negative\":10,\"owners\":\"0 .. 20,000\",\"ccu\":0,\"release_date\":\"2019-06-25\"}\n",
      "1001200\t{\"game_id\":1001200,\"name\":\"ROWROW\",\"positive\":13,\"negative\":2,\"owners\":\"0 .. 20,000\",\"ccu\":0,\"release_date\":\"2019-01-31\"}\n",
      "1001230\t{\"game_id\":1001230,\"name\":\"Partial Control\",\"positive\":30,\"negative\":3,\"owners\":\"0 .. 20,000\",\"ccu\":0,\"release_date\":\"2019-06-14\"}\n",
      "1001240\t{\"game_id\":1001240,\"name\":\"VR Flight Simulator New York - Cessna\",\"positive\":10,\"negative\":13,\"owners\":\"0 .. 20,000\",\"ccu\":0,\"release_date\":\"2019-01-05\"}\n",
      "1001380\t{\"game_id\":1001380,\"name\":\"SNAILS\",\"positive\":5,\"negative\":3,\"owners\":\"0 .. 20,000\",\"ccu\":0,\"release_date\":\"2019-01-03\"}\n",
      "1001390\t{\"game_id\":1001390,\"name\":\"VireFit\",\"positive\":2,\"negative\":6,\"owners\":\"0 .. 20,000\",\"ccu\":0,\"release_date\":\"2019-03-25\"}\n",
      "1001430\t{\"game_id\":1001430,\"name\":\"Next Stop 3\",\"positive\":15,\"negative\":0,\"owners\":\"0 .. 20,000\",\"ccu\":0,\"release_date\":\"2019-03-09\"}\n",
      "1001450\t{\"game_id\":1001450,\"name\":\"The Town\",\"positive\":1,\"negative\":1,\"owners\":\"0 .. 20,000\",\"ccu\":0,\"release_date\":\"2019-01-22\"}\n",
      "1001490\t{\"game_id\":1001490,\"name\":\"Tower Behind the Moon\",\"positive\":8,\"negative\":6,\"owners\":\"0 .. 20,000\",\"ccu\":0,\"release_date\":\"2018-12-20\"}\n",
      "1001500\t{\"game_id\":1001500,\"name\":\"Chronicon Apocalyptica\",\"positive\":6,\"negative\":2,\"owners\":\"0 .. 20,000\",\"ccu\":0,\"release_date\":\"2019-01-11\"}\n",
      "1001550\t{\"game_id\":1001550,\"name\":\"In Orbit\",\"positive\":6,\"negative\":2,\"owners\":\"0 .. 20,000\",\"ccu\":0,\"release_date\":\"2019-01-18\"}\n",
      "1001570\t{\"game_id\":1001570,\"name\":\"GUIDE\",\"positive\":2,\"negative\":0,\"owners\":\"0 .. 20,000\",\"ccu\":0,\"release_date\":\"2019-04-16\"}\n",
      "1001590\t{\"game_id\":1001590,\"name\":\"Grab Lab\",\"positive\":8,\"negative\":0,\"owners\":\"0 .. 20,000\",\"ccu\":0,\"release_date\":\"2019-06-21\"}\n",
      "1001600\t{\"game_id\":1001600,\"name\":\"Diggerman\",\"positive\":29,\"negative\":2,\"owners\":\"0 .. 20,000\",\"ccu\":0,\"release_date\":\"2019-06-14\"}\n",
      "1001640\t{\"game_id\":1001640,\"name\":\"Where the Bees Make Honey\",\"positive\":23,\"negative\":34,\"owners\":\"0 .. 20,000\",\"ccu\":0,\"release_date\":\"2019-03-26\"}\n",
      "1001660\t{\"game_id\":1001660,\"name\":\"The Demon Crystal\",\"positive\":11,\"negative\":0,\"owners\":\"0 .. 20,000\",\"ccu\":0,\"release_date\":\"2019-03-28\"}\n",
      "1001690\t{\"game_id\":1001690,\"name\":\"Mars Flight VR\",\"positive\":5,\"negative\":1,\"owners\":\"0 .. 20,000\",\"ccu\":0,\"release_date\":\"2021-06-08\"}\n",
      "1001730\t{\"game_id\":1001730,\"name\":\"Twisting Mower\",\"positive\":1,\"negative\":0,\"owners\":\"0 .. 20,000\",\"ccu\":0,\"release_date\":\"2019-05-22\"}\n",
      "1001740\t{\"game_id\":1001740,\"name\":\"Diamonds\",\"positive\":4,\"negative\":0,\"owners\":\"0 .. 20,000\",\"ccu\":0,\"release_date\":\"2019-11-18\"}\n",
      "1001760\t{\"game_id\":1001760,\"name\":\"Xtreme League\",\"positive\":0,\"negative\":3,\"owners\":\"0 .. 20,000\",\"ccu\":0,\"release_date\":\"2019-03-07\"}\n",
      "1001800\t{\"game_id\":1001800,\"name\":\"KUNAI\",\"positive\":354,\"negative\":78,\"owners\":\"50,000 .. 100,000\",\"ccu\":1,\"release_date\":\"2020-02-06\"}\n",
      "1001810\t{\"game_id\":1001810,\"name\":\"Virus Expansion\",\"positive\":1,\"negative\":3,\"owners\":\"0 .. 20,000\",\"ccu\":0,\"release_date\":\"2019-03-29\"}\n",
      "1001860\t{\"game_id\":1001860,\"name\":\"Casual Desktop Game\",\"positive\":144,\"negative\":23,\"owners\":\"20,000 .. 50,000\",\"ccu\":0,\"release_date\":\"2020-02-14\"}\n",
      "1001870\t{\"game_id\":1001870,\"name\":\"RoboVirus\",\"positive\":29,\"negative\":1,\"owners\":\"0 .. 20,000\",\"ccu\":0,\"release_date\":\"2019-08-30\"}\n",
      "1001880\t{\"game_id\":1001880,\"name\":\"aMAZE Valentine\",\"positive\":45,\"negative\":10,\"owners\":\"0 .. 20,000\",\"ccu\":0,\"release_date\":\"2018-12-28\"}\n",
      "1001910\t{\"game_id\":1001910,\"name\":\"Fused\",\"positive\":6,\"negative\":3,\"owners\":\"0 .. 20,000\",\"ccu\":0,\"release_date\":\"2019-03-08\"}\n",
      "1001950\t{\"game_id\":1001950,\"name\":\"There Was A Dream\",\"positive\":10,\"negative\":5,\"owners\":\"0 .. 20,000\",\"ccu\":0,\"release_date\":\"2021-02-11\"}\n",
      "1001960\t{\"game_id\":1001960,\"name\":\"Zibbs - Alien Survival\",\"positive\":11,\"negative\":9,\"owners\":\"0 .. 20,000\",\"ccu\":0,\"release_date\":\"2020-11-08\"}\n",
      "1001970\t{\"game_id\":1001970,\"name\":\"Rhythmy\",\"positive\":28,\"negative\":2,\"owners\":\"0 .. 20,000\",\"ccu\":0,\"release_date\":\"2020-03-24\"}\n",
      "1001980\t{\"game_id\":1001980,\"name\":\"Archeo: Shinar\",\"positive\":80,\"negative\":20,\"owners\":\"0 .. 20,000\",\"ccu\":0,\"release_date\":\"2019-09-11\"}\n",
      "1001990\t{\"game_id\":1001990,\"name\":\"WARED\",\"positive\":1,\"negative\":4,\"owners\":\"20,000 .. 50,000\",\"ccu\":0,\"release_date\":\"2019-06-19\"}\n",
      "1002\t{\"game_id\":1002,\"name\":\"Rag Doll Kung Fu\",\"positive\":54,\"negative\":22,\"owners\":\"20,000 .. 50,000\",\"ccu\":0,\"release_date\":\"2005-10-12\"}\n"
     ]
    }
   ],
   "source": [
    "print_hdfs_output(steam_01_output_path)"
   ]
  },
  {
   "cell_type": "markdown",
   "metadata": {},
   "source": [
    "## Selekcja gier"
   ]
  },
  {
   "cell_type": "code",
   "execution_count": 5,
   "metadata": {},
   "outputs": [
    {
     "name": "stdout",
     "output_type": "stream",
     "text": [
      "True\n"
     ]
    }
   ],
   "source": [
    "steam_02_jar_path = \"/data/master_volume/map_reduce_jars/steam_02_choose.jar\"\n",
    "steam_02_input_path = get_data_from_output_path(steam_01_output_path)\n",
    "steam_02_output_path = \"/out_steam_2\" + str(uuid.uuid4())\n",
    "\n",
    "res = run_in_master(f\"yarn jar {steam_02_jar_path} {steam_02_input_path} {steam_02_output_path}\")\n",
    "print(res.exit_code == 0)"
   ]
  },
  {
   "cell_type": "code",
   "execution_count": 6,
   "metadata": {},
   "outputs": [
    {
     "name": "stdout",
     "output_type": "stream",
     "text": [
      "10\t{\"game_id\":10,\"name\":\"Counter-Strike\",\"positive\":196557,\"negative\":5070,\"owners\":\"10,000,000 .. 20,000,000\",\"ccu\":12877,\"release_date\":\"2000-11-01\"}\n",
      "105600\t{\"game_id\":105600,\"name\":\"Terraria\",\"positive\":941388,\"negative\":20346,\"owners\":\"20,000,000 .. 50,000,000\",\"ccu\":39371,\"release_date\":\"2011-05-16\"}\n",
      "1085660\t{\"game_id\":1085660,\"name\":\"Destiny 2\",\"positive\":396069,\"negative\":74899,\"owners\":\"20,000,000 .. 50,000,000\",\"ccu\":106858,\"release_date\":\"2019-10-01\"}\n",
      "218620\t{\"game_id\":218620,\"name\":\"PAYDAY 2\",\"positive\":513225,\"negative\":62272,\"owners\":\"20,000,000 .. 50,000,000\",\"ccu\":39437,\"release_date\":\"2013-08-13\"}\n",
      "227300\t{\"game_id\":227300,\"name\":\"Euro Truck Simulator 2\",\"positive\":535815,\"negative\":14706,\"owners\":\"10,000,000 .. 20,000,000\",\"ccu\":33648,\"release_date\":\"2012-10-12\"}\n",
      "230410\t{\"game_id\":230410,\"name\":\"Warframe\",\"positive\":437656,\"negative\":47546,\"owners\":\"20,000,000 .. 50,000,000\",\"ccu\":50453,\"release_date\":\"2013-03-25\"}\n",
      "240\t{\"game_id\":240,\"name\":\"Counter-Strike: Source\",\"positive\":133140,\"negative\":5282,\"owners\":\"10,000,000 .. 20,000,000\",\"ccu\":6742,\"release_date\":\"2004-11-01\"}\n",
      "242760\t{\"game_id\":242760,\"name\":\"The Forest\",\"positive\":352728,\"negative\":17875,\"owners\":\"10,000,000 .. 20,000,000\",\"ccu\":10867,\"release_date\":\"2018-04-30\"}\n",
      "252950\t{\"game_id\":252950,\"name\":\"Rocket League\",\"positive\":491121,\"negative\":61954,\"owners\":\"10,000,000 .. 20,000,000\",\"ccu\":33620,\"release_date\":\"2015-07-06\"}\n",
      "271590\t{\"game_id\":271590,\"name\":\"Grand Theft Auto V\",\"positive\":1144201,\"negative\":208030,\"owners\":\"20,000,000 .. 50,000,000\",\"ccu\":109264,\"release_date\":\"2015-04-13\"}\n",
      "291550\t{\"game_id\":291550,\"name\":\"Brawlhalla\",\"positive\":241131,\"negative\":45296,\"owners\":\"20,000,000 .. 50,000,000\",\"ccu\":18853,\"release_date\":\"2017-10-17\"}\n",
      "292030\t{\"game_id\":292030,\"name\":\"The Witcher 3: Wild Hunt\",\"positive\":610130,\"negative\":24802,\"owners\":\"10,000,000 .. 20,000,000\",\"ccu\":18042,\"release_date\":\"2015-05-18\"}\n",
      "304930\t{\"game_id\":304930,\"name\":\"Unturned\",\"positive\":438411,\"negative\":40925,\"owners\":\"20,000,000 .. 50,000,000\",\"ccu\":50423,\"release_date\":\"2017-07-07\"}\n",
      "322330\t{\"game_id\":322330,\"name\":\"Don't Starve Together\",\"positive\":321194,\"negative\":12820,\"owners\":\"10,000,000 .. 20,000,000\",\"ccu\":31708,\"release_date\":\"2016-04-21\"}\n",
      "346110\t{\"game_id\":346110,\"name\":\"ARK: Survival Evolved\",\"positive\":430401,\"negative\":94499,\"owners\":\"10,000,000 .. 20,000,000\",\"ccu\":63040,\"release_date\":\"2017-08-27\"}\n",
      "381210\t{\"game_id\":381210,\"name\":\"Dead by Daylight\",\"positive\":484780,\"negative\":110274,\"owners\":\"10,000,000 .. 20,000,000\",\"ccu\":44247,\"release_date\":\"2016-06-14\"}\n",
      "386360\t{\"game_id\":386360,\"name\":\"SMITE\",\"positive\":79849,\"negative\":19831,\"owners\":\"10,000,000 .. 20,000,000\",\"ccu\":18597,\"release_date\":\"2015-09-08\"}\n",
      "440\t{\"game_id\":440,\"name\":\"Team Fortress 2\",\"positive\":813122,\"negative\":56073,\"owners\":\"50,000,000 .. 100,000,000\",\"ccu\":82571,\"release_date\":\"2007-10-10\"}\n",
      "444090\t{\"game_id\":444090,\"name\":\"Paladins\",\"positive\":278913,\"negative\":46919,\"owners\":\"10,000,000 .. 20,000,000\",\"ccu\":9888,\"release_date\":\"2018-05-08\"}\n",
      "444200\t{\"game_id\":444200,\"name\":\"World of Tanks Blitz\",\"positive\":89929,\"negative\":21787,\"owners\":\"10,000,000 .. 20,000,000\",\"ccu\":24669,\"release_date\":\"2016-11-09\"}\n",
      "49520\t{\"game_id\":49520,\"name\":\"Borderlands 2\",\"positive\":246030,\"negative\":16541,\"owners\":\"10,000,000 .. 20,000,000\",\"ccu\":5454,\"release_date\":\"2012-09-17\"}\n",
      "550\t{\"game_id\":550,\"name\":\"Left 4 Dead 2\",\"positive\":600580,\"negative\":15752,\"owners\":\"20,000,000 .. 50,000,000\",\"ccu\":20819,\"release_date\":\"2009-11-16\"}\n",
      "552990\t{\"game_id\":552990,\"name\":\"World of Warships\",\"positive\":82153,\"negative\":19765,\"owners\":\"10,000,000 .. 20,000,000\",\"ccu\":12539,\"release_date\":\"2017-11-15\"}\n",
      "570\t{\"game_id\":570,\"name\":\"Dota 2\",\"positive\":1456697,\"negative\":291673,\"owners\":\"100,000,000 .. 200,000,000\",\"ccu\":612293,\"release_date\":\"2013-07-09\"}\n",
      "582010\t{\"game_id\":582010,\"name\":\"Monster Hunter: World\",\"positive\":302359,\"negative\":51766,\"owners\":\"10,000,000 .. 20,000,000\",\"ccu\":18018,\"release_date\":\"2018-08-09\"}\n",
      "730\t{\"game_id\":730,\"name\":\"Counter-Strike: Global Offensive\",\"positive\":5680980,\"negative\":756795,\"owners\":\"50,000,000 .. 100,000,000\",\"ccu\":679488,\"release_date\":\"2012-08-21\"}\n",
      "945360\t{\"game_id\":945360,\"name\":\"Among Us\",\"positive\":571980,\"negative\":50064,\"owners\":\"20,000,000 .. 50,000,000\",\"ccu\":8826,\"release_date\":\"2018-11-16\"}\n",
      "\n"
     ]
    }
   ],
   "source": [
    "print_hdfs_output(steam_02_output_path)"
   ]
  },
  {
   "cell_type": "markdown",
   "metadata": {},
   "source": [
    "## Wybór pierwszych N gier"
   ]
  },
  {
   "cell_type": "code",
   "execution_count": 7,
   "metadata": {},
   "outputs": [
    {
     "name": "stdout",
     "output_type": "stream",
     "text": [
      "True\n"
     ]
    }
   ],
   "source": [
    "steam_03_jar_path = \"/data/master_volume/map_reduce_jars/steam_03_takeN.jar\"\n",
    "steam_03_input_path = get_data_from_output_path(steam_02_output_path)\n",
    "steam_03_output_path = \"/out_steam_3\" + str(uuid.uuid4())\n",
    "\n",
    "res = run_in_master(f\"yarn jar {steam_03_jar_path} {steam_03_input_path} {steam_03_output_path}\")\n",
    "print(res.exit_code == 0)"
   ]
  },
  {
   "cell_type": "code",
   "execution_count": 8,
   "metadata": {},
   "outputs": [
    {
     "name": "stdout",
     "output_type": "stream",
     "text": [
      "id\t{\"game_id\":945360,\"name\":\"Among Us\"}\n",
      "id\t{\"game_id\":730,\"name\":\"Counter-Strike: Global Offensive\"}\n",
      "id\t{\"game_id\":582010,\"name\":\"Monster Hunter: World\"}\n",
      "id\t{\"game_id\":570,\"name\":\"Dota 2\"}\n",
      "id\t{\"game_id\":552990,\"name\":\"World of Warships\"}\n",
      "id\t{\"game_id\":550,\"name\":\"Left 4 Dead 2\"}\n",
      "id\t{\"game_id\":49520,\"name\":\"Borderlands 2\"}\n",
      "id\t{\"game_id\":444200,\"name\":\"World of Tanks Blitz\"}\n",
      "id\t{\"game_id\":444090,\"name\":\"Paladins\"}\n",
      "id\t{\"game_id\":440,\"name\":\"Team Fortress 2\"}\n",
      "id\t{\"game_id\":386360,\"name\":\"SMITE\"}\n",
      "id\t{\"game_id\":381210,\"name\":\"Dead by Daylight\"}\n",
      "id\t{\"game_id\":346110,\"name\":\"ARK: Survival Evolved\"}\n",
      "id\t{\"game_id\":322330,\"name\":\"Don't Starve Together\"}\n",
      "id\t{\"game_id\":304930,\"name\":\"Unturned\"}\n",
      "id\t{\"game_id\":292030,\"name\":\"The Witcher 3: Wild Hunt\"}\n",
      "id\t{\"game_id\":291550,\"name\":\"Brawlhalla\"}\n",
      "id\t{\"game_id\":271590,\"name\":\"Grand Theft Auto V\"}\n",
      "id\t{\"game_id\":252950,\"name\":\"Rocket League\"}\n",
      "id\t{\"game_id\":242760,\"name\":\"The Forest\"}\n",
      "\n"
     ]
    }
   ],
   "source": [
    "print_hdfs_output(steam_03_output_path)"
   ]
  },
  {
   "cell_type": "markdown",
   "metadata": {},
   "source": [
    "## Pobranie danych ze Steam Charts API"
   ]
  },
  {
   "cell_type": "code",
   "execution_count": 9,
   "metadata": {},
   "outputs": [
    {
     "name": "stdout",
     "output_type": "stream",
     "text": [
      "True\n"
     ]
    }
   ],
   "source": [
    "steam_04_jar_path = \"/data/master_volume/map_reduce_jars/steam_04_fetch.jar\"\n",
    "steam_04_input_path = get_data_from_output_path(steam_03_output_path)\n",
    "steam_04_output_path = \"/out_steam_4\" + str(uuid.uuid4())\n",
    "\n",
    "res = run_in_master(f\"yarn jar {steam_04_jar_path} {steam_04_input_path} {steam_04_output_path}\")\n",
    "print(res.exit_code == 0)"
   ]
  },
  {
   "cell_type": "code",
   "execution_count": 10,
   "metadata": {},
   "outputs": [
    {
     "name": "stdout",
     "output_type": "stream",
     "text": [
      "242760\tList([{\"timestamp\":1398902400000,\"count\":5722},{\"timestamp\":1401580800000,\"count\":6673},{\"timestamp\":1404172800000,\"count\":4725},{\"timestamp\":1406851200000,\"count\":3121},{\"timestamp\":1409529600000,\"count\":1875},{\"timestamp\":1412121600000,\"count\":2918},{\"timestamp\":1414800000000,\"count\":4640},{\"timestamp\":1417392000000,\"count\":3891},{\"timestamp\":1420070400000,\"count\":4809},{\"timestamp\":1422748800000,\"count\":3215},{\"timestamp\":1425168000000,\"count\":3194},{\"timestamp\":1427846400000,\"count\":2241},{\"timestamp\":1430438400000,\"count\":1990},{\"timestamp\":1433116800000,\"count\":4689},{\"timestamp\":1435708800000,\"count\":3421},{\"timestamp\":1438387200000,\"count\":4060},{\"timestamp\":1441065600000,\"count\":3686},{\"timestamp\":1443657600000,\"count\":3240},{\"timestamp\":1446336000000,\"count\":3788},{\"timestamp\":1448928000000,\"count\":4962},{\"timestamp\":1451606400000,\"count\":6245},{\"timestamp\":1454284800000,\"count\":6306},{\"timestamp\":1456790400000,\"count\":4793},{\"timestamp\":1459468800000,\"count\":4767},{\"timestamp\":1462060800000,\"count\":5120},{\"timestamp\":1464739200000,\"count\":7430},{\"timestamp\":1467331200000,\"count\":7888},{\"timestamp\":1470009600000,\"count\":4932},{\"timestamp\":1472688000000,\"count\":5077},{\"timestamp\":1475280000000,\"count\":4826},{\"timestamp\":1477958400000,\"count\":6941},{\"timestamp\":1480550400000,\"count\":16972},{\"timestamp\":1483228800000,\"count\":18273},{\"timestamp\":1485907200000,\"count\":11106},{\"timestamp\":1488326400000,\"count\":7030},{\"timestamp\":1491004800000,\"count\":5468},{\"timestamp\":1493596800000,\"count\":5707},{\"timestamp\":1496275200000,\"count\":7873},{\"timestamp\":1498867200000,\"count\":7707},{\"timestamp\":1501545600000,\"count\":5978},{\"timestamp\":1504224000000,\"count\":6115},{\"timestamp\":1506816000000,\"count\":8243},{\"timestamp\":1509494400000,\"count\":8865},{\"timestamp\":1512086400000,\"count\":12249},{\"timestamp\":1514764800000,\"count\":11300},{\"timestamp\":1517443200000,\"count\":11253},{\"timestamp\":1519862400000,\"count\":7626},{\"timestamp\":1522540800000,\"count\":15745},{\"timestamp\":1525132800000,\"count\":25577},{\"timestamp\":1527811200000,\"count\":21553},{\"timestamp\":1530403200000,\"count\":17613},{\"timestamp\":1533081600000,\"count\":7873},{\"timestamp\":1535760000000,\"count\":7588},{\"timestamp\":1538352000000,\"count\":10482},{\"timestamp\":1541030400000,\"count\":13137},{\"timestamp\":1543622400000,\"count\":20925},{\"timestamp\":1546300800000,\"count\":18954},{\"timestamp\":1548979200000,\"count\":17363},{\"timestamp\":1551398400000,\"count\":8634},{\"timestamp\":1554076800000,\"count\":7637},{\"timestamp\":1556668800000,\"count\":7482},{\"timestamp\":1559347200000,\"count\":11432},{\"timestamp\":1561939200000,\"count\":12098},{\"timestamp\":1564617600000,\"count\":6834},{\"timestamp\":1567296000000,\"count\":17275},{\"timestamp\":1569888000000,\"count\":8309},{\"timestamp\":1572566400000,\"count\":10848},{\"timestamp\":1575158400000,\"count\":15029},{\"timestamp\":1577836800000,\"count\":19189},{\"timestamp\":1580515200000,\"count\":15596},{\"timestamp\":1583020800000,\"count\":27977},{\"timestamp\":1585699200000,\"count\":16351},{\"timestamp\":1588291200000,\"count\":11583},{\"timestamp\":1590969600000,\"count\":16215},{\"timestamp\":1593561600000,\"count\":16117},{\"timestamp\":1596240000000,\"count\":7906},{\"timestamp\":1598918400000,\"count\":7633},{\"timestamp\":1601510400000,\"count\":20294},{\"timestamp\":1604188800000,\"count\":25440},{\"timestamp\":1606780800000,\"count\":29909},{\"timestamp\":1609459200000,\"count\":32817},{\"timestamp\":1612137600000,\"count\":31612},{\"timestamp\":1614556800000,\"count\":11806},{\"timestamp\":1617235200000,\"count\":63683},{\"timestamp\":1619827200000,\"count\":25808},{\"timestamp\":1622505600000,\"count\":25557},{\"timestamp\":1625097600000,\"count\":27317},{\"timestamp\":1627776000000,\"count\":9593},{\"timestamp\":1630454400000,\"count\":8708},{\"timestamp\":1633046400000,\"count\":36688},{\"timestamp\":1635724800000,\"count\":39049},{\"timestamp\":1638316800000,\"count\":26467},{\"timestamp\":1640995200000,\"count\":34172},{\"timestamp\":1643673600000,\"count\":33109},{\"timestamp\":1646092800000,\"count\":10529},{\"timestamp\":1648771200000,\"count\":11894},{\"timestamp\":1651363200000,\"count\":66829},{\"timestamp\":1654041600000,\"count\":40122},{\"timestamp\":1656633600000,\"count\":41631},{\"timestamp\":1659312000000,\"count\":47545},{\"timestamp\":1661990400000,\"count\":12925},{\"timestamp\":1664582400000,\"count\":74816},{\"timestamp\":1667260800000,\"count\":73218},{\"timestamp\":1669852800000,\"count\":49783},{\"timestamp\":1672531200000,\"count\":48677},{\"timestamp\":1675209600000,\"count\":31864},{\"timestamp\":1675641600000,\"count\":14593},{\"timestamp\":1675728000000,\"count\":14426},{\"timestamp\":1675814400000,\"count\":14201},{\"timestamp\":1675900800000,\"count\":13958},{\"timestamp\":1675987200000,\"count\":15181},{\"timestamp\":1676073600000,\"count\":17937},{\"timestamp\":1676160000000,\"count\":18700},{\"timestamp\":1676246400000,\"count\":14135},{\"timestamp\":1676332800000,\"count\":12873},{\"timestamp\":1676419200000,\"count\":13055},{\"timestamp\":1676505600000,\"count\":12863},{\"timestamp\":1676592000000,\"count\":14909},{\"timestamp\":1676678400000,\"count\":18052},{\"timestamp\":1676764800000,\"count\":18387},{\"timestamp\":1676851200000,\"count\":14297},{\"timestamp\":1676937600000,\"count\":14006},{\"timestamp\":1677024000000,\"count\":14517},{\"timestamp\":1677110400000,\"count\":15584},{\"timestamp\":1677196800000,\"count\":19541},{\"timestamp\":1677283200000,\"count\":27800},{\"timestamp\":1677369600000,\"count\":31864},{\"timestamp\":1677456000000,\"count\":23061},{\"timestamp\":1677542400000,\"count\":23290},{\"timestamp\":1677628800000,\"count\":21945},{\"timestamp\":1677715200000,\"count\":20989},{\"timestamp\":1677801600000,\"count\":24127},{\"timestamp\":1677888000000,\"count\":28580},{\"timestamp\":1677974400000,\"count\":28499},{\"timestamp\":1678060800000,\"count\":17907},{\"timestamp\":1678147200000,\"count\":17686},{\"timestamp\":1678233600000,\"count\":16158},{\"timestamp\":1678320000000,\"count\":14861},{\"timestamp\":1678406400000,\"count\":17403},{\"timestamp\":1678492800000,\"count\":21228},{\"timestamp\":1678579200000,\"count\":20866},{\"timestamp\":1678665600000,\"count\":13342},{\"timestamp\":1678752000000,\"count\":12490},{\"timestamp\":1678838400000,\"count\":11563},{\"timestamp\":1678924800000,\"count\":11501},{\"timestamp\":1679011200000,\"count\":17654},{\"timestamp\":1679097600000,\"count\":22365},{\"timestamp\":1679184000000,\"count\":22016},{\"timestamp\":1679270400000,\"count\":15937},{\"timestamp\":1679356800000,\"count\":15131},{\"timestamp\":1679443200000,\"count\":14385},{\"timestamp\":1679529600000,\"count\":14477},{\"timestamp\":1679616000000,\"count\":15537},{\"timestamp\":1679702400000,\"count\":17252},{\"timestamp\":1679788800000,\"count\":16059},{\"timestamp\":1679875200000,\"count\":10907},{\"timestamp\":1679961600000,\"count\":10302},{\"timestamp\":1680048000000,\"count\":9649},{\"timestamp\":1680134400000,\"count\":9237},{\"timestamp\":1680220800000,\"count\":10619},{\"timestamp\":1680307200000,\"count\":12396},{\"timestamp\":1680393600000,\"count\":11740},{\"timestamp\":1680480000000,\"count\":8119},{\"timestamp\":1680566400000,\"count\":9029},{\"timestamp\":1680652800000,\"count\":7811},{\"timestamp\":1680739200000,\"count\":8020},{\"timestamp\":1680800522000,\"count\":6689},{\"timestamp\":1680804056000,\"count\":7088},{\"timestamp\":1680807692000,\"count\":7454},{\"timestamp\":1680811336000,\"count\":7610},{\"timestamp\":1680814935000,\"count\":6890},{\"timestamp\":1680818457000,\"count\":5874},{\"timestamp\":1680822096000,\"count\":5106},{\"timestamp\":1680825715000,\"count\":4567},{\"timestamp\":1680829345000,\"count\":4382},{\"timestamp\":1680833032000,\"count\":4482},{\"timestamp\":1680836463000,\"count\":4823},{\"timestamp\":1680840074000,\"count\":4789},{\"timestamp\":1680843661000,\"count\":4574},{\"timestamp\":1680847240000,\"count\":4154},{\"timestamp\":1680850838000,\"count\":3720},{\"timestamp\":1680854486000,\"count\":3685},{\"timestamp\":1680858013000,\"count\":4006},{\"timestamp\":1680861719000,\"count\":4262},{\"timestamp\":1680865256000,\"count\":4906},{\"timestamp\":1680868919000,\"count\":5954},{\"timestamp\":1680872436000,\"count\":7187},{\"timestamp\":1680876063000,\"count\":8708},{\"timestamp\":1680879659000,\"count\":9444},{\"timestamp\":1680883267000,\"count\":9076},{\"timestamp\":1680886854000,\"count\":8309},{\"timestamp\":1680890492000,\"count\":8490},{\"timestamp\":1680894182000,\"count\":8810},{\"timestamp\":1680897698000,\"count\":8863},{\"timestamp\":1680901271000,\"count\":8394},{\"timestamp\":1680904921000,\"count\":7357},{\"timestamp\":1680908521000,\"count\":6134},{\"timestamp\":1680912119000,\"count\":5282},{\"timestamp\":1680915725000,\"count\":4820},{\"timestamp\":1680919299000,\"count\":4937},{\"timestamp\":1680922904000,\"count\":5337},{\"timestamp\":1680926514000,\"count\":5408},{\"timestamp\":1680930127000,\"count\":5318},{\"timestamp\":1680933673000,\"count\":5237},{\"timestamp\":1680937251000,\"count\":5028},{\"timestamp\":1680940839000,\"count\":5157},{\"timestamp\":1680944467000,\"count\":5302},{\"timestamp\":1680948068000,\"count\":5558},{\"timestamp\":1680951666000,\"count\":5910},{\"timestamp\":1680955259000,\"count\":6612},{\"timestamp\":1680958926000,\"count\":7950},{\"timestamp\":1680962518000,\"count\":8827},{\"timestamp\":1680966168000,\"count\":9543},{\"timestamp\":1680969681000,\"count\":9025},{\"timestamp\":1680973262000,\"count\":8207},{\"timestamp\":1680976910000,\"count\":8272},{\"timestamp\":1680980532000,\"count\":8545},{\"timestamp\":1680984088000,\"count\":8667},{\"timestamp\":1680987720000,\"count\":8200},{\"timestamp\":1680991328000,\"count\":7237},{\"timestamp\":1680994916000,\"count\":6342},{\"timestamp\":1680998515000,\"count\":5639},{\"timestamp\":1681002084000,\"count\":4846},{\"timestamp\":1681005700000,\"count\":4815},{\"timestamp\":1681009379000,\"count\":5357},{\"timestamp\":1681012905000,\"count\":5408},{\"timestamp\":1681016485000,\"count\":5265},{\"timestamp\":1681020053000,\"count\":5462},{\"timestamp\":1681023689000,\"count\":5336},{\"timestamp\":1681027279000,\"count\":5341},{\"timestamp\":1681030889000,\"count\":5517},{\"timestamp\":1681034466000,\"count\":5494},{\"timestamp\":1681038111000,\"count\":5535},{\"timestamp\":1681041714000,\"count\":6493},{\"timestamp\":1681045278000,\"count\":7602},{\"timestamp\":1681048864000,\"count\":8320},{\"timestamp\":1681052526000,\"count\":8366},{\"timestamp\":1681056110000,\"count\":7601},{\"timestamp\":1681059713000,\"count\":6976},{\"timestamp\":1681063321000,\"count\":7436},{\"timestamp\":1681066874000,\"count\":7798\n"
     ]
    }
   ],
   "source": [
    "print_hdfs_output(steam_04_output_path)"
   ]
  },
  {
   "cell_type": "code",
   "execution_count": null,
   "metadata": {},
   "outputs": [],
   "source": []
  }
 ],
 "metadata": {
  "kernelspec": {
   "display_name": "Python 3 (ipykernel)",
   "language": "python",
   "name": "python3"
  },
  "language_info": {
   "codemirror_mode": {
    "name": "ipython",
    "version": 3
   },
   "file_extension": ".py",
   "mimetype": "text/x-python",
   "name": "python",
   "nbconvert_exporter": "python",
   "pygments_lexer": "ipython3",
   "version": "3.11.3"
  }
 },
 "nbformat": 4,
 "nbformat_minor": 2
}
