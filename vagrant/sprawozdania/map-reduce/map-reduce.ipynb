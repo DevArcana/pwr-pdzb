{
 "cells": [
  {
   "cell_type": "code",
   "execution_count": null,
   "metadata": {},
   "outputs": [],
   "source": [
    "import docker\n",
    "import uuid\n",
    "\n",
    "def run_in_master(command):\n",
    "    client = docker.from_env()\n",
    "    container = client.containers.get('master')\n",
    "    return container.exec_run(command)"
   ]
  },
  {
   "cell_type": "markdown",
   "metadata": {},
   "source": [
    "# Steam"
   ]
  },
  {
   "cell_type": "markdown",
   "metadata": {},
   "source": [
    "## Agregacja danych ze źródeł Steam"
   ]
  },
  {
   "cell_type": "code",
   "execution_count": null,
   "metadata": {},
   "outputs": [],
   "source": [
    "steam_01_jar_path = \"/data/master_volume/map_reduce_jars/steam_01.jar\"\n",
    "steam_01_input_path = \"/datasets/steam-dataset/steam_dataset/appinfo/store_data/steam_store_data.jsonl\"\n",
    "steam_01_output_path = \"/out_steam_1\" + str(uuid.uuid4())\n",
    "\n",
    "res = run_in_master(f\"yarn jar {steam_01_jar_path} {steam_01_input_path} {steam_01_output_path}\")"
   ]
  },
  {
   "cell_type": "markdown",
   "metadata": {},
   "source": [
    "## Selekcja gier"
   ]
  },
  {
   "cell_type": "code",
   "execution_count": null,
   "metadata": {},
   "outputs": [],
   "source": [
    "steam_02_jar_path = \"/data/master_volume/map_reduce_jars/steam_02.jar\"\n",
    "steam_02_input_path = steam_01_output_path\n",
    "steam_02_output_path = \"/out_steam_2\" + str(uuid.uuid4())\n",
    "\n",
    "res = run_in_master(f\"yarn jar {steam_02_jar_path} {steam_02_input_path} {steam_02_output_path}\")"
   ]
  },
  {
   "cell_type": "markdown",
   "metadata": {},
   "source": [
    "## Wybór pierwszych N gier"
   ]
  },
  {
   "cell_type": "code",
   "execution_count": null,
   "metadata": {},
   "outputs": [],
   "source": [
    "steam_03_jar_path = \"/data/master_volume/map_reduce_jars/steam_03.jar\"\n",
    "steam_03_input_path = steam_02_output_path\n",
    "steam_03_output_path = \"/out_steam_3\" + str(uuid.uuid4())\n",
    "\n",
    "res = run_in_master(f\"yarn jar {steam_03_jar_path} {steam_03_input_path} {steam_03_output_path}\")"
   ]
  },
  {
   "cell_type": "markdown",
   "metadata": {},
   "source": [
    "## Pobranie danych ze Steam Charts API"
   ]
  },
  {
   "cell_type": "code",
   "execution_count": null,
   "metadata": {},
   "outputs": [],
   "source": [
    "steam_04_jar_path = \"/data/master_volume/map_reduce_jars/steam_04.jar\"\n",
    "steam_04_input_path = steam_03_output_path\n",
    "steam_04_output_path = \"/out_steam_4\" + str(uuid.uuid4())\n",
    "\n",
    "res = run_in_master(f\"yarn jar {steam_04_jar_path} {steam_04_input_path} {steam_04_output_path}\")"
   ]
  }
 ],
 "metadata": {
  "kernelspec": {
   "display_name": "Python 3 (ipykernel)",
   "language": "python",
   "name": "python3"
  },
  "language_info": {
   "codemirror_mode": {
    "name": "ipython",
    "version": 3
   },
   "file_extension": ".py",
   "mimetype": "text/x-python",
   "name": "python",
   "nbconvert_exporter": "python",
   "pygments_lexer": "ipython3",
   "version": "3.11.3"
  }
 },
 "nbformat": 4,
 "nbformat_minor": 2
}
