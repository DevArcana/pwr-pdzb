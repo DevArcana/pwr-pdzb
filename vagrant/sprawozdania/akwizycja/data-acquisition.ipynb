{
 "cells": [
  {
   "cell_type": "markdown",
   "source": [
    "# Sprawozdanie 6 - akwizycja danych\n",
    "\n",
    "## Środowisko\n",
    "\n",
    "Mamy maszynę wirtualną z Ubuntu postawioną za pomocą Vagrant'a (korzystającego pod spodem z VirtualBox'a). Na tej maszynie wirtualnej stawiamy kontenery Docker'a.\n",
    "\n",
    "Aby ułatwić sobie późniejszą pracę z obrazami na których postawiony jest hadoop postanowiliśmy dodać do master-node volumen na dane (modyfikując skrypty generujące docker-compose). Dzięki temu możemy w wygodny sposób (tj. poprzez wrzucenie do odpowiedniego folderu) przenosić pliki do miejsca, do którego możemy się dostać z poziomu maszyny z hadoopem. Warto zwrócić uwagę, że maszyna wirtualna także posiada taki wolumen, który zapewnia wykorzystanie Vagrant'a.\n",
    "\n",
    "```yaml\n",
    "master:\n",
    "    image: hjben/hadoop-eco:$hadoop_version\n",
    "    hostname: master\n",
    "    container_name: master\n",
    "    privileged: true\n",
    "    ports:\n",
    "      - 8088:8088\n",
    "      - 9870:9870\n",
    "      - 8042:8042\n",
    "      - 10000:10000\n",
    "      - 10002:10002\n",
    "      - 16010:16010\n",
    "    volumes:\n",
    "      - /sys/fs/cgroup:/sys/fs/cgroup\n",
    "      - $hdfs_path:/data/hadoop\n",
    "      - $hadoop_log_path:/usr/local/hadoop/logs\n",
    "      - $hbase_log_path/master:/usr/local/hbase/logs\n",
    "      - $hive_log_path:/usr/local/hive/logs\n",
    "      - $sqoop_log_path:/usr/local/sqoop/logs\n",
    "      - /vagrant/master_volume:/data/master_volume <-------------- dodany volumen\n",
    "    networks:\n",
    "      hadoop-cluster:\n",
    "        ipv4_address: 10.1.2.3\n",
    "    extra_hosts:\n",
    "      - \"mariadb:10.1.2.2\"\n",
    "      - \"master:10.1.2.3\"\n",
    "```"
   ],
   "metadata": {
    "collapsed": false
   }
  },
  {
   "cell_type": "markdown",
   "source": [
    "## Pobieranie danych\n",
    "Niestety przez potrzebę generowania i podania klucza API do serwisu kaggle przed pobraniem danych należy wykonać kilka czynności.\n",
    "\n",
    "1. Pobrać ze strony kaggle klucz API (kaggle.json)\n",
    "2. Stworzyć folder .kaggle w głównym katalogu użytkownika i skopiować tam klucz API\n",
    "3. Wywołać nasz skrypt setup.sh, który:\n",
    "    1. Przygotowuje środowisko pythonowe\n",
    "    2. Pobiera z kaggle:\n",
    "       * [YouTube Trending Video Dataset](https://www.kaggle.com/datasets/rsrishav/youtube-trending-video-dataset)\n",
    "       * [Steam Dataset](https://www.kaggle.com/datasets/souyama/steam-dataset)\n",
    "    3. Pobiera z sieci [dane Covid'owe](https://covid.ourworldindata.org/data/owid-covid-data.csv)"
   ],
   "metadata": {
    "collapsed": false
   }
  },
  {
   "cell_type": "code",
   "execution_count": 3,
   "outputs": [],
   "source": [
    "import os\n",
    "from timeit import default_timer as timer\n",
    "import requests\n",
    "import docker\n",
    "import json\n",
    "import opendatasets as od"
   ],
   "metadata": {
    "collapsed": false,
    "ExecuteTime": {
     "start_time": "2023-04-23T12:52:16.073489Z",
     "end_time": "2023-04-23T12:52:16.081337Z"
    }
   }
  },
  {
   "cell_type": "code",
   "execution_count": 13,
   "outputs": [],
   "source": [
    "if os.getcwd().startswith(\"/tmp\"):\n",
    "    os.chdir(\"/vagrant/sprawozdania/akwizycja\")"
   ],
   "metadata": {
    "collapsed": false
   }
  },
  {
   "cell_type": "markdown",
   "source": [
    "W tym momencie należy się upewnić, że pobrany z kaggle klucz API (kaggle.json) znajduje się w katalogu: `~/.kaggle/kaggle.json`."
   ],
   "metadata": {
    "collapsed": false
   }
  },
  {
   "cell_type": "code",
   "execution_count": 14,
   "outputs": [],
   "source": [
    "output_dir = \"../../master_volume/datasets\""
   ],
   "metadata": {
    "collapsed": false,
    "ExecuteTime": {
     "start_time": "2023-04-23T12:42:01.739906Z",
     "end_time": "2023-04-23T12:42:01.755541Z"
    }
   }
  },
  {
   "cell_type": "code",
   "execution_count": 26,
   "outputs": [
    {
     "name": "stdout",
     "output_type": "stream",
     "text": [
      "Dataset steam-dataset already exists, skipping download\n",
      "Dataset youtube-trending-video-dataset already exists, skipping download\n",
      "1.64 ms ± 0 ns per loop (mean ± std. dev. of 1 run, 1 loop each)\n"
     ]
    }
   ],
   "source": [
    "%%timeit -r 1 -n 1\n",
    "if not os.path.isdir(f\"{output_dir}/steam-dataset\"):\n",
    "    od.download(\"https://www.kaggle.com/datasets/souyama/steam-dataset\", f\"{output_dir}\")\n",
    "else:\n",
    "    print(\"Dataset steam-dataset already exists, skipping download\")\n",
    "\n",
    "if not os.path.isdir(f\"{output_dir}/youtube-trending-video-dataset\"):\n",
    "    od.download(\"https://www.kaggle.com/datasets/rsrishav/youtube-trending-video-dataset\", f\"{output_dir}\")\n",
    "else:\n",
    "    print(\"Dataset youtube-trending-video-dataset already exists, skipping download\")"
   ],
   "metadata": {
    "collapsed": false,
    "ExecuteTime": {
     "start_time": "2023-04-23T12:42:05.522809Z",
     "end_time": "2023-04-23T12:42:05.534496Z"
    }
   }
  },
  {
   "cell_type": "code",
   "execution_count": 29,
   "outputs": [
    {
     "name": "stdout",
     "output_type": "stream",
     "text": [
      "Dataset covid-dataset already exists, skipping download\n",
      "covid-dataset.csv: 77.76MB\n",
      "973 µs ± 0 ns per loop (mean ± std. dev. of 1 run, 1 loop each)\n"
     ]
    }
   ],
   "source": [
    "%%timeit -r 1 -n 1\n",
    "path = f\"{output_dir}/covid-dataset.csv\"\n",
    "\n",
    "if not os.path.isfile(path):\n",
    "    print(f\"Downloading covid-dataset to {path}\")\n",
    "    start = timer()\n",
    "    r = requests.get(\"https://covid.ourworldindata.org/data/owid-covid-data.csv\", allow_redirects=True)\n",
    "    with open(path, 'wb') as file:\n",
    "        file.write(r.content)\n",
    "    end = timer()\n",
    "    print(f\"Download finished in {end - start:.02f}s\")\n",
    "else:\n",
    "    print(\"Dataset covid-dataset already exists, skipping download\")\n",
    "\n",
    "print(f\"covid-dataset.csv: {os.stat(path).st_size / (1024 * 1024):.02f}MB\")"
   ],
   "metadata": {
    "collapsed": false,
    "ExecuteTime": {
     "start_time": "2023-04-23T12:42:10.207948Z",
     "end_time": "2023-04-23T12:42:10.223587Z"
    }
   }
  },
  {
   "cell_type": "markdown",
   "source": [
    "## Formatowanie danych\n",
    "Po rozpakowaniu danych widać, że część z nich ma format trudny do późniejszej pracy. Ostatecznie postanowiliśmy przed wrzuceniem plików do hdfs wszystkie przetransformować do dormatu .jsonl. Format .jsonl zawiera obiekty json, każdy w kolejnej linii. Dzięki zastosowaniu takiego formatu na kolejnych laboratoriach będzie można wykorzystywać odpowiednie mappery.\n"
   ],
   "metadata": {
    "collapsed": false
   }
  },
  {
   "cell_type": "code",
   "execution_count": 16,
   "outputs": [
    {
     "name": "stdout",
     "output_type": "stream",
     "text": [
      "Converting JSON to JSONL\n",
      "../../master_volume/datasets/steam-dataset/appinfo/dlc_data/missing.json\n",
      "../../master_volume/datasets/steam-dataset/appinfo/dlc_data/missing.jsonl\n",
      "../../master_volume/datasets/steam-dataset/appinfo/dlc_data/steam_dlc_data.json\n",
      "../../master_volume/datasets/steam-dataset/appinfo/dlc_data/steam_dlc_data.jsonl\n",
      "../../master_volume/datasets/steam-dataset/appinfo/store_data/steam_store_data.json\n",
      "../../master_volume/datasets/steam-dataset/appinfo/store_data/steam_store_data.jsonl\n",
      "../../master_volume/datasets/steam-dataset/news_data/missing.json\n",
      "../../master_volume/datasets/steam-dataset/news_data/missing.jsonl\n",
      "../../master_volume/datasets/steam-dataset/news_data/steam_news_data.json\n",
      "../../master_volume/datasets/steam-dataset/news_data/steam_news_data.jsonl\n",
      "../../master_volume/datasets/steam-dataset/steamspy/basic/steam_spy_scrap.json\n",
      "../../master_volume/datasets/steam-dataset/steamspy/basic/steam_spy_scrap.jsonl\n",
      "../../master_volume/datasets/steam-dataset/steamspy/detailed/steam_spy_detailed.json\n",
      "../../master_volume/datasets/steam-dataset/steamspy/detailed/steam_spy_detailed.jsonl\n",
      "../../master_volume/datasets/steam-dataset/steam_charts/missing.json\n",
      "../../master_volume/datasets/steam-dataset/steam_charts/missing.jsonl\n",
      "../../master_volume/datasets/steam-dataset/steam_charts/steam_charts.json\n",
      "../../master_volume/datasets/steam-dataset/steam_charts/steam_charts.jsonl\n",
      "../../master_volume/datasets/youtube-trending-video-dataset/BR_category_id.json\n",
      "../../master_volume/datasets/youtube-trending-video-dataset/BR_category_id.jsonl\n",
      "../../master_volume/datasets/youtube-trending-video-dataset/CA_category_id.json\n",
      "../../master_volume/datasets/youtube-trending-video-dataset/CA_category_id.jsonl\n",
      "../../master_volume/datasets/youtube-trending-video-dataset/DE_category_id.json\n",
      "../../master_volume/datasets/youtube-trending-video-dataset/DE_category_id.jsonl\n",
      "../../master_volume/datasets/youtube-trending-video-dataset/FR_category_id.json\n",
      "../../master_volume/datasets/youtube-trending-video-dataset/FR_category_id.jsonl\n",
      "../../master_volume/datasets/youtube-trending-video-dataset/GB_category_id.json\n",
      "../../master_volume/datasets/youtube-trending-video-dataset/GB_category_id.jsonl\n",
      "../../master_volume/datasets/youtube-trending-video-dataset/IN_category_id.json\n",
      "../../master_volume/datasets/youtube-trending-video-dataset/IN_category_id.jsonl\n",
      "../../master_volume/datasets/youtube-trending-video-dataset/JP_category_id.json\n",
      "../../master_volume/datasets/youtube-trending-video-dataset/JP_category_id.jsonl\n",
      "../../master_volume/datasets/youtube-trending-video-dataset/KR_category_id.json\n",
      "../../master_volume/datasets/youtube-trending-video-dataset/KR_category_id.jsonl\n",
      "../../master_volume/datasets/youtube-trending-video-dataset/MX_category_id.json\n",
      "../../master_volume/datasets/youtube-trending-video-dataset/MX_category_id.jsonl\n",
      "../../master_volume/datasets/youtube-trending-video-dataset/RU_category_id.json\n",
      "../../master_volume/datasets/youtube-trending-video-dataset/RU_category_id.jsonl\n",
      "../../master_volume/datasets/youtube-trending-video-dataset/US_category_id.json\n",
      "../../master_volume/datasets/youtube-trending-video-dataset/US_category_id.jsonl\n",
      "Done\n"
     ]
    }
   ],
   "source": [
    "%%timeit -r 1 -n 1\n",
    "\n",
    "print(\"Converting JSON to JSONL\")\n",
    "for root, directories, files in os.walk(f\"{output_dir}\"):\n",
    "        for filename in files:\n",
    "            path = os.path.join(root,filename)\n",
    "            output_path = f\"{path}l\"\n",
    "\n",
    "            if os.path.isfile(output_path):\n",
    "                continue\n",
    "\n",
    "            if path.endswith(\".json\"):\n",
    "                print(path)\n",
    "                with open(path, \"r\") as file:\n",
    "                    data = json.load(file)\n",
    "                    if type(data) is dict:\n",
    "                        data = [{\"key\": key, \"value\": data[key]} for key in data]\n",
    "\n",
    "                    with open(output_path, \"w\") as jsonl_file:\n",
    "                        for obj in data:\n",
    "                            json.dump(obj, jsonl_file)\n",
    "                            jsonl_file.write(\"\\n\")\n",
    "                    print(output_path)\n",
    "\n",
    "print(\"Done\")"
   ],
   "metadata": {
    "collapsed": false,
    "ExecuteTime": {
     "start_time": "2023-04-23T12:42:59.162844Z",
     "end_time": "2023-04-23T12:42:59.178869Z"
    }
   }
  },
  {
   "cell_type": "markdown",
   "source": [
    "## Dodanie plików do hdfs"
   ],
   "metadata": {
    "collapsed": false
   }
  },
  {
   "cell_type": "code",
   "execution_count": 19,
   "outputs": [],
   "source": [
    "client = docker.from_env()\n",
    "container = client.containers.get('master')\n",
    "\n",
    "def hdfs_mkdir(path):\n",
    "    container.exec_run(f\"hdfs dfs -mkdir -p /{path}/\")\n",
    "\n",
    "def hdfs_upload(path):\n",
    "    directory = \"/\".join(path.split(\"/\")[:-1])\n",
    "    hdfs_mkdir(directory)\n",
    "    cmd = f\"hdfs dfs -put /data/master_volume/{path} /{directory}\"\n",
    "    print(cmd)\n",
    "    code, output = container.exec_run(cmd)\n",
    "    print(f\"exit code {code}\")\n",
    "    print(output)"
   ],
   "metadata": {
    "collapsed": false
   }
  },
  {
   "cell_type": "code",
   "execution_count": 18,
   "outputs": [
    {
     "name": "stdout",
     "output_type": "stream",
     "text": [
      "Uploading to HDFS\n",
      "hdfs dfs -put /data/master_volume/datasets/steam-dataset/appinfo/dlc_data/missing.jsonl /datasets/steam-dataset/appinfo/dlc_data\n",
      "exit code 0\n",
      "b''\n",
      "hdfs dfs -put /data/master_volume/datasets/steam-dataset/appinfo/dlc_data/steam_dlc_data.jsonl /datasets/steam-dataset/appinfo/dlc_data\n",
      "exit code 0\n",
      "b''\n",
      "hdfs dfs -put /data/master_volume/datasets/steam-dataset/appinfo/dlc_data/timestamp.txt /datasets/steam-dataset/appinfo/dlc_data\n",
      "exit code 0\n",
      "b''\n",
      "hdfs dfs -put /data/master_volume/datasets/steam-dataset/appinfo/store_data/steam_store_data.jsonl /datasets/steam-dataset/appinfo/store_data\n",
      "exit code 0\n",
      "b''\n",
      "hdfs dfs -put /data/master_volume/datasets/steam-dataset/appinfo/store_data/timestamp.txt /datasets/steam-dataset/appinfo/store_data\n",
      "exit code 0\n",
      "b''\n",
      "hdfs dfs -put /data/master_volume/datasets/steam-dataset/news_data/missing.jsonl /datasets/steam-dataset/news_data\n",
      "exit code 0\n",
      "b''\n",
      "hdfs dfs -put /data/master_volume/datasets/steam-dataset/news_data/steam_news_data.jsonl /datasets/steam-dataset/news_data\n",
      "exit code 0\n",
      "b''\n",
      "hdfs dfs -put /data/master_volume/datasets/steam-dataset/news_data/timestamp.txt /datasets/steam-dataset/news_data\n",
      "exit code 0\n",
      "b''\n",
      "hdfs dfs -put /data/master_volume/datasets/steam-dataset/steamspy/basic/steam_spy_scrap.jsonl /datasets/steam-dataset/steamspy/basic\n",
      "exit code 0\n",
      "b''\n",
      "hdfs dfs -put /data/master_volume/datasets/steam-dataset/steamspy/basic/timestamp.txt /datasets/steam-dataset/steamspy/basic\n",
      "exit code 0\n",
      "b''\n",
      "hdfs dfs -put /data/master_volume/datasets/steam-dataset/steamspy/detailed/steam_spy_detailed.jsonl /datasets/steam-dataset/steamspy/detailed\n",
      "exit code 0\n",
      "b''\n",
      "hdfs dfs -put /data/master_volume/datasets/steam-dataset/steamspy/detailed/timestamp.txt /datasets/steam-dataset/steamspy/detailed\n",
      "exit code 0\n",
      "b''\n",
      "hdfs dfs -put /data/master_volume/datasets/steam-dataset/steam_charts/missing.jsonl /datasets/steam-dataset/steam_charts\n",
      "exit code 0\n",
      "b''\n",
      "hdfs dfs -put /data/master_volume/datasets/steam-dataset/steam_charts/steam_charts.jsonl /datasets/steam-dataset/steam_charts\n",
      "exit code 0\n",
      "b''\n",
      "hdfs dfs -put /data/master_volume/datasets/steam-dataset/steam_charts/timestamp.txt /datasets/steam-dataset/steam_charts\n",
      "exit code 0\n",
      "b''\n",
      "hdfs dfs -put /data/master_volume/datasets/youtube-trending-video-dataset/BR_category_id.jsonl /datasets/youtube-trending-video-dataset\n",
      "exit code 0\n",
      "b''\n",
      "hdfs dfs -put /data/master_volume/datasets/youtube-trending-video-dataset/BR_youtube_trending_data.csv /datasets/youtube-trending-video-dataset\n",
      "exit code 0\n",
      "b''\n",
      "hdfs dfs -put /data/master_volume/datasets/youtube-trending-video-dataset/CA_category_id.jsonl /datasets/youtube-trending-video-dataset\n",
      "exit code 0\n",
      "b''\n",
      "hdfs dfs -put /data/master_volume/datasets/youtube-trending-video-dataset/CA_youtube_trending_data.csv /datasets/youtube-trending-video-dataset\n",
      "exit code 0\n",
      "b''\n",
      "hdfs dfs -put /data/master_volume/datasets/youtube-trending-video-dataset/DE_category_id.jsonl /datasets/youtube-trending-video-dataset\n",
      "exit code 0\n",
      "b''\n",
      "hdfs dfs -put /data/master_volume/datasets/youtube-trending-video-dataset/DE_youtube_trending_data.csv /datasets/youtube-trending-video-dataset\n",
      "exit code 0\n",
      "b''\n",
      "hdfs dfs -put /data/master_volume/datasets/youtube-trending-video-dataset/FR_category_id.jsonl /datasets/youtube-trending-video-dataset\n",
      "exit code 0\n",
      "b''\n",
      "hdfs dfs -put /data/master_volume/datasets/youtube-trending-video-dataset/FR_youtube_trending_data.csv /datasets/youtube-trending-video-dataset\n",
      "exit code 0\n",
      "b''\n",
      "hdfs dfs -put /data/master_volume/datasets/youtube-trending-video-dataset/GB_category_id.jsonl /datasets/youtube-trending-video-dataset\n",
      "exit code 0\n",
      "b''\n",
      "hdfs dfs -put /data/master_volume/datasets/youtube-trending-video-dataset/GB_youtube_trending_data.csv /datasets/youtube-trending-video-dataset\n",
      "exit code 0\n",
      "b''\n",
      "hdfs dfs -put /data/master_volume/datasets/youtube-trending-video-dataset/IN_category_id.jsonl /datasets/youtube-trending-video-dataset\n",
      "exit code 0\n",
      "b''\n",
      "hdfs dfs -put /data/master_volume/datasets/youtube-trending-video-dataset/IN_youtube_trending_data.csv /datasets/youtube-trending-video-dataset\n",
      "exit code 0\n",
      "b''\n",
      "hdfs dfs -put /data/master_volume/datasets/youtube-trending-video-dataset/JP_category_id.jsonl /datasets/youtube-trending-video-dataset\n",
      "exit code 0\n",
      "b''\n",
      "hdfs dfs -put /data/master_volume/datasets/youtube-trending-video-dataset/JP_youtube_trending_data.csv /datasets/youtube-trending-video-dataset\n",
      "exit code 0\n",
      "b''\n",
      "hdfs dfs -put /data/master_volume/datasets/youtube-trending-video-dataset/KR_category_id.jsonl /datasets/youtube-trending-video-dataset\n",
      "exit code 0\n",
      "b''\n",
      "hdfs dfs -put /data/master_volume/datasets/youtube-trending-video-dataset/KR_youtube_trending_data.csv /datasets/youtube-trending-video-dataset\n",
      "exit code 0\n",
      "b''\n",
      "hdfs dfs -put /data/master_volume/datasets/youtube-trending-video-dataset/MX_category_id.jsonl /datasets/youtube-trending-video-dataset\n",
      "exit code 0\n",
      "b''\n",
      "hdfs dfs -put /data/master_volume/datasets/youtube-trending-video-dataset/MX_youtube_trending_data.csv /datasets/youtube-trending-video-dataset\n",
      "exit code 0\n",
      "b''\n",
      "hdfs dfs -put /data/master_volume/datasets/youtube-trending-video-dataset/owid-covid-data (4).csv /datasets/youtube-trending-video-dataset\n",
      "exit code 1\n",
      "b\"put: `/data/master_volume/datasets/youtube-trending-video-dataset/owid-covid-data': No such file or directory\\nput: `(4).csv': No such file or directory\\n\"\n",
      "hdfs dfs -put /data/master_volume/datasets/youtube-trending-video-dataset/RU_category_id.jsonl /datasets/youtube-trending-video-dataset\n",
      "exit code 0\n",
      "b''\n",
      "hdfs dfs -put /data/master_volume/datasets/youtube-trending-video-dataset/RU_youtube_trending_data.csv /datasets/youtube-trending-video-dataset\n",
      "exit code 0\n",
      "b''\n",
      "hdfs dfs -put /data/master_volume/datasets/youtube-trending-video-dataset/US_category_id.jsonl /datasets/youtube-trending-video-dataset\n",
      "exit code 0\n",
      "b''\n",
      "hdfs dfs -put /data/master_volume/datasets/youtube-trending-video-dataset/US_youtube_trending_data.csv /datasets/youtube-trending-video-dataset\n",
      "exit code 0\n",
      "b''\n",
      "Done\n"
     ]
    }
   ],
   "source": [
    "%%timeit -r 1 -n 1\n",
    "\n",
    "print(\"Uploading to HDFS\")\n",
    "\n",
    "for root, directories, files in os.walk(f\"{output_dir}\"):\n",
    "        for filename in files:\n",
    "            if filename.endswith(\".json\"):\n",
    "                continue # skip JSON files, we have JSONL from previous step\n",
    "            path = os.path\\\n",
    "                .join(root,filename)\\\n",
    "                .replace(\"../../master_volume/\", \"\")\\\n",
    "                .replace(\"\\\\\", \"/\")\n",
    "            start_single = timer()\n",
    "            hdfs_upload(path)\n",
    "            end_single = timer()\n",
    "            print(f\"HDFS upload took {end_single - start_single:.02f}s\")"
   ],
   "metadata": {
    "collapsed": false,
    "ExecuteTime": {
     "start_time": "2023-04-23T12:43:31.174676Z",
     "end_time": "2023-04-23T12:43:31.190297Z"
    }
   }
  },
  {
   "cell_type": "code",
   "execution_count": 56,
   "outputs": [],
   "source": [
    "def hdfs_set_replication_level(number):\n",
    "    container.exec_run(f\"hdfs dfs -setrep -R {number} /\")\n",
    "\n",
    "hdfs_set_replication_level(3)"
   ],
   "metadata": {
    "collapsed": false,
    "ExecuteTime": {
     "start_time": "2023-04-23T12:00:55.251739Z",
     "end_time": "2023-04-23T12:00:56.718692Z"
    }
   }
  },
  {
   "cell_type": "markdown",
   "source": [
    "## Akwizycja danych zmiennych\n",
    "\n",
    "Nasz proces zakłada, że na podstawie części danych niezmiennych dotyczących gier z serwisu Steam (steam_dataset) wytypujemy te gry, o których liczby graczy na przestrzeni czasu będziemy pytać SteamCharts API za pomocą bardzo prostego zapytania\n",
    "```\n",
    "https://steamcharts.com/app/<appid>/chart-data.json\n",
    "```\n",
    "\n",
    "W celu akwizycji tych danych przygotowaliśmy proces map-reduce, który przyjmuje na wejściu potrzebne id i zwraca wyniki zapytania w odpowiedniej postaci. Na potrzeby tej listy zadań umieściliśmy w hdfs odpowiedni plik z wybranymi przez nas identyfikatorami do celów testowych. W przyszłości ten krok będzie wykorzystywał wyniki z poprzednich podprocesów."
   ],
   "metadata": {
    "collapsed": false
   }
  },
  {
   "cell_type": "code",
   "execution_count": null,
   "outputs": [],
   "source": [],
   "metadata": {
    "collapsed": false
   }
  }
 ],
 "metadata": {
  "kernelspec": {
   "display_name": "Python 3",
   "language": "python",
   "name": "python3"
  },
  "language_info": {
   "codemirror_mode": {
    "name": "ipython",
    "version": 2
   },
   "file_extension": ".py",
   "mimetype": "text/x-python",
   "name": "python",
   "nbconvert_exporter": "python",
   "pygments_lexer": "ipython2",
   "version": "2.7.6"
  }
 },
 "nbformat": 4,
 "nbformat_minor": 0
}
