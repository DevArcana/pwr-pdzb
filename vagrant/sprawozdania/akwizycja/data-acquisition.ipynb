{
 "cells": [
  {
   "cell_type": "markdown",
   "metadata": {},
   "source": [
    "# Sprawozdanie 6 - akwizycja danych\n",
    "\n",
    "## Środowisko\n",
    "\n",
    "Mamy maszynę wirtualną z Ubuntu postawioną za pomocą Vagrant'a (korzystającego pod spodem z VirtualBox'a). Na tej maszynie wirtualnej stawiamy kontenery Docker'a.\n",
    "\n",
    "Aby ułatwić sobie późniejszą pracę z obrazami na których postawiony jest hadoop postanowiliśmy dodać do master-node volumen na dane (modyfikując skrypty generujące docker-compose). Dzięki temu możemy w wygodny sposób (tj. poprzez wrzucenie do odpowiedniego folderu) przenosić pliki do miejsca, do którego możemy się dostać z poziomu maszyny z hadoopem. Warto zwrócić uwagę, że maszyna wirtualna także posiada taki wolumen, który zapewnia wykorzystanie Vagrant'a.\n",
    "\n",
    "```yaml\n",
    "master:\n",
    "    image: hjben/hadoop-eco:$hadoop_version\n",
    "    hostname: master\n",
    "    container_name: master\n",
    "    privileged: true\n",
    "    ports:\n",
    "      - 8088:8088\n",
    "      - 9870:9870\n",
    "      - 8042:8042\n",
    "      - 10000:10000\n",
    "      - 10002:10002\n",
    "      - 16010:16010\n",
    "    volumes:\n",
    "      - /sys/fs/cgroup:/sys/fs/cgroup\n",
    "      - $hdfs_path:/data/hadoop\n",
    "      - $hadoop_log_path:/usr/local/hadoop/logs\n",
    "      - $hbase_log_path/master:/usr/local/hbase/logs\n",
    "      - $hive_log_path:/usr/local/hive/logs\n",
    "      - $sqoop_log_path:/usr/local/sqoop/logs\n",
    "      - /vagrant/master_volume:/data/master_volume <-------------- dodany volumen\n",
    "    networks:\n",
    "      hadoop-cluster:\n",
    "        ipv4_address: 10.1.2.3\n",
    "    extra_hosts:\n",
    "      - \"mariadb:10.1.2.2\"\n",
    "      - \"master:10.1.2.3\"\n",
    "```"
   ]
  },
  {
   "cell_type": "markdown",
   "metadata": {},
   "source": [
    "## Pobieranie danych\n",
    "Niestety przez potrzebę generowania i podania klucza API do serwisu kaggle przed pobraniem danych należy wykonać kilka czynności.\n",
    "\n",
    "1. Pobrać ze strony kaggle klucz API (kaggle.json)\n",
    "2. Stworzyć folder .kaggle w głównym katalogu użytkownika i skopiować tam klucz API\n",
    "3. Poniższe funkcje:\n",
    "    1. Pobierają z kaggle:\n",
    "       * [YouTube Trending Video Dataset](https://www.kaggle.com/datasets/rsrishav/youtube-trending-video-dataset)\n",
    "       * [Steam Dataset](https://www.kaggle.com/datasets/souyama/steam-dataset)\n",
    "    2. Pobierają z sieci [dane Covid'owe](https://covid.ourworldindata.org/data/owid-covid-data.csv)"
   ]
  },
  {
   "cell_type": "code",
   "execution_count": 1,
   "metadata": {
    "ExecuteTime": {
     "end_time": "2023-04-23T12:52:16.081337Z",
     "start_time": "2023-04-23T12:52:16.073489Z"
    }
   },
   "outputs": [],
   "source": [
    "import os\n",
    "from timeit import default_timer as timer\n",
    "import requests\n",
    "import docker\n",
    "import json\n",
    "import opendatasets as od"
   ]
  },
  {
   "cell_type": "code",
   "execution_count": 2,
   "metadata": {},
   "outputs": [],
   "source": [
    "if os.getcwd().startswith(\"/tmp\"):\n",
    "    os.chdir(\"/vagrant/sprawozdania/akwizycja\")"
   ]
  },
  {
   "cell_type": "code",
   "execution_count": 3,
   "metadata": {
    "ExecuteTime": {
     "end_time": "2023-04-23T12:42:01.755541Z",
     "start_time": "2023-04-23T12:42:01.739906Z"
    }
   },
   "outputs": [],
   "source": [
    "output_dir = \"../../master_volume/datasets\""
   ]
  },
  {
   "cell_type": "code",
   "execution_count": 14,
   "metadata": {
    "ExecuteTime": {
     "end_time": "2023-04-23T12:42:05.534496Z",
     "start_time": "2023-04-23T12:42:05.522809Z"
    }
   },
   "outputs": [
    {
     "name": "stdout",
     "output_type": "stream",
     "text": [
      "Downloading youtube-trending-video-dataset.zip to ../../master_volume/datasets\\youtube-trending-video-dataset\n"
     ]
    },
    {
     "name": "stderr",
     "output_type": "stream",
     "text": [
      "100%|██████████| 1.24G/1.24G [02:17<00:00, 9.70MB/s]\n"
     ]
    },
    {
     "name": "stdout",
     "output_type": "stream",
     "text": [
      "\n",
      "2min 32s ± 0 ns per loop (mean ± std. dev. of 1 run, 1 loop each)\n"
     ]
    }
   ],
   "source": [
    "%%timeit -r 1 -n 1\n",
    "if not os.path.isdir(f\"{output_dir}/youtube-trending-video-dataset\"):\n",
    "    od.download(\"https://www.kaggle.com/datasets/rsrishav/youtube-trending-video-dataset\", f\"{output_dir}\")\n",
    "else:\n",
    "    print(\"Dataset youtube-trending-video-dataset already exists, skipping download\")"
   ]
  },
  {
   "cell_type": "code",
   "execution_count": 18,
   "metadata": {},
   "outputs": [
    {
     "name": "stdout",
     "output_type": "stream",
     "text": [
      "Downloading steam-dataset.zip to ../../master_volume/datasets\\steam-dataset\n"
     ]
    },
    {
     "name": "stderr",
     "output_type": "stream",
     "text": [
      "100%|██████████| 610M/610M [00:57<00:00, 11.1MB/s] \n"
     ]
    },
    {
     "name": "stdout",
     "output_type": "stream",
     "text": [
      "\n",
      "1min 9s ± 0 ns per loop (mean ± std. dev. of 1 run, 1 loop each)\n"
     ]
    }
   ],
   "source": [
    "%%timeit -r 1 -n 1\n",
    "if not os.path.isdir(f\"{output_dir}/steam-dataset\"):\n",
    "    od.download(\"https://www.kaggle.com/datasets/souyama/steam-dataset\", f\"{output_dir}\")\n",
    "else:\n",
    "    print(\"Dataset steam-dataset already exists, skipping download\")"
   ]
  },
  {
   "cell_type": "code",
   "execution_count": 19,
   "metadata": {
    "ExecuteTime": {
     "end_time": "2023-04-23T12:42:10.223587Z",
     "start_time": "2023-04-23T12:42:10.207948Z"
    }
   },
   "outputs": [
    {
     "name": "stdout",
     "output_type": "stream",
     "text": [
      "Downloading covid-dataset to ../../master_volume/datasets/covid-dataset.csv\n",
      "Download finished in 1.80s\n",
      "covid-dataset.csv: 77.76MB\n",
      "1.8 s ± 0 ns per loop (mean ± std. dev. of 1 run, 1 loop each)\n"
     ]
    }
   ],
   "source": [
    "%%timeit -r 1 -n 1\n",
    "path = f\"{output_dir}/covid-dataset.csv\"\n",
    "\n",
    "if not os.path.isfile(path):\n",
    "    print(f\"Downloading covid-dataset to {path}\")\n",
    "    start = timer()\n",
    "    r = requests.get(\"https://covid.ourworldindata.org/data/owid-covid-data.csv\", allow_redirects=True)\n",
    "    with open(path, 'wb') as file:\n",
    "        file.write(r.content)\n",
    "    end = timer()\n",
    "    print(f\"Download finished in {end - start:.02f}s\")\n",
    "else:\n",
    "    print(\"Dataset covid-dataset already exists, skipping download\")\n",
    "\n",
    "print(f\"covid-dataset.csv: {os.stat(path).st_size / (1024 * 1024):.02f}MB\")"
   ]
  },
  {
   "cell_type": "markdown",
   "metadata": {},
   "source": [
    "## Formatowanie danych\n",
    "Po rozpakowaniu danych widać, że część z nich ma format trudny do późniejszej pracy. Ostatecznie postanowiliśmy przed wrzuceniem plików do hdfs wszystkie przetransformować do dormatu .jsonl. Format .jsonl zawiera obiekty json, każdy w kolejnej linii. Dzięki zastosowaniu takiego formatu łatwo będzie można implementować procesy map-reduce.\n"
   ]
  },
  {
   "cell_type": "code",
   "execution_count": 20,
   "metadata": {
    "ExecuteTime": {
     "end_time": "2023-04-23T12:42:59.178869Z",
     "start_time": "2023-04-23T12:42:59.162844Z"
    }
   },
   "outputs": [
    {
     "name": "stdout",
     "output_type": "stream",
     "text": [
      "Converting JSON to JSONL\n",
      "../../master_volume/datasets\\steam-dataset\\steam_dataset\\appinfo\\dlc_data\\missing.json\n",
      "../../master_volume/datasets\\steam-dataset\\steam_dataset\\appinfo\\dlc_data\\missing.jsonl\n",
      "../../master_volume/datasets\\steam-dataset\\steam_dataset\\appinfo\\dlc_data\\steam_dlc_data.json\n",
      "../../master_volume/datasets\\steam-dataset\\steam_dataset\\appinfo\\dlc_data\\steam_dlc_data.jsonl\n",
      "../../master_volume/datasets\\steam-dataset\\steam_dataset\\appinfo\\store_data\\steam_store_data.json\n",
      "../../master_volume/datasets\\steam-dataset\\steam_dataset\\appinfo\\store_data\\steam_store_data.jsonl\n",
      "../../master_volume/datasets\\steam-dataset\\steam_dataset\\news_data\\missing.json\n",
      "../../master_volume/datasets\\steam-dataset\\steam_dataset\\news_data\\missing.jsonl\n",
      "../../master_volume/datasets\\steam-dataset\\steam_dataset\\news_data\\steam_news_data.json\n",
      "../../master_volume/datasets\\steam-dataset\\steam_dataset\\news_data\\steam_news_data.jsonl\n",
      "../../master_volume/datasets\\steam-dataset\\steam_dataset\\steamspy\\basic\\steam_spy_scrap.json\n",
      "../../master_volume/datasets\\steam-dataset\\steam_dataset\\steamspy\\basic\\steam_spy_scrap.jsonl\n",
      "../../master_volume/datasets\\steam-dataset\\steam_dataset\\steamspy\\detailed\\steam_spy_detailed.json\n",
      "../../master_volume/datasets\\steam-dataset\\steam_dataset\\steamspy\\detailed\\steam_spy_detailed.jsonl\n",
      "../../master_volume/datasets\\steam-dataset\\steam_dataset\\steam_charts\\missing.json\n",
      "../../master_volume/datasets\\steam-dataset\\steam_dataset\\steam_charts\\missing.jsonl\n",
      "../../master_volume/datasets\\steam-dataset\\steam_dataset\\steam_charts\\steam_charts.json\n",
      "../../master_volume/datasets\\steam-dataset\\steam_dataset\\steam_charts\\steam_charts.jsonl\n",
      "../../master_volume/datasets\\youtube-trending-video-dataset\\BR_category_id.json\n",
      "../../master_volume/datasets\\youtube-trending-video-dataset\\BR_category_id.jsonl\n",
      "../../master_volume/datasets\\youtube-trending-video-dataset\\CA_category_id.json\n",
      "../../master_volume/datasets\\youtube-trending-video-dataset\\CA_category_id.jsonl\n",
      "../../master_volume/datasets\\youtube-trending-video-dataset\\DE_category_id.json\n",
      "../../master_volume/datasets\\youtube-trending-video-dataset\\DE_category_id.jsonl\n",
      "../../master_volume/datasets\\youtube-trending-video-dataset\\FR_category_id.json\n",
      "../../master_volume/datasets\\youtube-trending-video-dataset\\FR_category_id.jsonl\n",
      "../../master_volume/datasets\\youtube-trending-video-dataset\\GB_category_id.json\n",
      "../../master_volume/datasets\\youtube-trending-video-dataset\\GB_category_id.jsonl\n",
      "../../master_volume/datasets\\youtube-trending-video-dataset\\IN_category_id.json\n",
      "../../master_volume/datasets\\youtube-trending-video-dataset\\IN_category_id.jsonl\n",
      "../../master_volume/datasets\\youtube-trending-video-dataset\\JP_category_id.json\n",
      "../../master_volume/datasets\\youtube-trending-video-dataset\\JP_category_id.jsonl\n",
      "../../master_volume/datasets\\youtube-trending-video-dataset\\KR_category_id.json\n",
      "../../master_volume/datasets\\youtube-trending-video-dataset\\KR_category_id.jsonl\n",
      "../../master_volume/datasets\\youtube-trending-video-dataset\\MX_category_id.json\n",
      "../../master_volume/datasets\\youtube-trending-video-dataset\\MX_category_id.jsonl\n",
      "../../master_volume/datasets\\youtube-trending-video-dataset\\RU_category_id.json\n",
      "../../master_volume/datasets\\youtube-trending-video-dataset\\RU_category_id.jsonl\n",
      "../../master_volume/datasets\\youtube-trending-video-dataset\\US_category_id.json\n",
      "../../master_volume/datasets\\youtube-trending-video-dataset\\US_category_id.jsonl\n",
      "Done\n",
      "2min 3s ± 0 ns per loop (mean ± std. dev. of 1 run, 1 loop each)\n"
     ]
    }
   ],
   "source": [
    "%%timeit -r 1 -n 1\n",
    "\n",
    "print(\"Converting JSON to JSONL\")\n",
    "for root, directories, files in os.walk(f\"{output_dir}\"):\n",
    "        for filename in files:\n",
    "            path = os.path.join(root,filename)\n",
    "            output_path = f\"{path}l\"\n",
    "\n",
    "            if os.path.isfile(output_path):\n",
    "                continue\n",
    "\n",
    "            if path.endswith(\".json\"):\n",
    "                print(path)\n",
    "                with open(path, \"r\") as file:\n",
    "                    data = json.load(file)\n",
    "                    if type(data) is dict:\n",
    "                        data = [{\"key\": key, \"value\": data[key]} for key in data]\n",
    "\n",
    "                    with open(output_path, \"w\") as jsonl_file:\n",
    "                        for obj in data:\n",
    "                            json.dump(obj, jsonl_file)\n",
    "                            jsonl_file.write(\"\\n\")\n",
    "                    print(output_path)\n",
    "\n",
    "print(\"Done\")"
   ]
  },
  {
   "cell_type": "markdown",
   "metadata": {},
   "source": [
    "## Dodanie plików do hdfs"
   ]
  },
  {
   "cell_type": "code",
   "execution_count": 21,
   "metadata": {},
   "outputs": [],
   "source": [
    "client = docker.from_env()\n",
    "container = client.containers.get('master')\n",
    "\n",
    "def hdfs_mkdir(path):\n",
    "    container.exec_run(f\"hdfs dfs -mkdir -p /{path}/\")\n",
    "\n",
    "def hdfs_upload(path):\n",
    "    directory = \"/\".join(path.split(\"/\")[:-1])\n",
    "    hdfs_mkdir(directory)\n",
    "    cmd = f\"hdfs dfs -put /data/master_volume/{path} /{directory}\"\n",
    "    print(cmd)\n",
    "    code, output = container.exec_run(cmd)\n",
    "    print(f\"exit code {code}\")\n",
    "    print(output)"
   ]
  },
  {
   "cell_type": "code",
   "execution_count": 22,
   "metadata": {
    "ExecuteTime": {
     "end_time": "2023-04-23T12:43:31.190297Z",
     "start_time": "2023-04-23T12:43:31.174676Z"
    }
   },
   "outputs": [
    {
     "name": "stdout",
     "output_type": "stream",
     "text": [
      "Uploading to HDFS\n",
      "hdfs dfs -put /data/master_volume/datasets/covid-dataset.csv /datasets\n",
      "exit code 0\n",
      "b''\n",
      "HDFS upload of 77.76MB took 5.08s\n",
      "hdfs dfs -put /data/master_volume/datasets/steam-dataset/steam_dataset/appinfo/dlc_data/missing.jsonl /datasets/steam-dataset/steam_dataset/appinfo/dlc_data\n",
      "exit code 0\n",
      "b''\n",
      "HDFS upload of 0.00MB took 2.72s\n",
      "hdfs dfs -put /data/master_volume/datasets/steam-dataset/steam_dataset/appinfo/dlc_data/steam_dlc_data.jsonl /datasets/steam-dataset/steam_dataset/appinfo/dlc_data\n",
      "exit code 0\n",
      "b''\n",
      "HDFS upload of 230.57MB took 9.75s\n",
      "hdfs dfs -put /data/master_volume/datasets/steam-dataset/steam_dataset/appinfo/dlc_data/timestamp.txt /datasets/steam-dataset/steam_dataset/appinfo/dlc_data\n",
      "exit code 0\n",
      "b''\n",
      "HDFS upload of 0.00MB took 2.84s\n",
      "hdfs dfs -put /data/master_volume/datasets/steam-dataset/steam_dataset/appinfo/store_data/steam_store_data.jsonl /datasets/steam-dataset/steam_dataset/appinfo/store_data\n",
      "exit code 0\n",
      "b''\n",
      "HDFS upload of 552.35MB took 19.69s\n",
      "hdfs dfs -put /data/master_volume/datasets/steam-dataset/steam_dataset/appinfo/store_data/timestamp.txt /datasets/steam-dataset/steam_dataset/appinfo/store_data\n",
      "exit code 0\n",
      "b''\n",
      "HDFS upload of 0.00MB took 2.72s\n",
      "hdfs dfs -put /data/master_volume/datasets/steam-dataset/steam_dataset/news_data/missing.jsonl /datasets/steam-dataset/steam_dataset/news_data\n",
      "exit code 0\n",
      "b''\n",
      "HDFS upload of 0.00MB took 2.74s\n",
      "hdfs dfs -put /data/master_volume/datasets/steam-dataset/steam_dataset/news_data/steam_news_data.jsonl /datasets/steam-dataset/steam_dataset/news_data\n",
      "exit code 0\n",
      "b''\n",
      "HDFS upload of 1921.29MB took 60.02s\n",
      "hdfs dfs -put /data/master_volume/datasets/steam-dataset/steam_dataset/news_data/timestamp.txt /datasets/steam-dataset/steam_dataset/news_data\n",
      "exit code 0\n",
      "b''\n",
      "HDFS upload of 0.00MB took 2.74s\n",
      "hdfs dfs -put /data/master_volume/datasets/steam-dataset/steam_dataset/steamspy/basic/steam_spy_scrap.jsonl /datasets/steam-dataset/steam_dataset/steamspy/basic\n",
      "exit code 0\n",
      "b''\n",
      "HDFS upload of 19.16MB took 3.26s\n",
      "hdfs dfs -put /data/master_volume/datasets/steam-dataset/steam_dataset/steamspy/basic/timestamp.txt /datasets/steam-dataset/steam_dataset/steamspy/basic\n",
      "exit code 0\n",
      "b''\n",
      "HDFS upload of 0.00MB took 2.68s\n",
      "hdfs dfs -put /data/master_volume/datasets/steam-dataset/steam_dataset/steamspy/detailed/steam_spy_detailed.jsonl /datasets/steam-dataset/steam_dataset/steamspy/detailed\n",
      "exit code 0\n",
      "b''\n",
      "HDFS upload of 34.17MB took 3.62s\n",
      "hdfs dfs -put /data/master_volume/datasets/steam-dataset/steam_dataset/steamspy/detailed/timestamp.txt /datasets/steam-dataset/steam_dataset/steamspy/detailed\n",
      "exit code 0\n",
      "b''\n",
      "HDFS upload of 0.00MB took 2.68s\n",
      "hdfs dfs -put /data/master_volume/datasets/steam-dataset/steam_dataset/steam_charts/missing.jsonl /datasets/steam-dataset/steam_dataset/steam_charts\n",
      "exit code 0\n",
      "b''\n",
      "HDFS upload of 0.00MB took 2.67s\n",
      "hdfs dfs -put /data/master_volume/datasets/steam-dataset/steam_dataset/steam_charts/steam_charts.jsonl /datasets/steam-dataset/steam_dataset/steam_charts\n",
      "exit code 0\n",
      "b''\n",
      "HDFS upload of 229.27MB took 9.67s\n",
      "hdfs dfs -put /data/master_volume/datasets/steam-dataset/steam_dataset/steam_charts/timestamp.txt /datasets/steam-dataset/steam_dataset/steam_charts\n",
      "exit code 0\n",
      "b''\n",
      "HDFS upload of 0.00MB took 2.74s\n",
      "hdfs dfs -put /data/master_volume/datasets/youtube-trending-video-dataset/BR_category_id.jsonl /datasets/youtube-trending-video-dataset\n",
      "exit code 0\n",
      "b''\n",
      "HDFS upload of 0.01MB took 2.62s\n",
      "hdfs dfs -put /data/master_volume/datasets/youtube-trending-video-dataset/BR_youtube_trending_data.csv /datasets/youtube-trending-video-dataset\n",
      "exit code 0\n",
      "b''\n",
      "HDFS upload of 249.95MB took 13.51s\n",
      "hdfs dfs -put /data/master_volume/datasets/youtube-trending-video-dataset/CA_category_id.jsonl /datasets/youtube-trending-video-dataset\n",
      "exit code 0\n",
      "b''\n",
      "HDFS upload of 0.01MB took 2.74s\n",
      "hdfs dfs -put /data/master_volume/datasets/youtube-trending-video-dataset/CA_youtube_trending_data.csv /datasets/youtube-trending-video-dataset\n",
      "exit code 0\n",
      "b''\n",
      "HDFS upload of 284.61MB took 15.18s\n",
      "hdfs dfs -put /data/master_volume/datasets/youtube-trending-video-dataset/DE_category_id.jsonl /datasets/youtube-trending-video-dataset\n",
      "exit code 0\n",
      "b''\n",
      "HDFS upload of 0.01MB took 2.68s\n",
      "hdfs dfs -put /data/master_volume/datasets/youtube-trending-video-dataset/DE_youtube_trending_data.csv /datasets/youtube-trending-video-dataset\n",
      "exit code 0\n",
      "b''\n",
      "HDFS upload of 320.86MB took 16.22s\n",
      "hdfs dfs -put /data/master_volume/datasets/youtube-trending-video-dataset/FR_category_id.jsonl /datasets/youtube-trending-video-dataset\n",
      "exit code 0\n",
      "b''\n",
      "HDFS upload of 0.01MB took 2.67s\n",
      "hdfs dfs -put /data/master_volume/datasets/youtube-trending-video-dataset/FR_youtube_trending_data.csv /datasets/youtube-trending-video-dataset\n",
      "exit code 0\n",
      "b''\n",
      "HDFS upload of 260.38MB took 14.01s\n",
      "hdfs dfs -put /data/master_volume/datasets/youtube-trending-video-dataset/GB_category_id.jsonl /datasets/youtube-trending-video-dataset\n",
      "exit code 0\n",
      "b''\n",
      "HDFS upload of 0.01MB took 2.65s\n",
      "hdfs dfs -put /data/master_volume/datasets/youtube-trending-video-dataset/GB_youtube_trending_data.csv /datasets/youtube-trending-video-dataset\n",
      "exit code 0\n",
      "b''\n",
      "HDFS upload of 277.22MB took 14.81s\n",
      "hdfs dfs -put /data/master_volume/datasets/youtube-trending-video-dataset/IN_category_id.jsonl /datasets/youtube-trending-video-dataset\n",
      "exit code 0\n",
      "b''\n",
      "HDFS upload of 0.01MB took 2.69s\n",
      "hdfs dfs -put /data/master_volume/datasets/youtube-trending-video-dataset/IN_youtube_trending_data.csv /datasets/youtube-trending-video-dataset\n",
      "exit code 0\n",
      "b''\n",
      "HDFS upload of 293.74MB took 15.66s\n",
      "hdfs dfs -put /data/master_volume/datasets/youtube-trending-video-dataset/JP_category_id.jsonl /datasets/youtube-trending-video-dataset\n",
      "exit code 0\n",
      "b''\n",
      "HDFS upload of 0.01MB took 2.73s\n",
      "hdfs dfs -put /data/master_volume/datasets/youtube-trending-video-dataset/JP_youtube_trending_data.csv /datasets/youtube-trending-video-dataset\n",
      "exit code 0\n",
      "b''\n",
      "HDFS upload of 377.07MB took 19.44s\n",
      "hdfs dfs -put /data/master_volume/datasets/youtube-trending-video-dataset/KR_category_id.jsonl /datasets/youtube-trending-video-dataset\n",
      "exit code 0\n",
      "b''\n",
      "HDFS upload of 0.01MB took 2.70s\n",
      "hdfs dfs -put /data/master_volume/datasets/youtube-trending-video-dataset/KR_youtube_trending_data.csv /datasets/youtube-trending-video-dataset\n",
      "exit code 0\n",
      "b''\n",
      "HDFS upload of 223.77MB took 12.52s\n",
      "hdfs dfs -put /data/master_volume/datasets/youtube-trending-video-dataset/MX_category_id.jsonl /datasets/youtube-trending-video-dataset\n",
      "exit code 0\n",
      "b''\n",
      "HDFS upload of 0.01MB took 2.71s\n",
      "hdfs dfs -put /data/master_volume/datasets/youtube-trending-video-dataset/MX_youtube_trending_data.csv /datasets/youtube-trending-video-dataset\n",
      "exit code 0\n",
      "b''\n",
      "HDFS upload of 252.55MB took 13.56s\n",
      "hdfs dfs -put /data/master_volume/datasets/youtube-trending-video-dataset/RU_category_id.jsonl /datasets/youtube-trending-video-dataset\n",
      "exit code 0\n",
      "b''\n",
      "HDFS upload of 0.01MB took 2.70s\n",
      "hdfs dfs -put /data/master_volume/datasets/youtube-trending-video-dataset/RU_youtube_trending_data.csv /datasets/youtube-trending-video-dataset\n",
      "exit code 0\n",
      "b''\n",
      "HDFS upload of 378.40MB took 18.95s\n",
      "hdfs dfs -put /data/master_volume/datasets/youtube-trending-video-dataset/US_category_id.jsonl /datasets/youtube-trending-video-dataset\n",
      "exit code 0\n",
      "b''\n",
      "HDFS upload of 0.01MB took 2.61s\n",
      "hdfs dfs -put /data/master_volume/datasets/youtube-trending-video-dataset/US_youtube_trending_data.csv /datasets/youtube-trending-video-dataset\n",
      "exit code 0\n",
      "b''\n",
      "HDFS upload of 283.76MB took 14.74s\n",
      "5min 33s ± 0 ns per loop (mean ± std. dev. of 1 run, 1 loop each)\n"
     ]
    }
   ],
   "source": [
    "%%timeit -r 1 -n 1\n",
    "\n",
    "print(\"Uploading to HDFS\")\n",
    "\n",
    "for root, directories, files in os.walk(f\"{output_dir}\"):\n",
    "        for filename in files:\n",
    "            if filename.endswith(\".json\"):\n",
    "                continue # skip JSON files, we have JSONL from previous step\n",
    "            filepath = path = os.path\\\n",
    "                .join(root,filename)\n",
    "\n",
    "            path = filepath\\\n",
    "                .replace(\"../../master_volume/\", \"\")\\\n",
    "                .replace(\"\\\\\", \"/\")\n",
    "\n",
    "            start_single = timer()\n",
    "            hdfs_upload(path)\n",
    "            end_single = timer()\n",
    "            print(f\"HDFS upload of {os.stat(filepath).st_size / (1024 * 1024):.02f}MB took {end_single - start_single:.02f}s\")"
   ]
  },
  {
   "cell_type": "code",
   "execution_count": 23,
   "metadata": {
    "ExecuteTime": {
     "end_time": "2023-04-23T12:00:56.718692Z",
     "start_time": "2023-04-23T12:00:55.251739Z"
    }
   },
   "outputs": [],
   "source": [
    "def hdfs_set_replication_level(number):\n",
    "    container.exec_run(f\"hdfs dfs -setrep -R {number} /\")\n",
    "\n",
    "hdfs_set_replication_level(3)"
   ]
  },
  {
   "cell_type": "markdown",
   "metadata": {},
   "source": [
    "## Akwizycja danych zmiennych\n",
    "\n",
    "Nasz proces zakłada, że na podstawie części danych niezmiennych dotyczących gier z serwisu Steam (steam_dataset) wytypujemy te gry, o których liczby graczy na przestrzeni czasu będziemy pytać SteamCharts API za pomocą bardzo prostego zapytania\n",
    "```\n",
    "https://steamcharts.com/app/<appid>/chart-data.json\n",
    "```\n",
    "\n",
    "W celu akwizycji tych danych przygotowaliśmy proces map-reduce, który przyjmuje na wejściu potrzebne id i zwraca wyniki zapytania w odpowiedniej postaci (zgodnie z poniższą ilustracją). Na dzień dzisiejszy wybór odpowiednich gier jest symulowany (wybierane jest po prostu pierwsze 20). Pierwszy podproces, który agreguje dane został poprawnie zaimplementowany jako proces map-reduce.\n",
    "\n",
    "![](images/SteamChartsBig.png)"
   ]
  },
  {
   "cell_type": "markdown",
   "metadata": {},
   "source": [
    "### Agregacja danych"
   ]
  },
  {
   "cell_type": "code",
   "execution_count": 24,
   "metadata": {
    "scrolled": false
   },
   "outputs": [
    {
     "data": {
      "text/plain": [
       "ExecResult(exit_code=0, output=b\"2023-04-24 05:41:14,965 INFO client.DefaultNoHARMFailoverProxyProvider: Connecting to ResourceManager at master/10.1.2.3:8050\\n2023-04-24 05:41:15,176 WARN mapreduce.JobResourceUploader: Hadoop command-line option parsing not performed. Implement the Tool interface and execute your application with ToolRunner to remedy this.\\n2023-04-24 05:41:15,186 INFO mapreduce.JobResourceUploader: Disabling Erasure Coding for path: /tmp/hadoop-yarn/staging/root/.staging/job_1682280865018_0001\\n2023-04-24 05:41:15,882 INFO input.FileInputFormat: Total input files to process : 2\\n2023-04-24 05:41:16,054 INFO mapreduce.JobSubmitter: number of splits:6\\n2023-04-24 05:41:16,158 INFO mapreduce.JobSubmitter: Submitting tokens for job: job_1682280865018_0001\\n2023-04-24 05:41:16,158 INFO mapreduce.JobSubmitter: Executing with tokens: []\\n2023-04-24 05:41:16,287 INFO conf.Configuration: resource-types.xml not found\\n2023-04-24 05:41:16,287 INFO resource.ResourceUtils: Unable to find 'resource-types.xml'.\\n2023-04-24 05:41:16,624 INFO impl.YarnClientImpl: Submitted application application_1682280865018_0001\\n2023-04-24 05:41:16,645 INFO mapreduce.Job: The url to track the job: http://master:8088/proxy/application_1682280865018_0001/\\n2023-04-24 05:41:16,646 INFO mapreduce.Job: Running job: job_1682280865018_0001\\n2023-04-24 05:41:21,709 INFO mapreduce.Job: Job job_1682280865018_0001 running in uber mode : false\\n2023-04-24 05:41:21,710 INFO mapreduce.Job:  map 0% reduce 0%\\n2023-04-24 05:41:51,940 INFO mapreduce.Job:  map 9% reduce 0%\\n2023-04-24 05:41:56,973 INFO mapreduce.Job:  map 17% reduce 0%\\n2023-04-24 05:41:57,978 INFO mapreduce.Job:  map 21% reduce 0%\\n2023-04-24 05:41:59,998 INFO mapreduce.Job:  map 29% reduce 0%\\n2023-04-24 05:42:03,024 INFO mapreduce.Job:  map 37% reduce 0%\\n2023-04-24 05:42:04,030 INFO mapreduce.Job:  map 39% reduce 0%\\n2023-04-24 05:42:09,056 INFO mapreduce.Job:  map 46% reduce 0%\\n2023-04-24 05:42:10,062 INFO mapreduce.Job:  map 48% reduce 0%\\n2023-04-24 05:42:15,088 INFO mapreduce.Job:  map 58% reduce 0%\\n2023-04-24 05:42:16,093 INFO mapreduce.Job:  map 64% reduce 0%\\n2023-04-24 05:42:18,103 INFO mapreduce.Job:  map 64% reduce 11%\\n2023-04-24 05:42:19,108 INFO mapreduce.Job:  map 71% reduce 11%\\n2023-04-24 05:42:20,115 INFO mapreduce.Job:  map 78% reduce 11%\\n2023-04-24 05:42:21,121 INFO mapreduce.Job:  map 81% reduce 11%\\n2023-04-24 05:42:22,125 INFO mapreduce.Job:  map 87% reduce 11%\\n2023-04-24 05:42:24,136 INFO mapreduce.Job:  map 87% reduce 28%\\n2023-04-24 05:42:27,147 INFO mapreduce.Job:  map 88% reduce 28%\\n2023-04-24 05:42:33,168 INFO mapreduce.Job:  map 89% reduce 28%\\n2023-04-24 05:42:39,189 INFO mapreduce.Job:  map 90% reduce 28%\\n2023-04-24 05:42:45,209 INFO mapreduce.Job:  map 91% reduce 28%\\n2023-04-24 05:42:51,229 INFO mapreduce.Job:  map 92% reduce 28%\\n2023-04-24 05:42:57,249 INFO mapreduce.Job:  map 93% reduce 28%\\n2023-04-24 05:43:09,286 INFO mapreduce.Job:  map 94% reduce 28%\\n2023-04-24 05:43:10,289 INFO mapreduce.Job:  map 100% reduce 28%\\n2023-04-24 05:43:11,294 INFO mapreduce.Job:  map 100% reduce 100%\\n2023-04-24 05:43:11,297 INFO mapreduce.Job: Job job_1682280865018_0001 completed successfully\\n2023-04-24 05:43:11,346 INFO mapreduce.Job: Counters: 56\\n\\tFile System Counters\\n\\t\\tFILE: Number of bytes read=22218431\\n\\t\\tFILE: Number of bytes written=46294273\\n\\t\\tFILE: Number of read operations=0\\n\\t\\tFILE: Number of large read operations=0\\n\\t\\tFILE: Number of write operations=0\\n\\t\\tHDFS: Number of bytes read=599315369\\n\\t\\tHDFS: Number of bytes written=7551656\\n\\t\\tHDFS: Number of read operations=23\\n\\t\\tHDFS: Number of large read operations=0\\n\\t\\tHDFS: Number of write operations=2\\n\\t\\tHDFS: Number of bytes read erasure-coded=0\\n\\tJob Counters \\n\\t\\tKilled map tasks=2\\n\\t\\tLaunched map tasks=8\\n\\t\\tLaunched reduce tasks=1\\n\\t\\tData-local map tasks=6\\n\\t\\tRack-local map tasks=2\\n\\t\\tTotal time spent by all maps in occupied slots (ms)=432662\\n\\t\\tTotal time spent by all reduces in occupied slots (ms)=67908\\n\\t\\tTotal time spent by all map tasks (ms)=432662\\n\\t\\tTotal time spent by all reduce tasks (ms)=67908\\n\\t\\tTotal vcore-milliseconds taken by all map tasks=432662\\n\\t\\tTotal vcore-milliseconds taken by all reduce tasks=67908\\n\\t\\tTotal megabyte-milliseconds taken by all map tasks=443045888\\n\\t\\tTotal megabyte-milliseconds taken by all reduce tasks=69537792\\n\\tMap-Reduce Framework\\n\\t\\tMap input records=103972\\n\\t\\tMap output records=103972\\n\\t\\tMap output bytes=21906426\\n\\t\\tMap output materialized bytes=22218461\\n\\t\\tInput split bytes=1861\\n\\t\\tCombine input records=0\\n\\t\\tCombine output records=0\\n\\t\\tReduce input groups=52043\\n\\t\\tReduce shuffle bytes=22218461\\n\\t\\tReduce input records=103972\\n\\t\\tReduce output records=51915\\n\\t\\tSpilled Records=207944\\n\\t\\tShuffled Maps =6\\n\\t\\tFailed Shuffles=0\\n\\t\\tMerged Map outputs=6\\n\\t\\tGC time elapsed (ms)=2525\\n\\t\\tCPU time spent (ms)=431790\\n\\t\\tPhysical memory (bytes) snapshot=4189437952\\n\\t\\tVirtual memory (bytes) snapshot=19050074112\\n\\t\\tTotal committed heap usage (bytes)=3588751360\\n\\t\\tPeak Map Physical memory (bytes)=634241024\\n\\t\\tPeak Map Virtual memory (bytes)=2733645824\\n\\t\\tPeak Reduce Physical memory (bytes)=480530432\\n\\t\\tPeak Reduce Virtual memory (bytes)=2685792256\\n\\tShuffle Errors\\n\\t\\tBAD_ID=0\\n\\t\\tCONNECTION=0\\n\\t\\tIO_ERROR=0\\n\\t\\tWRONG_LENGTH=0\\n\\t\\tWRONG_MAP=0\\n\\t\\tWRONG_REDUCE=0\\n\\tFile Input Format Counters \\n\\t\\tBytes Read=0\\n\\tFile Output Format Counters \\n\\t\\tBytes Written=7551656\\n\")"
      ]
     },
     "execution_count": 24,
     "metadata": {},
     "output_type": "execute_result"
    }
   ],
   "source": [
    "client = docker.from_env()\n",
    "container = client.containers.get('master')\n",
    "\n",
    "res1 = container.exec_run((\"yarn jar /data/master_volume/map_reduce_jars/1.jar \"\n",
    "\"/datasets/steam-dataset/steam_dataset/appinfo/store_data/steam_store_data.jsonl \"\n",
    "\"/datasets/steam-dataset/steam_dataset/steamspy/basic/steam_spy_scrap.jsonl \"\n",
    "\"/out_steam_1\"))\n",
    "\n",
    "res1"
   ]
  },
  {
   "cell_type": "code",
   "execution_count": 25,
   "metadata": {},
   "outputs": [
    {
     "name": "stdout",
     "output_type": "stream",
     "text": [
      "10\t{\"game_id\":10,\"name\":\"Counter-Strike\",\"positive\":196557,\"negative\":5070,\"owners\":\"10,000,000 .. 20,000,000\",\"ccu\":12877,\"release_date\":\"Nov 1, 2000\"}\n",
      "1000000\t{\"game_id\":1000000,\"name\":\"ASCENXION\",\"positive\":27,\"negative\":5,\"owners\":\"0 .. 20,000\",\"ccu\":0,\"release_date\":\"May 14, 2021\"}\n",
      "1000010\t{\"game_id\":1000010,\"name\":\"Crown Trick\",\"positive\":3809,\"negative\":583,\"owners\":\"200,000 .. 500,000\",\"ccu\":51,\"release_date\":\"Oct 16, 2020\"}\n",
      "1000030\t{\"game_id\":1000030,\"name\":\"Cook, Serve, Delicious! 3?!\",\"positive\":1469,\"negative\":101,\"owners\":\"50,000 .. 100,000\",\"ccu\":54,\"release_date\":\"Oct 14, 2020\"}\n",
      "1000040\t{\"game_id\":1000040,\"name\":\"细胞战争\",\"positive\":0,\"negative\":1,\"owners\":\"0 .. 20,000\",\"ccu\":0,\"release_date\":\"Mar 30, 2019\"}\n",
      "1000080\t{\"game_id\":1000080,\"name\":\"Zengeon\",\"positive\":1011,\"negative\":431,\"owners\":\"50,000 .. 100,000\",\"ccu\":2,\"release_date\":\"Jun 24, 2019\"}\n",
      "1000100\t{\"game_id\":1000100,\"name\":\"干支セトラ　陽ノ卷｜干支etc.　陽之卷\",\"positive\":18,\"negative\":6,\"owners\":\"0 .. 20,000\",\"ccu\":0,\"release_date\":\"Jan 24, 2019\"}\n",
      "1000110\t{\"game_id\":1000110,\"name\":\"Jumping Master(跳跳大咖)\",\"positive\":51,\"negative\":34,\"owners\":\"20,000 .. 50,000\",\"ccu\":0,\"release_date\":\"Apr 8, 2019\"}\n",
      "1000130\t{\"game_id\":1000130,\"name\":\"Cube Defender\",\"positive\":6,\"negative\":0,\"owners\":\"0 .. 20,000\",\"ccu\":0,\"release_date\":\"Jan 6, 2019\"}\n",
      "1000280\t{\"game_id\":1000280,\"name\":\"Tower of Origin2-Worm's Nest\",\"positive\":31,\"negative\":11,\"owners\":\"0 .. 20,000\",\"ccu\":0,\"release_date\":\"Sep 9, 2021\"}\n",
      "1000310\t{\"game_id\":1000310,\"name\":\"人气动漫大乱斗\",\"positive\":1,\"negative\":5,\"owners\":\"0 .. 20,000\",\"ccu\":0,\"release_date\":\"Dec 17, 2019\"}\n",
      "1000360\t{\"game_id\":1000360,\"name\":\"Hellish Quart\",\"positive\":3628,\"negative\":256,\"owners\":\"100,000 .. 200,000\",\"ccu\":46,\"release_date\":\"Feb 16, 2021\"}\n",
      "1000370\t{\"game_id\":1000370,\"name\":\"SurReal Subway\",\"positive\":0,\"negative\":1,\"owners\":\"0 .. 20,000\",\"ccu\":0,\"release_date\":\"Jan 3, 2019\"}\n",
      "1000380\t{\"game_id\":1000380,\"name\":\"Rogue Reaper\",\"positive\":306,\"negative\":86,\"owners\":\"100,000 .. 200,000\",\"ccu\":0,\"release_date\":\"Feb 1, 2019\"}\n",
      "1000410\t{\"game_id\":1000410,\"name\":\"WRATH: Aeon of Ruin\",\"positive\":1168,\"negative\":271,\"owners\":\"20,000 .. 50,000\",\"ccu\":2,\"release_date\":\"Nov 22, 2019\"}\n",
      "1000460\t{\"game_id\":1000460,\"name\":\"Arsonist\",\"positive\":0,\"negative\":0,\"owners\":\"0 .. 20,000\",\"ccu\":0,\"release_date\":\"Coming soon\"}\n",
      "1000470\t{\"game_id\":1000470,\"name\":\"Drawngeon: Dungeons of Ink and Paper\",\"positive\":55,\"negative\":13,\"owners\":\"20,000 .. 50,000\",\"ccu\":0,\"release_date\":\"May 24, 2019\"}\n",
      "1000480\t{\"game_id\":1000480,\"name\":\"Battle Motion\",\"positive\":9,\"negative\":6,\"owners\":\"0 .. 20,000\",\"ccu\":0,\"release_date\":\"Feb 4, 2019\"}\n",
      "1000500\t{\"game_id\":1000500,\"name\":\"Elden Gunfire : The Undisputables\",\"positive\":7,\"negative\":3,\"owners\":\"100,000 .. 200,000\",\"ccu\":0,\"release_date\":\"Dec 5, 2021\"}\n",
      "1000510\t{\"game_id\":1000510,\"name\":\"The Marvellous Machine\",\"positive\":92,\"negative\":18,\"owners\":\"0 .. 20,000\",\"ccu\":0,\"release_date\":\"Feb 11, 2019\"}\n",
      "1000540\t{\"game_id\":1000540,\"name\":\"Tactical Control\",\"positive\":53,\"negative\":12,\"owners\":\"20,000 .. 50,000\",\"ccu\":0,\"release_date\":\"Mar 21, 2019\"}\n",
      "1000550\t{\"game_id\":1000550,\"name\":\"Love Hentai: Endgame\",\"positive\":0,\"negative\":0,\"owners\":\"0 .. 20,000\",\"ccu\":0,\"release_date\":\"Feb 20, 2019\"}\n",
      "1000600\t{\"game_id\":1000600,\"name\":\"The ScreaMaze\",\"positive\":6,\"negative\":1,\"owners\":\"0 .. 20,000\",\"ccu\":0,\"release_date\":\"Jan 10, 2019\"}\n",
      "1000650\t{\"game_id\":1000650,\"name\":\"Fist Of Heaven & Hell\",\"positive\":7,\"negative\":0,\"owners\":\"0 .. 20,000\",\"ccu\":0,\"release_date\":\"Jun 28, 2019\"}\n",
      "1000750\t{\"game_id\":1000750,\"name\":\"Rotund Rebound\",\"positive\":5,\"negative\":0,\"owners\":\"0 .. 20,000\",\"ccu\":0,\"release_date\":\"Apr 1, 2022\"}\n",
      "1000760\t{\"game_id\":1000760,\"name\":\"Foregone\",\"positive\":524,\"negative\":106,\"owners\":\"20,000 .. 50,000\",\"ccu\":2,\"release_date\":\"Mar 1, 2021\"}\n",
      "1000770\t{\"game_id\":1000770,\"name\":\"Urban Tale\",\"positive\":89,\"negative\":31,\"owners\":\"0 .. 20,000\",\"ccu\":0,\"release_date\":\"Oct 7, 2021\"}\n",
      "1000790\t{\"game_id\":1000790,\"name\":\"Flex Apocalypse Racing\",\"positive\":5,\"negative\":4,\"owners\":\"0 .. 20,000\",\"ccu\":0,\"release_date\":\"Jan 1, 2019\"}\n",
      "1000810\t{\"game_id\":1000810,\"name\":\"RogueCraft Squadron\",\"positive\":5,\"negative\":1,\"owners\":\"0 .. 20,000\",\"ccu\":0,\"release_date\":\"Feb 18, 2019\"}\n",
      "1000830\t{\"game_id\":1000830,\"name\":\"Gachi Finder 3000\",\"positive\":159,\"negative\":4,\"owners\":\"0 .. 20,000\",\"ccu\":0,\"release_date\":\"Jan 8, 2019\"}\n",
      "1000860\t{\"game_id\":1000860,\"name\":\"Allspace\",\"positive\":40,\"negative\":19,\"owners\":\"0 .. 20,000\",\"ccu\":0,\"release_date\":\"Oct 18, 2019\"}\n",
      "1000870\t{\"game_id\":1000870,\"name\":\"On Target VR Darts\",\"positive\":5,\"negative\":4,\"owners\":\"0 .. 20,000\",\"ccu\":0,\"release_date\":\"Dec 22, 2020\"}\n",
      "1000880\t{\"game_id\":1000880,\"name\":\"REPTOMOM\",\"positive\":0,\"negative\":1,\"owners\":\"0 .. 20,000\",\"ccu\":0,\"release_date\":\"Sep 10, 2020\"}\n",
      "1000900\t{\"game_id\":1000900,\"name\":\"Zero spring episode 3\",\"positive\":1,\"negative\":0,\"owners\":\"0 .. 20,000\",\"ccu\":0,\"release_date\":\"Jan 10, 2019\"}\n",
      "1000980\t{\"game_id\":1000980,\"name\":\"Kill Tiger\",\"positive\":1,\"negative\":0,\"owners\":\"0 .. 20,000\",\"ccu\":0,\"release_date\":\"Mar 1, 2019\"}\n",
      "1000990\t{\"game_id\":1000990,\"name\":\"Gun Beat\",\"positive\":8,\"negative\":3,\"owners\":\"0 .. 20,000\",\"ccu\":0,\"release_date\":\"Jan 14, 2019\"}\n",
      "1001010\t{\"game_id\":1001010,\"name\":\"雪·疑 Sknow\",\"positive\":9,\"negative\":3,\"owners\":\"0 .. 20,000\",\"ccu\":0,\"release_date\":\"May 19, 2019\"}\n",
      "1001040\t{\"game_id\":1001040,\"name\":\"Glorious Companions\",\"positive\":66,\"negative\":36,\"owners\":\"0 .. 20,000\",\"ccu\":0,\"release_date\":\"Jun 4, 2019\"}\n",
      "1001100\t{\"game_id\":1001100,\"name\":\"Kooring VR Wonderland:Mecadino's Attack\",\"positive\":11,\"negative\":0,\"owners\":\"0 .. 20,000\",\"ccu\":0,\"release_date\":\"Oct 9, 2020\"}\n",
      "1001140\t{\"game_id\":1001140,\"name\":\"Angry Birds VR: Isle of Pigs\",\"positive\":254,\"negative\":26,\"owners\":\"20,000 .. 50,000\",\"ccu\":3,\"release_date\":\"Feb 7, 2019\"}\n",
      "1001170\t{\"game_id\":1001170,\"name\":\"Master Of Secrets: Dark Europe\",\"positive\":1,\"negative\":10,\"owners\":\"0 .. 20,000\",\"ccu\":0,\"release_date\":\"Jun 25, 2019\"}\n",
      "1001200\t{\"game_id\":1001200,\"name\":\"ROWROW\",\"positive\":13,\"negative\":2,\"owners\":\"0 .. 20,000\",\"ccu\":0,\"release_date\":\"Jan 31, 2019\"}\n",
      "1001230\t{\"game_id\":1001230,\"name\":\"Partial Control\",\"positive\":30,\"negative\":3,\"owners\":\"0 .. 20,000\",\"ccu\":0,\"release_date\":\"Jun 14, 2019\"}\n",
      "1001240\t{\"game_id\":1001240,\"name\":\"VR Flight Simulator New York - Cessna\",\"positive\":10,\"negative\":13,\"owners\":\"0 .. 20,000\",\"ccu\":0,\"release_date\":\"Jan 5, 2019\"}\n",
      "1001380\t{\"game_id\":1001380,\"name\":\"SNAILS\",\"positive\":5,\"negative\":3,\"owners\":\"0 .. 20,000\",\"ccu\":0,\"release_date\":\"Jan 3, 2019\"}\n",
      "1001390\t{\"game_id\":1001390,\"name\":\"VireFit\",\"positive\":2,\"negative\":6,\"owners\":\"0 .. 20,000\",\"ccu\":0,\"release_date\":\"Mar 25, 2019\"}\n",
      "1001430\t{\"game_id\":1001430,\"name\":\"Next Stop 3\",\"positive\":15,\"negative\":0,\"owners\":\"0 .. 20,000\",\"ccu\":0,\"release_date\":\"Mar 9, 2019\"}\n",
      "1001450\t{\"game_id\":1001450,\"name\":\"The Town\",\"positive\":1,\"negative\":1,\"owners\":\"0 .. 20,000\",\"ccu\":0,\"release_date\":\"Jan 22, 2019\"}\n",
      "1001490\t{\"game_id\":1001490,\"name\":\"Tower Behind the Moon\",\"positive\":8,\"negative\":6,\"owners\":\"0 .. 20,000\",\"ccu\":0,\"release_date\":\"Dec 20, 2018\"}\n",
      "1001500\t{\"game_id\":1001500,\"name\":\"Chronicon Apocalyptica\",\"positive\":6,\"negative\":2,\"owners\":\"0 .. 20,000\",\"ccu\":0,\"release_date\":\"Jan 11, 2019\"}\n",
      "1001550\t{\"game_id\":1001550,\"name\":\"In Orbit\",\"positive\":6,\"negative\":2,\"owners\":\"0 .. 20,000\",\"ccu\":0,\"release_date\":\"Jan 18, 2019\"}\n",
      "1001570\t{\"game_id\":1001570,\"name\":\"GUIDE\",\"positive\":2,\"negative\":0,\"owners\":\"0 .. 20,000\",\"ccu\":0,\"release_date\":\"Apr 16, 2019\"}\n",
      "1001590\t{\"game_id\":1001590,\"name\":\"Grab Lab\",\"positive\":8,\"negative\":0,\"owners\":\"0 .. 20,000\",\"ccu\":0,\"release_date\":\"Jun 21, 2019\"}\n",
      "1001600\t{\"game_id\":1001600,\"name\":\"Diggerman\",\"positive\":29,\"negative\":2,\"owners\":\"0 .. 20,000\",\"ccu\":0,\"release_date\":\"Jun 14, 2019\"}\n",
      "1001640\t{\"game_id\":1001640,\"name\":\"Where the Bees Make Honey\",\"positive\":23,\"negative\":34,\"owners\":\"0 .. 20,000\",\"ccu\":0,\"release_date\":\"Mar 26, 2019\"}\n",
      "1001660\t{\"game_id\":1001660,\"name\":\"The Demon Crystal\",\"positive\":11,\"negative\":0,\"owners\":\"0 .. 20,000\",\"ccu\":0,\"release_date\":\"Mar 28, 2019\"}\n",
      "1001690\t{\"game_id\":1001690,\"name\":\"Mars Flight VR\",\"positive\":5,\"negative\":1,\"owners\":\"0 .. 20,000\",\"ccu\":0,\"release_date\":\"Jun 8, 2021\"}\n",
      "1001730\t{\"game_id\":1001730,\"name\":\"Twisting Mower\",\"positive\":1,\"negative\":0,\"owners\":\"0 .. 20,000\",\"ccu\":0,\"release_date\":\"May 22, 2019\"}\n",
      "1001740\t{\"game_id\":1001740,\"name\":\"Diamonds\",\"positive\":4,\"negative\":0,\"owners\":\"0 .. 20,000\",\"ccu\":0,\"release_date\":\"Nov 18, 2019\"}\n",
      "1001760\t{\"game_id\":1001760,\"name\":\"Xtreme League\",\"positive\":0,\"negative\":3,\"owners\":\"0 .. 20,000\",\"ccu\":0,\"release_date\":\"Mar 7, 2019\"}\n",
      "1001800\t{\"game_id\":1001800,\"name\":\"KUNAI\",\"positive\":354,\"negative\":78,\"owners\":\"50,000 .. 100,000\",\"ccu\":1,\"release_date\":\"Feb 6, 2020\"}\n",
      "1001810\t{\"game_id\":1001810,\"name\":\"Virus Expansion\",\"positive\":1,\"negative\":3,\"owners\":\"0 .. 20,000\",\"ccu\":0,\"release_date\":\"Mar 29, 2019\"}\n",
      "1001860\t{\"game_id\":1001860,\"name\":\"Casual Desktop Game\",\"positive\":144,\"negative\":23,\"owners\":\"20,000 .. 50,000\",\"ccu\":0,\"release_date\":\"Feb 14, 2020\"}\n",
      "1001870\t{\"game_id\":1001870,\"name\":\"RoboVirus\",\"positive\":29,\"negative\":1,\"owners\":\"0 .. 20,000\",\"ccu\":0,\"release_date\":\"Aug 30, 2019\"}\n",
      "1001880\t{\"game_id\":1001880,\"name\":\"aMAZE Valentine\",\"positive\":45,\"negative\":10,\"owners\":\"0 .. 20,000\",\"ccu\":0,\"release_date\":\"Dec 28, 2018\"}\n",
      "1001910\t{\"game_id\":1001910,\"name\":\"Fused\",\"positive\":6,\"negative\":3,\"owners\":\"0 .. 20,000\",\"ccu\":0,\"release_date\":\"Mar 8, 2019\"}\n",
      "1001950\t{\"game_id\":1001950,\"name\":\"There Was A Dream\",\"positive\":10,\"negative\":5,\"owners\":\"0 .. 20,000\",\"ccu\":0,\"release_date\":\"Feb 11, 2021\"}\n",
      "1001960\t{\"game_id\":1001960,\"name\":\"Zibbs - Alien Survival\",\"positive\":11,\"negative\":9,\"owners\":\"0 .. 20,000\",\"ccu\":0,\"release_date\":\"Nov 8, 2020\"}\n",
      "1001970\t{\"game_id\":1001970,\"name\":\"Rhythmy\",\"positive\":28,\"negative\":2,\"owners\":\"0 .. 20,000\",\"ccu\":0,\"release_date\":\"Mar 24, 2020\"}\n",
      "1001980\t{\"game_id\":1001980,\"name\":\"Archeo: Shinar\",\"positive\":80,\"negative\":20,\"owners\":\"0 .. 20,000\",\"ccu\":0,\"release_date\":\"Sep 11, 2019\"}\n",
      "1001990\t{\"game_id\":1001990,\n"
     ]
    }
   ],
   "source": [
    "raw = container.exec_run(\"hdfs dfs -cat /out_steam_1/part-r-00000\").output.decode('utf-8')\n",
    "print(f\"{raw[0:10000]}\")"
   ]
  },
  {
   "cell_type": "code",
   "execution_count": 26,
   "metadata": {},
   "outputs": [
    {
     "data": {
      "text/plain": [
       "ExecResult(exit_code=0, output=b\"2023-04-24 05:43:20,863 INFO client.DefaultNoHARMFailoverProxyProvider: Connecting to ResourceManager at master/10.1.2.3:8050\\n2023-04-24 05:43:21,084 WARN mapreduce.JobResourceUploader: Hadoop command-line option parsing not performed. Implement the Tool interface and execute your application with ToolRunner to remedy this.\\n2023-04-24 05:43:21,096 INFO mapreduce.JobResourceUploader: Disabling Erasure Coding for path: /tmp/hadoop-yarn/staging/root/.staging/job_1682280865018_0002\\n2023-04-24 05:43:22,221 INFO input.FileInputFormat: Total input files to process : 1\\n2023-04-24 05:43:22,372 INFO mapreduce.JobSubmitter: number of splits:1\\n2023-04-24 05:43:22,499 INFO mapreduce.JobSubmitter: Submitting tokens for job: job_1682280865018_0002\\n2023-04-24 05:43:22,499 INFO mapreduce.JobSubmitter: Executing with tokens: []\\n2023-04-24 05:43:22,612 INFO conf.Configuration: resource-types.xml not found\\n2023-04-24 05:43:22,612 INFO resource.ResourceUtils: Unable to find 'resource-types.xml'.\\n2023-04-24 05:43:22,656 INFO impl.YarnClientImpl: Submitted application application_1682280865018_0002\\n2023-04-24 05:43:22,680 INFO mapreduce.Job: The url to track the job: http://master:8088/proxy/application_1682280865018_0002/\\n2023-04-24 05:43:22,681 INFO mapreduce.Job: Running job: job_1682280865018_0002\\n2023-04-24 05:43:41,804 INFO mapreduce.Job: Job job_1682280865018_0002 running in uber mode : false\\n2023-04-24 05:43:41,805 INFO mapreduce.Job:  map 0% reduce 0%\\n2023-04-24 05:43:47,849 INFO mapreduce.Job:  map 100% reduce 0%\\n2023-04-24 05:43:52,869 INFO mapreduce.Job:  map 100% reduce 100%\\n2023-04-24 05:43:53,878 INFO mapreduce.Job: Job job_1682280865018_0002 completed successfully\\n2023-04-24 05:43:53,939 INFO mapreduce.Job: Counters: 54\\n\\tFile System Counters\\n\\t\\tFILE: Number of bytes read=2732328\\n\\t\\tFILE: Number of bytes written=5994247\\n\\t\\tFILE: Number of read operations=0\\n\\t\\tFILE: Number of large read operations=0\\n\\t\\tFILE: Number of write operations=0\\n\\t\\tHDFS: Number of bytes read=7551764\\n\\t\\tHDFS: Number of bytes written=964\\n\\t\\tHDFS: Number of read operations=8\\n\\t\\tHDFS: Number of large read operations=0\\n\\t\\tHDFS: Number of write operations=2\\n\\t\\tHDFS: Number of bytes read erasure-coded=0\\n\\tJob Counters \\n\\t\\tLaunched map tasks=1\\n\\t\\tLaunched reduce tasks=1\\n\\t\\tRack-local map tasks=1\\n\\t\\tTotal time spent by all maps in occupied slots (ms)=3740\\n\\t\\tTotal time spent by all reduces in occupied slots (ms)=2672\\n\\t\\tTotal time spent by all map tasks (ms)=3740\\n\\t\\tTotal time spent by all reduce tasks (ms)=2672\\n\\t\\tTotal vcore-milliseconds taken by all map tasks=3740\\n\\t\\tTotal vcore-milliseconds taken by all reduce tasks=2672\\n\\t\\tTotal megabyte-milliseconds taken by all map tasks=3829760\\n\\t\\tTotal megabyte-milliseconds taken by all reduce tasks=2736128\\n\\tMap-Reduce Framework\\n\\t\\tMap input records=51915\\n\\t\\tMap output records=51915\\n\\t\\tMap output bytes=2628464\\n\\t\\tMap output materialized bytes=2732328\\n\\t\\tInput split bytes=108\\n\\t\\tCombine input records=0\\n\\t\\tCombine output records=0\\n\\t\\tReduce input groups=1\\n\\t\\tReduce shuffle bytes=2732328\\n\\t\\tReduce input records=51915\\n\\t\\tReduce output records=20\\n\\t\\tSpilled Records=103830\\n\\t\\tShuffled Maps =1\\n\\t\\tFailed Shuffles=0\\n\\t\\tMerged Map outputs=1\\n\\t\\tGC time elapsed (ms)=108\\n\\t\\tCPU time spent (ms)=4220\\n\\t\\tPhysical memory (bytes) snapshot=684810240\\n\\t\\tVirtual memory (bytes) snapshot=5350117376\\n\\t\\tTotal committed heap usage (bytes)=644874240\\n\\t\\tPeak Map Physical memory (bytes)=431837184\\n\\t\\tPeak Map Virtual memory (bytes)=2672873472\\n\\t\\tPeak Reduce Physical memory (bytes)=252973056\\n\\t\\tPeak Reduce Virtual memory (bytes)=2677243904\\n\\tShuffle Errors\\n\\t\\tBAD_ID=0\\n\\t\\tCONNECTION=0\\n\\t\\tIO_ERROR=0\\n\\t\\tWRONG_LENGTH=0\\n\\t\\tWRONG_MAP=0\\n\\t\\tWRONG_REDUCE=0\\n\\tFile Input Format Counters \\n\\t\\tBytes Read=7551656\\n\\tFile Output Format Counters \\n\\t\\tBytes Written=964\\n\")"
      ]
     },
     "execution_count": 26,
     "metadata": {},
     "output_type": "execute_result"
    }
   ],
   "source": [
    "res2 = container.exec_run((\"yarn jar /data/master_volume/map_reduce_jars/2.jar \"\n",
    "\"/out_steam_1/part-r-00000 \"\n",
    "\"/out_steam_2\"))\n",
    "\n",
    "res2"
   ]
  },
  {
   "cell_type": "code",
   "execution_count": 27,
   "metadata": {},
   "outputs": [
    {
     "name": "stdout",
     "output_type": "stream",
     "text": [
      "id\t{\"game_id\":999990,\"name\":\"Bouncing Hero\"}\n",
      "id\t{\"game_id\":999930,\"name\":\"Fantasy Sino-Japanese War 幻想甲午\"}\n",
      "id\t{\"game_id\":999900,\"name\":\"Studio by RADiCAL\"}\n",
      "id\t{\"game_id\":999890,\"name\":\"Bruken\"}\n",
      "id\t{\"game_id\":999880,\"name\":\"NASA's Exoplanet Excursions\"}\n",
      "id\t{\"game_id\":999860,\"name\":\"Enemy On Board\"}\n",
      "id\t{\"game_id\":999840,\"name\":\"RONE\"}\n",
      "id\t{\"game_id\":999830,\"name\":\"Becalm\"}\n",
      "id\t{\"game_id\":999760,\"name\":\"Mobile Wars X\"}\n",
      "id\t{\"game_id\":999750,\"name\":\"BLASTER LiLO\"}\n",
      "id\t{\"game_id\":999730,\"name\":\"Secret Neighbor Beta\"}\n",
      "id\t{\"game_id\":999660,\"name\":\"SAMURAI SHODOWN NEOGEO COLLECTION\"}\n",
      "id\t{\"game_id\":999640,\"name\":\"Cube Defense\"}\n",
      "id\t{\"game_id\":999560,\"name\":\"Fragile Equilibrium\"}\n",
      "id\t{\"game_id\":999540,\"name\":\"Scroll2Read\"}\n",
      "id\t{\"game_id\":999430,\"name\":\"Santa Tracker\"}\n",
      "id\t{\"game_id\":999410,\"name\":\"Magnibox\"}\n",
      "id\t{\"game_id\":999360,\"name\":\"soul room\"}\n",
      "id\t{\"game_id\":999350,\"name\":\"Uzak Diyar Destanları 1: Remastered\"}\n",
      "id\t{\"game_id\":999310,\"name\":\"THE NED BALLS\"}\n",
      "\n"
     ]
    }
   ],
   "source": [
    "raw = container.exec_run(\"hdfs dfs -cat /out_steam_2/part-r-00000\").output.decode('utf-8')\n",
    "print(f\"{raw[0:10000]}\")"
   ]
  },
  {
   "cell_type": "code",
   "execution_count": 28,
   "metadata": {},
   "outputs": [
    {
     "data": {
      "text/plain": [
       "ExecResult(exit_code=0, output=b\"2023-04-24 05:44:03,537 INFO client.DefaultNoHARMFailoverProxyProvider: Connecting to ResourceManager at master/10.1.2.3:8050\\n2023-04-24 05:44:03,736 WARN mapreduce.JobResourceUploader: Hadoop command-line option parsing not performed. Implement the Tool interface and execute your application with ToolRunner to remedy this.\\n2023-04-24 05:44:03,750 INFO mapreduce.JobResourceUploader: Disabling Erasure Coding for path: /tmp/hadoop-yarn/staging/root/.staging/job_1682280865018_0003\\n2023-04-24 05:44:04,827 INFO input.FileInputFormat: Total input files to process : 1\\n2023-04-24 05:44:04,967 INFO mapreduce.JobSubmitter: number of splits:1\\n2023-04-24 05:44:05,086 INFO mapreduce.JobSubmitter: Submitting tokens for job: job_1682280865018_0003\\n2023-04-24 05:44:05,086 INFO mapreduce.JobSubmitter: Executing with tokens: []\\n2023-04-24 05:44:05,187 INFO conf.Configuration: resource-types.xml not found\\n2023-04-24 05:44:05,187 INFO resource.ResourceUtils: Unable to find 'resource-types.xml'.\\n2023-04-24 05:44:05,223 INFO impl.YarnClientImpl: Submitted application application_1682280865018_0003\\n2023-04-24 05:44:05,243 INFO mapreduce.Job: The url to track the job: http://master:8088/proxy/application_1682280865018_0003/\\n2023-04-24 05:44:05,244 INFO mapreduce.Job: Running job: job_1682280865018_0003\\n2023-04-24 05:44:10,288 INFO mapreduce.Job: Job job_1682280865018_0003 running in uber mode : false\\n2023-04-24 05:44:10,289 INFO mapreduce.Job:  map 0% reduce 0%\\n2023-04-24 05:44:26,358 INFO mapreduce.Job:  map 18% reduce 0%\\n2023-04-24 05:44:32,379 INFO mapreduce.Job:  map 26% reduce 0%\\n2023-04-24 05:44:38,400 INFO mapreduce.Job:  map 33% reduce 0%\\n2023-04-24 05:44:44,418 INFO mapreduce.Job:  map 44% reduce 0%\\n2023-04-24 05:44:50,437 INFO mapreduce.Job:  map 53% reduce 0%\\n2023-04-24 05:44:56,455 INFO mapreduce.Job:  map 64% reduce 0%\\n2023-04-24 05:45:00,476 INFO mapreduce.Job:  map 100% reduce 0%\\n2023-04-24 05:45:05,495 INFO mapreduce.Job:  map 100% reduce 100%\\n2023-04-24 05:45:05,500 INFO mapreduce.Job: Job job_1682280865018_0003 completed successfully\\n2023-04-24 05:45:05,553 INFO mapreduce.Job: Counters: 54\\n\\tFile System Counters\\n\\t\\tFILE: Number of bytes read=84816\\n\\t\\tFILE: Number of bytes written=698793\\n\\t\\tFILE: Number of read operations=0\\n\\t\\tFILE: Number of large read operations=0\\n\\t\\tFILE: Number of write operations=0\\n\\t\\tHDFS: Number of bytes read=1072\\n\\t\\tHDFS: Number of bytes written=84810\\n\\t\\tHDFS: Number of read operations=8\\n\\t\\tHDFS: Number of large read operations=0\\n\\t\\tHDFS: Number of write operations=2\\n\\t\\tHDFS: Number of bytes read erasure-coded=0\\n\\tJob Counters \\n\\t\\tLaunched map tasks=1\\n\\t\\tLaunched reduce tasks=1\\n\\t\\tRack-local map tasks=1\\n\\t\\tTotal time spent by all maps in occupied slots (ms)=48276\\n\\t\\tTotal time spent by all reduces in occupied slots (ms)=2047\\n\\t\\tTotal time spent by all map tasks (ms)=48276\\n\\t\\tTotal time spent by all reduce tasks (ms)=2047\\n\\t\\tTotal vcore-milliseconds taken by all map tasks=48276\\n\\t\\tTotal vcore-milliseconds taken by all reduce tasks=2047\\n\\t\\tTotal megabyte-milliseconds taken by all map tasks=49434624\\n\\t\\tTotal megabyte-milliseconds taken by all reduce tasks=2096128\\n\\tMap-Reduce Framework\\n\\t\\tMap input records=20\\n\\t\\tMap output records=20\\n\\t\\tMap output bytes=84730\\n\\t\\tMap output materialized bytes=84816\\n\\t\\tInput split bytes=108\\n\\t\\tCombine input records=0\\n\\t\\tCombine output records=0\\n\\t\\tReduce input groups=20\\n\\t\\tReduce shuffle bytes=84816\\n\\t\\tReduce input records=20\\n\\t\\tReduce output records=20\\n\\t\\tSpilled Records=40\\n\\t\\tShuffled Maps =1\\n\\t\\tFailed Shuffles=0\\n\\t\\tMerged Map outputs=1\\n\\t\\tGC time elapsed (ms)=207\\n\\t\\tCPU time spent (ms)=8380\\n\\t\\tPhysical memory (bytes) snapshot=899166208\\n\\t\\tVirtual memory (bytes) snapshot=5477675008\\n\\t\\tTotal committed heap usage (bytes)=934805504\\n\\t\\tPeak Map Physical memory (bytes)=609353728\\n\\t\\tPeak Map Virtual memory (bytes)=2817613824\\n\\t\\tPeak Reduce Physical memory (bytes)=289812480\\n\\t\\tPeak Reduce Virtual memory (bytes)=2670587904\\n\\tShuffle Errors\\n\\t\\tBAD_ID=0\\n\\t\\tCONNECTION=0\\n\\t\\tIO_ERROR=0\\n\\t\\tWRONG_LENGTH=0\\n\\t\\tWRONG_MAP=0\\n\\t\\tWRONG_REDUCE=0\\n\\tFile Input Format Counters \\n\\t\\tBytes Read=964\\n\\tFile Output Format Counters \\n\\t\\tBytes Written=84810\\n\")"
      ]
     },
     "execution_count": 28,
     "metadata": {},
     "output_type": "execute_result"
    }
   ],
   "source": [
    "res3 = container.exec_run((\"yarn jar /data/master_volume/map_reduce_jars/3.jar \"\n",
    "\"/out_steam_2/part-r-00000 \"\n",
    "\"/out_steam_3\"))\n",
    "\n",
    "res3"
   ]
  },
  {
   "cell_type": "code",
   "execution_count": 29,
   "metadata": {},
   "outputs": [
    {
     "name": "stdout",
     "output_type": "stream",
     "text": [
      "999310\tList([{\"timestamp\":1546300800000,\"count\":2},{\"timestamp\":1548979200000,\"count\":1},{\"timestamp\":1551398400000,\"count\":1},{\"timestamp\":1554076800000,\"count\":1},{\"timestamp\":1556668800000,\"count\":1},{\"timestamp\":1559347200000,\"count\":0},{\"timestamp\":1561939200000,\"count\":0},{\"timestamp\":1564617600000,\"count\":0},{\"timestamp\":1567296000000,\"count\":0},{\"timestamp\":1569888000000,\"count\":0},{\"timestamp\":1572566400000,\"count\":0},{\"timestamp\":1575158400000,\"count\":0},{\"timestamp\":1577836800000,\"count\":0},{\"timestamp\":1580515200000,\"count\":0},{\"timestamp\":1583020800000,\"count\":0},{\"timestamp\":1585699200000,\"count\":0},{\"timestamp\":1588291200000,\"count\":0},{\"timestamp\":1590969600000,\"count\":0},{\"timestamp\":1593561600000,\"count\":0},{\"timestamp\":1596240000000,\"count\":0},{\"timestamp\":1598918400000,\"count\":0},{\"timestamp\":1601510400000,\"count\":0},{\"timestamp\":1604188800000,\"count\":0},{\"timestamp\":1606780800000,\"count\":0},{\"timestamp\":1609459200000,\"count\":0},{\"timestamp\":1612137600000,\"count\":0},{\"timestamp\":1614556800000,\"count\":0},{\"timestamp\":1617235200000,\"count\":0},{\"timestamp\":1619827200000,\"count\":0},{\"timestamp\":1622505600000,\"count\":0},{\"timestamp\":1625097600000,\"count\":0},{\"timestamp\":1627776000000,\"count\":0},{\"timestamp\":1630454400000,\"count\":0},{\"timestamp\":1633046400000,\"count\":0},{\"timestamp\":1635724800000,\"count\":0},{\"timestamp\":1638316800000,\"count\":0},{\"timestamp\":1640995200000,\"count\":0},{\"timestamp\":1643673600000,\"count\":0},{\"timestamp\":1646092800000,\"count\":0},{\"timestamp\":1648771200000,\"count\":0},{\"timestamp\":1651363200000,\"count\":1},{\"timestamp\":1654041600000,\"count\":0},{\"timestamp\":1656633600000,\"count\":1},{\"timestamp\":1659312000000,\"count\":0},{\"timestamp\":1661990400000,\"count\":0},{\"timestamp\":1664582400000,\"count\":0},{\"timestamp\":1667260800000,\"count\":0},{\"timestamp\":1669852800000,\"count\":0},{\"timestamp\":1672531200000,\"count\":0},{\"timestamp\":1674518400000,\"count\":0},{\"timestamp\":1674691200000,\"count\":0},{\"timestamp\":1675036800000,\"count\":0},{\"timestamp\":1675123200000,\"count\":0},{\"timestamp\":1675296000000,\"count\":0},{\"timestamp\":1675382400000,\"count\":0},{\"timestamp\":1675468800000,\"count\":0},{\"timestamp\":1675728000000,\"count\":0},{\"timestamp\":1675900800000,\"count\":0},{\"timestamp\":1675987200000,\"count\":0},{\"timestamp\":1676160000000,\"count\":0},{\"timestamp\":1676332800000,\"count\":0},{\"timestamp\":1676419200000,\"count\":0},{\"timestamp\":1676592000000,\"count\":0},{\"timestamp\":1676937600000,\"count\":0},{\"timestamp\":1677024000000,\"count\":0},{\"timestamp\":1677283200000,\"count\":0},{\"timestamp\":1677369600000,\"count\":0},{\"timestamp\":1677715200000,\"count\":0},{\"timestamp\":1677801600000,\"count\":0},{\"timestamp\":1678147200000,\"count\":0},{\"timestamp\":1678320000000,\"count\":0},{\"timestamp\":1678406400000,\"count\":0},{\"timestamp\":1678492800000,\"count\":0},{\"timestamp\":1678665600000,\"count\":0},{\"timestamp\":1678752000000,\"count\":0},{\"timestamp\":1678838400000,\"count\":0},{\"timestamp\":1679011200000,\"count\":0},{\"timestamp\":1679184000000,\"count\":0},{\"timestamp\":1679443200000,\"count\":0},{\"timestamp\":1679616000000,\"count\":0},{\"timestamp\":1679841130000,\"count\":0},{\"timestamp\":1679906946000,\"count\":0},{\"timestamp\":1679932392000,\"count\":0},{\"timestamp\":1680075652000,\"count\":0},{\"timestamp\":1680245445000,\"count\":0},{\"timestamp\":1680316667000,\"count\":0},{\"timestamp\":1680597866000,\"count\":0},{\"timestamp\":1680769725000,\"count\":0},{\"timestamp\":1680946071000,\"count\":0},{\"timestamp\":1681115851000,\"count\":0},{\"timestamp\":1681155374000,\"count\":0},{\"timestamp\":1681345856000,\"count\":0},{\"timestamp\":1681559454000,\"count\":0},{\"timestamp\":1681691745000,\"count\":0},{\"timestamp\":1681707310000,\"count\":0}])\n",
      "999350\tList([{\"timestamp\":1546300800000,\"count\":1},{\"timestamp\":1548979200000,\"count\":0},{\"timestamp\":1551398400000,\"count\":0},{\"timestamp\":1554076800000,\"count\":0},{\"timestamp\":1556668800000,\"count\":0},{\"timestamp\":1559347200000,\"count\":0},{\"timestamp\":1561939200000,\"count\":0},{\"timestamp\":1564617600000,\"count\":1},{\"timestamp\":1567296000000,\"count\":1},{\"timestamp\":1569888000000,\"count\":0},{\"timestamp\":1572566400000,\"count\":0},{\"timestamp\":1575158400000,\"count\":0},{\"timestamp\":1577836800000,\"count\":0},{\"timestamp\":1580515200000,\"count\":0},{\"timestamp\":1583020800000,\"count\":10},{\"timestamp\":1585699200000,\"count\":7},{\"timestamp\":1588291200000,\"count\":2},{\"timestamp\":1590969600000,\"count\":3},{\"timestamp\":1593561600000,\"count\":2},{\"timestamp\":1596240000000,\"count\":1},{\"timestamp\":1598918400000,\"count\":1},{\"timestamp\":1601510400000,\"count\":2},{\"timestamp\":1604188800000,\"count\":2},{\"timestamp\":1606780800000,\"count\":3},{\"timestamp\":1609459200000,\"count\":3},{\"timestamp\":1612137600000,\"count\":2},{\"timestamp\":1614556800000,\"count\":2},{\"timestamp\":1617235200000,\"count\":2},{\"timestamp\":1619827200000,\"count\":1},{\"timestamp\":1622505600000,\"count\":2},{\"timestamp\":1625097600000,\"count\":3},{\"timestamp\":1627776000000,\"count\":1},{\"timestamp\":1630454400000,\"count\":0},{\"timestamp\":1633046400000,\"count\":0},{\"timestamp\":1635724800000,\"count\":0},{\"timestamp\":1638316800000,\"count\":1},{\"timestamp\":1640995200000,\"count\":1},{\"timestamp\":1643673600000,\"count\":1},{\"timestamp\":1646092800000,\"count\":1},{\"timestamp\":1648771200000,\"count\":1},{\"timestamp\":1651363200000,\"count\":1},{\"timestamp\":1654041600000,\"count\":2},{\"timestamp\":1656633600000,\"count\":1},{\"timestamp\":1659312000000,\"count\":2},{\"timestamp\":1661990400000,\"count\":1},{\"timestamp\":1664582400000,\"count\":1},{\"timestamp\":1667260800000,\"count\":0},{\"timestamp\":1669852800000,\"count\":0},{\"timestamp\":1672531200000,\"count\":0},{\"timestamp\":1674518400000,\"count\":0},{\"timestamp\":1674864000000,\"count\":0},{\"timestamp\":1675123200000,\"count\":0},{\"timestamp\":1675209600000,\"count\":0},{\"timestamp\":1675382400000,\"count\":0},{\"timestamp\":1675468800000,\"count\":0},{\"timestamp\":1675555200000,\"count\":0},{\"timestamp\":1675814400000,\"count\":0},{\"timestamp\":1675987200000,\"count\":0},{\"timestamp\":1676419200000,\"count\":1},{\"timestamp\":1676592000000,\"count\":0},{\"timestamp\":1676678400000,\"count\":0},{\"timestamp\":1676764800000,\"count\":0},{\"timestamp\":1676851200000,\"count\":0},{\"timestamp\":1676937600000,\"count\":0},{\"timestamp\":1677024000000,\"count\":0},{\"timestamp\":1677110400000,\"count\":1},{\"timestamp\":1677369600000,\"count\":0},{\"timestamp\":1677542400000,\"count\":0},{\"timestamp\":1677628800000,\"count\":0},{\"timestamp\":1678060800000,\"count\":0},{\"timestamp\":1678406400000,\"count\":0},{\"timestamp\":1678492800000,\"count\":0},{\"timestamp\":1678924800000,\"count\":0},{\"timestamp\":1679097600000,\"count\":0},{\"timestamp\":1679270400000,\"count\":0},{\"timestamp\":1679443200000,\"count\":0},{\"timestamp\":1679839834000,\"count\":0},{\"timestamp\":1679930352000,\"count\":0},{\"timestamp\":1679979409000,\"count\":0},{\"timestamp\":1680040368000,\"count\":0},{\"timestamp\":1680481691000,\"count\":0},{\"timestamp\":1680691733000,\"count\":0},{\"timestamp\":1680944334000,\"count\":0},{\"timestamp\":1681123936000,\"count\":0},{\"timestamp\":1681257225000,\"count\":0},{\"timestamp\":1681338679000,\"count\":0},{\"timestamp\":1681462343000,\"count\":0},{\"timestamp\":1681539531000,\"count\":1},{\"timestamp\":1681544676000,\"count\":0},{\"timestamp\":1681606997000,\"count\":0},{\"timestamp\":1681792136000,\"count\":0},{\"timestamp\":1681814310000,\"count\":0},{\"timestamp\":1682130052000,\"count\":0},{\"timestamp\":1682181609000,\"count\":0}])\n",
      "999360\tList([{\"timestamp\":1546300800000,\"count\":1},{\"timestamp\":1548979200000,\"count\":0},{\"timestamp\":1551398400000,\"count\":0},{\"timestamp\":1554076800000,\"count\":1},{\"timestamp\":1556668800000,\"count\":0},{\"timestamp\":1559347200000,\"count\":0},{\"timestamp\":1561939200000,\"count\":0},{\"timestamp\":1564617600000,\"count\":0},{\"timestamp\":1567296000000,\"count\":0},{\"timestamp\":1569888000000,\"count\":0},{\"timestamp\":1572566400000,\"count\":0},{\"timestamp\":1575158400000,\"count\":0},{\"timestamp\":1577836800000,\"count\":0},{\"timestamp\":1580515200000,\"count\":0},{\"timestamp\":1583020800000,\"count\":0},{\"timestamp\":1585699200000,\"count\":0},{\"timestamp\":1588291200000,\"count\":0},{\"timestamp\":1590969600000,\"count\":0},{\"timestamp\":1593561600000,\"count\":0},{\"timestamp\":1596240000000,\"count\":0},{\"timestamp\":1598918400000,\"count\":0},{\"timestamp\":1601510400000,\"count\":0},{\"timestamp\":1604188800000,\"count\":0},{\"timestamp\":1606780800000,\"count\":0},{\"timestamp\":1609459200000,\"count\":0},{\"timestamp\":1612137600000,\"count\":0},{\"timestamp\":1614556800000,\"count\":0},{\"timestamp\":1617235200000,\"count\":0},{\"timestamp\":1619827200000,\"count\":0},{\"timestamp\":1622505600000,\"count\":0},{\"timestamp\":1625097600000,\"count\":0},{\"timestamp\":1627776000000,\"count\":0},{\"timestamp\":1630454400000,\"count\":0},{\"timestamp\":1633046400000,\"count\":0},{\"timestamp\":1635724800000,\"count\":0},{\"timestamp\":1638316800000,\"count\":0},{\"timestamp\":1640995200000,\"count\":0},{\"timestamp\":1643673600000,\"count\":0},{\"timestamp\":1646092800000,\"count\":0},{\"timestamp\":1648771200000,\"count\":0},{\"timestamp\":1651363200000,\"count\":0},{\"timestamp\":1654041600000,\"count\":0},{\"timestamp\":1656633600000,\"count\":0},{\"timestamp\":1659312000000,\"count\":0},{\"timestamp\":1661990400000,\"count\":0},{\"timestamp\":1664582400000,\"count\":0},{\"timestamp\":1667260800000,\"count\":0},{\"timestamp\":1669852800000,\"count\":0},{\"timestamp\":1672531200000,\"count\":0},{\"timestamp\":1674518400000,\"count\":0},{\"timestamp\":1674604800000,\"count\":0},{\"timestamp\":1674691200000,\"count\":0},{\"timestamp\":1674777600000,\"count\":0},{\"timestamp\":1674950400000,\"count\":0},{\"timestamp\":1675036800000,\"count\":0},{\"timestamp\":1675382400000,\"count\":0},{\"timestamp\":1675641600000,\"count\":0},{\"timestamp\":1675900800000,\"count\":0},{\"timestamp\":1676419200000,\"count\":0},{\"timestamp\":1676592000000,\"count\":0},{\"timestamp\":1676678400000,\"count\":0},{\"timestamp\":1676764800000,\"count\":0},{\"timestamp\":1676937600000,\"count\":0},{\"timestamp\":1677024000000,\"count\":0},{\"timestamp\":1677110400000,\"count\":0},{\"timestamp\":1677196800000,\"count\":0},{\"timestamp\":1678147200000,\"count\":0},{\"timestamp\":1678233600000,\"count\":0},{\"timestamp\":1678320000000,\"count\":0},{\"timestamp\":1678406400000,\"count\":0},{\"timestamp\":1678924800000,\"count\":0},{\"timestamp\":1679011200000,\"count\":0},{\"timestamp\":1679097600000,\"count\":0},{\"timestamp\":1679270400000,\"count\":0},{\"timestamp\":1679616000000,\"count\":0},{\"timestamp\":1679767539000,\"count\":0},{\"timestamp\":1679839241000,\"count\":0},{\"timestamp\":1679950494000,\"count\":0},{\"timestamp\":1680000934000,\"count\":0},{\"timestamp\":1680088743000,\"count\":0},{\"timestamp\":1680173969000,\"count\":0},{\"timestamp\":1680364852000,\"count\":0},{\"timestamp\":1680522865000,\"count\":0},{\"timestamp\":1680535003000,\"count\":0},{\"timestamp\":1680677952000,\"count\":0},{\"timestamp\":1680682198000,\"count\":0},{\"timestamp\":1681054622000,\"count\":0},{\"timestamp\":1681104959000,\"count\":0},{\"timestamp\":1681186454000,\"count\":0},{\"timestamp\":1681259554000,\"count\":0},{\"timestamp\":1681392800000,\"count\":0},{\"timestamp\":1681457895000,\"count\":0},{\"timestamp\":1681494860000,\"count\":0},{\"timestamp\":1681566164000,\"count\":0},{\"timestamp\":1681569410000,\"count\":0},{\"timestamp\":1681640957000,\"count\":0},{\"timestamp\":1682199582000,\"count\":0},{\"timestamp\":1682282324000,\"count\":0}])\n",
      "999410\tList([{\"timestamp\":1551398400000,\"count\":4},{\"timestamp\":1554076800000,\"count\":2},{\"timestamp\":1556668800000,\"count\":1},{\"timestamp\":1559347200000,\"count\":1},{\"timestamp\":1561939200000,\"count\":2},{\"timestamp\":1564617600000,\"count\":1},{\"timestamp\":1567296000000,\"count\":1},{\"timestamp\":1569888000000,\"count\":1},{\"timestamp\":1572566400000,\"count\":0},{\"timestamp\":1575158400000,\"count\":0},{\"timestamp\":1577836800000,\"count\":2},{\"timestamp\":1580515200000,\"count\":1},{\"timestamp\":1583020800000,\"count\":0},{\"timestamp\":1585699200000,\"count\":0},{\"timestamp\":1588291200000,\"count\":0},{\"timestamp\":1590969600000,\"count\":0},{\"timestamp\":1593561600000,\"count\":2},{\"timestamp\":1596240000000,\"count\":1},{\"timestamp\":1598918400000,\"count\":2},{\"timestamp\":1601510400000,\"count\":0},{\"timestamp\":1604188800000,\"count\":1},{\"timestamp\":1606780800000,\"count\":1},{\"timestamp\":1609459200000,\"count\":1},{\"timestamp\":1612137600000,\"count\":1},{\"timestamp\":1614556800000,\"count\":2},{\"timestamp\":1617235200000,\"count\":1},{\"timestamp\":1619827200000,\"count\":1},{\"timestamp\":1622505600000,\"count\":0},{\"timestamp\":1625097600000,\"count\":1},{\"timestamp\":1627776000000,\"count\":0},{\"timestamp\":1630454400000,\"count\":0},{\"timestamp\":1633046400000,\"count\":0},{\"timestamp\":1635724800000,\"count\":0},{\"timestamp\":1638316800000,\"count\":0},{\"timestamp\":1640995200000,\"count\":0},{\"timestamp\":1643673600000,\"count\":0},{\"timestamp\":1646092800000,\"count\":1},{\"timestamp\":1648771200000,\"count\":0},{\"timestamp\":1651363200000,\"count\":0},{\"timestamp\":1654041600000,\"count\":0},{\"timestamp\":1656633600000,\"count\":0},{\"timestamp\":1659312000000,\"count\":0},{\"timestamp\":1661990400000,\"count\":0},{\"timestamp\":1664582400000,\"count\":0},{\"timestamp\":1667260800000,\"count\":0},{\"timestamp\":1669852800000,\"count\":0},{\"timestamp\":1672531200000,\"count\":2},{\"timestamp\":1674518400000,\"count\":0},{\"timestamp\":1674777600000,\"count\":0},{\"timestamp\":1674864000000,\"count\":0},{\"timestamp\":1674950400000,\"count\":0},{\"timestamp\":1675036800000,\"count\":0},{\"timestamp\":1675123200000,\"count\":0},{\"timestamp\":1675209600000,\"count\":0},{\"timestamp\":1675296000000,\"count\":0},{\"timestamp\":1675555200000,\"count\":0},{\"timestamp\":1675728000000,\"count\":0},{\"timestamp\":1676246400000,\"count\":0},{\"timestamp\":1676332800000,\"count\":0},{\"timestamp\":1676419200000,\"count\":0},{\"timestamp\":1676505600000,\"count\":0},{\"timestamp\":1676678400000,\"count\":1},{\"timestamp\":1676764800000,\"count\":0},{\"timestamp\":1676851200000,\"count\":0},{\"timestamp\":1676937600000,\"count\":0},{\"timestamp\":1677196800000,\"count\":0},{\"timestamp\":1677283200000,\"count\":0},{\"timestamp\":1677369600000,\"count\":0},{\"timestamp\":1677628800000,\"count\":0},{\"timestamp\":1677715200000,\"count\":0},{\"timestamp\":1677974400000,\"count\":0},{\"timestamp\":1678147200000,\"count\":0},{\"timestamp\":1678406400000,\"count\":0},{\"timestamp\":1678492800000,\"count\":0},{\"timestamp\":1678665600000,\"count\":0},{\"timestamp\":1678752000000,\"count\":0},{\"timestamp\":1678924800000,\"count\":0},{\"timestamp\":1679097600000,\"count\":0},{\"timestamp\":1679184000000,\"count\":0},{\"timestamp\":1679443200000,\"count\":0},{\"timestamp\":1680015504000,\"count\":0},{\"timestamp\":1680413674000,\"count\":0},{\"timestamp\":1680456159000,\"count\":0},{\"timestamp\":1680698171000,\"count\":0},{\"timestamp\":1680858576000,\"count\":0},{\"timestamp\":1680929929000,\"count\":0},{\"timestamp\":1681008384000,\"count\":0},{\"timestamp\":1681240508000,\"count\":0},{\"timestamp\":1681497586000,\"count\":0},{\"timestamp\":1681570450000,\"count\":0}])\n",
      "999430\tList([{\"timestamp\":1572566400000,\"count\":0},{\"timestamp\":1575158400000,\"count\":0},{\"timestamp\":1577836800000,\"count\":0},{\"timestamp\":1580515200000,\"count\":0},{\"timestamp\":1583020800000,\"count\":0},{\"timestamp\":1585699200000,\"count\":0},{\"timestamp\":1588291200000,\"count\":0},{\"timestamp\":1590969600000,\"count\":0},{\"timestamp\":1593561600000,\"count\":0},{\"timestamp\":1596240000000,\"count\":0},{\"timestamp\":1598918400000,\"count\":0},{\"timestamp\":1601510400000,\"count\":0},{\"timestamp\":1604188800000,\"count\":0},{\"timestamp\":1606780800000,\"count\":2},{\"timestamp\":1609459200000,\"count\":0},{\"timestamp\":1612137600000,\"count\":0},{\"timestamp\":1614556800000,\"count\":0},{\"timestamp\":1617235200000,\"count\":0},{\"timestamp\":1619827200000,\"count\":0},{\"timestamp\":1622505600000,\"count\":0},{\"timestamp\":1625097600000,\"count\":0},{\"timestamp\":1627776000000,\"count\":0},{\"timestamp\":1630454400000,\"count\":0},{\"timestamp\":1633046400000,\"count\":0},{\"timestamp\":1635724800000,\"count\":0},{\"timestamp\":1638316800000,\"count\":0},{\"timestamp\":1640995200000,\"count\":0},{\"timestamp\":1643673600000,\"count\":0},{\"timestamp\":1646092800000,\"count\":0},{\"timestamp\":1648771200000,\"count\":0},{\"timestamp\":1651363200000,\"count\":0},{\"timestamp\":1654041600000,\"count\":0},{\"timestamp\":1656633600000,\"count\":0},{\"timestamp\":1659312000000,\"count\":0},{\"timestamp\":1661990400000,\"count\":0},{\"timestamp\":1664582400000,\"count\":0},{\"timestamp\":1667260800000,\"count\":0},{\"timestamp\":1669852800000,\"count\":0},{\"timestamp\":1672531200000,\"count\":0},{\"timestamp\":1674864000000,\"count\":0},{\"timestamp\":1674950400000,\"count\":0},{\"timestamp\":1675036800000,\"count\":0},{\"timestamp\":1675209600000,\"count\":0},{\"timestamp\":1675296000000,\"count\":0},{\"timestamp\":1675382400000,\"count\":0},{\"timestamp\":1675814400000,\"count\":0},{\"timestamp\":1675987200000,\"count\":0},{\"timestamp\":1676073600000,\"count\":0},{\"timestamp\":1676332800000,\"count\":0},{\"timestamp\":1676505600000,\"count\":0},{\"timestamp\":1676592000000,\"count\":0},{\"timestamp\":1676937600000,\"count\":0},{\"timestamp\":1677024000000,\"count\":0},{\"timestamp\":1677456000000,\"count\":0},{\"timestamp\":1677801600000,\"count\":0},{\"timestamp\":1677888000000,\"count\":0},{\"timestamp\":1678060800000,\"count\":0},{\"timestamp\":1678147200000,\"count\":0},{\"timestamp\":1678233600000,\"count\":0},{\"timestamp\":1678406400000,\"count\":0},{\"timestamp\":1678492800000,\"count\":0},{\"timestamp\":1678579200000,\"count\":0},{\"timestamp\":1678665600000,\"count\":0},{\"timestamp\":1678752000000,\"count\":0},{\"timestamp\":1678924800000,\"count\":0},{\"timestamp\":1679097600000,\"count\":0},{\"timestamp\":1679184000000,\"count\":0},{\"timestamp\":1679356800000,\"count\":0},{\"timestamp\":1679443200000,\"count\":0},{\"timestamp\":1679814078000,\"count\":0},{\"timestamp\":1679925440000,\"count\":0},{\"timestamp\":1679980766000,\"count\":0},{\"timestamp\":1680036384000,\"count\":0},{\"timestamp\":1680456352000,\"count\":0},{\"timestamp\":1680521170000,\"count\":0},{\"timestamp\":1680644923000,\"count\":0},{\"timestamp\":1680860914000,\"count\":0},{\"timestamp\":1681050715000,\"count\":0},{\"timestamp\":1681364917000,\"count\":0},{\"timestamp\":1681371227000,\"count\":0},{\"timestamp\":1681622980000,\"count\":0},{\"timestamp\":1681692850000,\"count\":0},{\"timestamp\":1681831250000,\"count\":0},{\"timestamp\":1681898976000,\"count\":0},{\"timestamp\":1682249980000,\"count\":0}])\n",
      "999540\tList([{\"timestamp\":1546300800000,\"count\":3},{\"timestamp\":1548979200000,\"count\":1},{\"timestamp\":1551398400000,\"count\":1},{\"timestamp\":1554076800000,\"count\":0},{\"timestamp\":1556668800000,\"count\":1},{\"timestamp\":1559347200000,\"count\":1},{\"timestamp\":1561939200000,\"count\":2},{\"timestamp\":1564617600000,\"count\":0},{\"timestamp\":1567296000000,\"count\":0},{\"timestamp\":1569888000000,\"count\":0},{\"timestamp\":1572566400000,\"count\":0},{\"timestamp\":1575158400000,\"count\":0},{\"timestamp\":1577836800000,\"count\":0},{\"timestamp\":1580515200000,\"count\":0},{\"timestamp\":1583020800000,\"count\":0},{\"timestamp\":1585699200000,\"count\":0},{\"timestamp\":1588291200000,\"count\":0},{\"timestamp\":1590969600000,\"count\":0},{\"timestamp\":1593561600000,\"count\":0},{\"timestamp\":1596240000000,\"count\":0},{\"timestamp\":1598918400000,\"count\":0},{\"timestamp\":1601510400000,\"count\":0},{\"timestamp\":1604188800000,\"count\":0},{\"timestamp\":1606780800000,\"count\":0},{\"timestamp\":1609459200000,\"count\":0},{\"timestamp\":1612137600000,\"count\":0},{\"timestamp\":1614556800000,\"count\":0},{\"timestamp\":1617235200000,\"count\":0},{\"timestamp\":1619827200000,\"count\":0},{\"timestamp\":1622505600000,\"count\":0},{\"timestamp\":1625097600000,\"count\":0},{\"timestamp\":1627776000000,\"count\":0},{\"timestamp\":1630454400000,\"count\":0},{\"timestamp\":1633046400000,\"count\":0},{\"timestamp\":1635724800000,\"count\":0},{\"timestamp\":1638316800000,\"count\":0},{\"timestamp\":1640995200000,\"count\":0},{\"timestamp\":1643673600000,\"count\":0},{\"timestamp\":1646092800000,\"count\":0},{\"timestamp\":1648771200000,\"count\":0},{\"timestamp\":1651363200000,\"count\":0},{\"timestamp\":1654041600000,\"count\":0},{\"timestamp\":1656633600000,\"count\":0},{\"timestamp\":1659312000000,\"count\":0},{\"timestamp\":1661990400000,\"count\":0},{\"timestamp\":1664582400000,\"count\":0},{\"timestamp\":1667260800000,\"count\":0},{\"timestamp\":1669852800000,\"count\":0},{\"timestamp\":1672531200000,\"count\":0},{\"timestamp\":1674518400000,\"count\":0},{\"timestamp\":1674691200000,\"count\":0},{\"timestamp\":1674777600000,\"count\":0},{\"timestamp\":1674864000000,\"count\":0},{\"timestamp\":1674950400000,\"count\":0},{\"timestamp\":1675123200000,\"count\":0},{\"timestamp\":1675209600000,\"count\":0},{\"timestamp\":1675296000000,\"count\":0},{\"timestamp\":1675468800000,\"count\":0},{\"timestamp\":1675555200000,\"count\":0},{\"timestamp\":1675728000000,\"count\":0},{\"timestamp\":1675900800000,\"count\":0},{\"timestamp\":1676419200000,\"count\":0},{\"timestamp\":1676764800000,\"count\":0},{\"timestamp\":1676851200000,\"count\":0},{\"timestamp\":1677110400000,\"count\":0},{\"timestamp\":1677369600000,\"count\":0},{\"timestamp\":1677456000000,\"count\":0},{\"timestamp\":1677628800000,\"count\":0},{\"timestamp\":1677801600000,\"count\":0},{\"timestamp\":1677974400000,\"count\":0},{\"timestamp\":1678406400000,\"count\":0},{\"timestamp\":1678492800000,\"count\":0},{\"timestamp\":1678924800000,\"count\":0},{\"timestamp\":1679097600000,\"count\":0},{\"timestamp\":1679270400000,\"count\":0},{\"timestamp\":1679616000000,\"count\":0},{\"timestamp\":1679854103000,\"count\":0},{\"timestamp\":1680104560000,\"count\":0},{\"timestamp\":1680285383000,\"count\":0},{\"timestamp\":1680550046000,\"count\":0},{\"timestamp\":1680569694000,\"count\":0},{\"timestamp\":1680747397000,\"count\":0},{\"timestamp\":1680895310000,\"count\":0},{\"timestamp\":1680963863000,\"count\":0},{\"timestamp\":1681225638000,\"count\":0},{\"timestamp\":1681318034000,\"count\":0},{\"timestamp\":1681483018000,\"count\":0},{\"timestamp\":1681732038000,\"count\":0},{\"timestamp\":1681974920000,\"count\":0}])\n",
      "999560\tList([{\"timestamp\":1546300800000,\"count\":3},{\"timestamp\":1548979200000,\"count\":2},{\"timestamp\":1551398400000,\"count\":1},{\"timestamp\":1554076800000,\"count\":0},{\"timestamp\":1556668800000,\"count\":0},{\"timestamp\":1559347200000,\"count\":0},{\"timestamp\":1561939200000,\"count\":0},{\"timestamp\":1564617600000,\"count\":0},{\"timestamp\":1567296000000,\"count\":0},{\"timestamp\":1569888000000,\"count\":1},{\"timestamp\":1572566400000,\"count\":0},{\"timestamp\":1575158400000,\"count\":0},{\"timestamp\":1577836800000,\"count\":0},{\"timestamp\":1580515200000,\"count\":0},{\"timestamp\":1583020800000,\"count\":0},{\"timestamp\":1585699200000,\"count\":0},{\"timestamp\":1588291200000,\"count\":0},{\"timestamp\":1590969600000,\"count\":0},{\"timestamp\":1593561600000,\"count\":0},{\"timestamp\":1596240000000,\"count\":0},{\"timestamp\":1598918400000,\"count\":0},{\"timestamp\":1601510400000,\"count\":0},{\"timestamp\":1604188800000,\"count\":0},{\"timestamp\":1606780800000,\"count\":0},{\"timestamp\":1609459200000,\"count\":1},{\"timestamp\":1612137600000,\"count\":1},{\"timestamp\":1614556800000,\"count\":1},{\"timestamp\":1617235200000,\"count\":0},{\"timestamp\":1619827200000,\"count\":0},{\"timestamp\":1622505600000,\"count\":0},{\"timestamp\":1625097600000,\"count\":0},{\"timestamp\":1627776000000,\"count\":0},{\"timestamp\":1630454400000,\"count\":0},{\"timestamp\":1633046400000,\"count\":0},{\"timestamp\":1635724800000,\"count\":1},{\"timestamp\":1638316800000,\"count\":1},{\"timestamp\":1640995200000,\"count\":1},{\"timestamp\":1643673600000,\"count\":0},{\"timestamp\":1646092800000,\"count\":0},{\"timestamp\":1648771200000,\"count\":0},{\"timestamp\":1651363200000,\"count\":0},{\"timestamp\":1654041600000,\"count\":0},{\"timestamp\":1656633600000,\"count\":0},{\"timestamp\":1659312000000,\"count\":0},{\"timestamp\":1661990400000,\"count\":0},{\"timestamp\":1664582400000,\"count\":0},{\"timestamp\":1667260800000,\"count\":0},{\"timestamp\":1669852800000,\"count\":0},{\"timestamp\":1672531200000,\"count\":0},{\"timestamp\":1674518400000,\"count\":0},{\"timestamp\":1674604800000,\"count\":0},{\"timestamp\":1674691200000,\"count\":0},{\"timestamp\":1674777600000,\"count\":0},{\"timestamp\":1675036800000,\"count\":0},{\"timestamp\":1675123200000,\"count\":0},{\"timestamp\":1675209600000,\"count\":0},{\"timestamp\":1675382400000,\"count\":0},{\"timestamp\":1675814400000,\"count\":0},{\"timestamp\":1675987200000,\"count\":0},{\"timestamp\":1676073600000,\"count\":0},{\"timestamp\":1676246400000,\"count\":0},{\"timestamp\":1676332800000,\"count\":0},{\"timestamp\":1676419200000,\"count\":0},{\"timestamp\":1676505600000,\"count\":0},{\"timestamp\":1676592000000,\"count\":0},{\"timestamp\":1676678400000,\"count\":0},{\"timestamp\":1676764800000,\"count\":0},{\"timestamp\":1677024000000,\"count\":0},{\"timestamp\":1677196800000,\"count\":0},{\"timestamp\":1677283200000,\"count\":0},{\"timestamp\":1677456000000,\"count\":0},{\"timestamp\":1677542400000,\"count\":0},{\"timestamp\":1677715200000,\"count\":0},{\"timestamp\":1677888000000,\"count\":0},{\"timestamp\":1677974400000,\"count\":0},{\"timestamp\":1678060800000,\"count\":0},{\"timestamp\":1678233600000,\"count\":0},{\"timestamp\":1678320000000,\"count\":0},{\"timestamp\":1678406400000,\"count\":0},{\"timestamp\":1678838400000,\"count\":0},{\"timestamp\":1679097600000,\"count\":0},{\"timestamp\":1679270400000,\"count\":0},{\"timestamp\":1679356800000,\"count\":0},{\"timestamp\":1679529600000,\"count\":0},{\"timestamp\":1679616000000,\"count\":0},{\"timestamp\":1679731686000,\"count\":0},{\"timestamp\":1679890079000,\"count\":0},{\"timestamp\":1680096767000,\"count\":0},{\"timestamp\":1680401150000,\"count\":0},{\"timestamp\":1680518284000,\"count\":0},{\"timestamp\":1680864521000,\"count\":0},{\"timestamp\":1680899222000,\"count\":0},{\"timestamp\":1680974952000,\"count\":0},{\"timestamp\":1681249206000,\"count\":0},{\"timestamp\":1681591326000,\"count\":0},{\"timestamp\":1681906451000,\"count\":0},{\"timestamp\":1682024198000,\"count\":0},{\"timestamp\":1682081014000,\"count\":0}])\n",
      "999640\tList([{\"timestamp\":1546300800000,\"count\":5},{\"timestamp\":1548979200000,\"count\":2},{\"timestamp\":1551398400000,\"count\":8},{\"timestamp\":1554076800000,\"count\":4},{\"timestamp\":1556668800000,\"count\":2},{\"timestamp\":1559347200000,\"count\":1},{\"timestamp\":1561939200000,\"count\":2},{\"timestamp\":1564617600000,\"count\":1},{\"timestamp\":1567296000000,\"count\":0},{\"timestamp\":1569888000000,\"count\":1},{\"timestamp\":1572566400000,\"count\":0},{\"timestamp\":1575158400000,\"count\":0},{\"timestamp\":1577836800000,\"count\":0},{\"timestamp\":1580515200000,\"count\":1},{\"timestamp\":1583020800000,\"count\":0},{\"timestamp\":1585699200000,\"count\":0},{\"timestamp\":1588291200000,\"count\":0},{\"timestamp\":1590969600000,\"count\":0},{\"timestamp\":1593561600000,\"count\":0},{\"timestamp\":1596240000000,\"count\":0},{\"timestamp\":1598918400000,\"count\":0},{\"timestamp\":1601510400000,\"count\":1},{\"timestamp\":1604188800000,\"count\":0},{\"timestamp\":1606780800000,\"count\":0},{\"timestamp\":1609459200000,\"count\":1},{\"timestamp\":1612137600000,\"count\":0},{\"timestamp\":1614556800000,\"count\":0},{\"timestamp\":1617235200000,\"count\":1},{\"timestamp\":1619827200000,\"count\":1},{\"timestamp\":1622505600000,\"count\":0},{\"timestamp\":1625097600000,\"count\":0},{\"timestamp\":1627776000000,\"count\":0},{\"timestamp\":1630454400000,\"count\":0},{\"timestamp\":1633046400000,\"count\":0},{\"timestamp\":1635724800000,\"count\":0},{\"timestamp\":1638316800000,\"count\":0},{\"timestamp\":1640995200000,\"count\":0},{\"timestamp\":1643673600000,\"count\":1},{\"timestamp\":1646092800000,\"count\":0},{\"timestamp\":1648771200000,\"count\":0},{\"timestamp\":1651363200000,\"count\":0},{\"timestamp\":1654041600000,\"count\":0},{\"timestamp\":1656633600000,\"count\":0},{\"timestamp\":1659312000000,\"count\":0},{\"timestamp\":1661990400000,\"count\":0},{\"timestamp\":1664582400000,\"count\":0},{\"timestamp\":1667260800000,\"count\":1},{\"timestamp\":1669852800000,\"count\":0},{\"timestamp\":1672531200000,\"count\":0},{\"timestamp\":1674777600000,\"count\":0},{\"timestamp\":1674864000000,\"count\":0},{\"timestamp\":1675296000000,\"count\":0},{\"timestamp\":1675641600000,\"count\":0},{\"timestamp\":1675814400000,\"count\":0},{\"timestamp\":1675987200000,\"count\":0},{\"timestamp\":1676160000000,\"count\":0},{\"timestamp\":1676246400000,\"count\":0},{\"timestamp\":1676419200000,\"count\":0},{\"timestamp\":1676592000000,\"count\":0},{\"timestamp\":1676678400000,\"count\":0},{\"timestamp\":1676764800000,\"count\":0},{\"timestamp\":1676851200000,\"count\":0},{\"timestamp\":1677024000000,\"count\":0},{\"timestamp\":1677110400000,\"count\":0},{\"timestamp\":1677196800000,\"count\":0},{\"timestamp\":1677283200000,\"count\":0},{\"timestamp\":1677369600000,\"count\":0},{\"timestamp\":1677542400000,\"count\":0},{\"timestamp\":1678233600000,\"count\":0},{\"timestamp\":1678492800000,\"count\":0},{\"timestamp\":1678752000000,\"count\":0},{\"timestamp\":1678838400000,\"count\":0},{\"timestamp\":1679184000000,\"count\":0},{\"timestamp\":1679356800000,\"count\":0},{\"timestamp\":1679443200000,\"count\":0},{\"timestamp\":1679616000000,\"count\":0},{\"timestamp\":1679857416000,\"count\":0},{\"timestamp\":1679955336000,\"count\":0},{\"timestamp\":1680089063000,\"count\":0},{\"timestamp\":1680136213000,\"count\":0},{\"timestamp\":1680239331000,\"count\":0},{\"timestamp\":1680279226000,\"count\":0},{\"timestamp\":1680327287000,\"count\":0},{\"timestamp\":1680491021000,\"count\":0},{\"timestamp\":1680696140000,\"count\":0},{\"timestamp\":1681137153000,\"count\":0},{\"timestamp\":1681302756000,\"count\":0},{\"timestamp\":1681573896000,\"count\":0},{\"timestamp\":1681634342000,\"count\":0},{\"timestamp\":1681743668000,\"count\":0},{\"timestamp\":1681916249000,\"count\":0},{\"timestamp\":1681976941000,\"count\":0},{\"timestamp\":1682196020000,\"count\":0}])\n",
      "999660\tList([{\"timestamp\":1590969600000,\"count\":10},{\"timestamp\":1593561600000,\"count\":8},{\"timestamp\":1596240000000,\"count\":7},{\"timestamp\":1598918400000,\"count\":4},{\"timestamp\":1601510400000,\"count\":4},{\"timestamp\":1604188800000,\"count\":18},{\"timestamp\":1606780800000,\"count\":10},{\"timestamp\":1609459200000,\"count\":7},{\"timestamp\":1612137600000,\"count\":7},{\"timestamp\":1614556800000,\"count\":5},{\"timestamp\":1617235200000,\"count\":5},{\"timestamp\":1619827200000,\"count\":8},{\"timestamp\":1622505600000,\"count\":39},{\"timestamp\":1625097600000,\"count\":22},{\"timestamp\":1627776000000,\"count\":14},{\"timestamp\":1630454400000,\"count\":10},{\"timestamp\":1633046400000,\"count\":16},{\"timestamp\":1635724800000,\"count\":10},{\"timestamp\":1638316800000,\"count\":11},{\"timestamp\":1640995200000,\"count\":12},{\"timestamp\":1643673600000,\"count\":12},{\"timestamp\":1646092800000,\"count\":10},{\"timestamp\":1648771200000,\"count\":11},{\"timestamp\":1651363200000,\"count\":8},{\"timestamp\":1654041600000,\"count\":22},{\"timestamp\":1656633600000,\"count\":12},{\"timestamp\":1659312000000,\"count\":10},{\"timestamp\":1661990400000,\"count\":11},{\"timestamp\":1664582400000,\"count\":6},{\"timestamp\":1667260800000,\"count\":11},{\"timestamp\":1669852800000,\"count\":11},{\"timestamp\":1672531200000,\"count\":13},{\"timestamp\":1674518400000,\"count\":8},{\"timestamp\":1674604800000,\"count\":3},{\"timestamp\":1674691200000,\"count\":4},{\"timestamp\":1674777600000,\"count\":8},{\"timestamp\":1674864000000,\"count\":9},{\"timestamp\":1674950400000,\"count\":5},{\"timestamp\":1675036800000,\"count\":4},{\"timestamp\":1675123200000,\"count\":6},{\"timestamp\":1675209600000,\"count\":0},{\"timestamp\":1675296000000,\"count\":2},{\"timestamp\":1675382400000,\"count\":7},{\"timestamp\":1675468800000,\"count\":5},{\"timestamp\":1675555200000,\"count\":5},{\"timestamp\":1675641600000,\"count\":2},{\"timestamp\":1675814400000,\"count\":4},{\"timestamp\":1675900800000,\"count\":7},{\"timestamp\":1675987200000,\"count\":11},{\"timestamp\":1676073600000,\"count\":21},{\"timestamp\":1676160000000,\"count\":18},{\"timestamp\":1676246400000,\"count\":15},{\"timestamp\":1676332800000,\"count\":12},{\"timestamp\":1676419200000,\"count\":8},{\"timestamp\":1676505600000,\"count\":15},{\"timestamp\":1676592000000,\"count\":13},{\"timestamp\":1676678400000,\"count\":14},{\"timestamp\":1676764800000,\"count\":11},{\"timestamp\":1676851200000,\"count\":8},{\"timestamp\":1676937600000,\"count\":9},{\"timestamp\":1677024000000,\"count\":6},{\"timestamp\":1677110400000,\"count\":8},{\"timestamp\":1677196800000,\"count\":7},{\"timestamp\":1677283200000,\"count\":7},{\"timestamp\":1677369600000,\"count\":10},{\"timestamp\":1677456000000,\"count\":6},{\"timestamp\":1677542400000,\"count\":7},{\"timestamp\":1677628800000,\"count\":3},{\"timestamp\":1677715200000,\"count\":5},{\"timestamp\":1677801600000,\"count\":6},{\"timestamp\":1677888000000,\"count\":5},{\"timestamp\":1677974400000,\"count\":0},{\"timestamp\":1678060800000,\"count\":4},{\"timestamp\":1678147200000,\"count\":6},{\"timestamp\":1678233600000,\"count\":6},{\"timestamp\":1678320000000,\"count\":6},{\"timestamp\":1678406400000,\"count\":5},{\"timestamp\":1678492800000,\"count\":0},{\"timestamp\":1678579200000,\"count\":6},{\"timestamp\":1678665600000,\"count\":4},{\"timestamp\":1678752000000,\"count\":6},{\"timestamp\":1678838400000,\"count\":3},{\"timestamp\":1678924800000,\"count\":3},{\"timestamp\":1679011200000,\"count\":7},{\"timestamp\":1679097600000,\"count\":11},{\"timestamp\":1679184000000,\"count\":7},{\"timestamp\":1679270400000,\"count\":8},{\"timestamp\":1679356800000,\"count\":5},{\"timestamp\":1679443200000,\"count\":11},{\"timestamp\":1679529600000,\"count\":8},{\"timestamp\":1679616000000,\"count\":5},{\"timestamp\":1679692045000,\"count\":3},{\"timestamp\":1679695712000,\"count\":1},{\"timestamp\":1679702004000,\"count\":1},{\"timestamp\":1679707611000,\"count\":2},{\"timestamp\":1679713313000,\"count\":2},{\"timestamp\":1679719273000,\"count\":3},{\"timestamp\":1679723506000,\"count\":2},{\"timestamp\":1679728888000,\"count\":1},{\"timestamp\":1679734565000,\"count\":4},{\"timestamp\":1679739819000,\"count\":3},{\"timestamp\":1679745621000,\"count\":4},{\"timestamp\":1679751458000,\"count\":4},{\"timestamp\":1679757993000,\"count\":4},{\"timestamp\":1679764527000,\"count\":4},{\"timestamp\":1679771034000,\"count\":7},{\"timestamp\":1679777650000,\"count\":5},{\"timestamp\":1679784284000,\"count\":3},{\"timestamp\":1679786136000,\"count\":2},{\"timestamp\":1679793319000,\"count\":3},{\"timestamp\":1679797730000,\"count\":1},{\"timestamp\":1679804587000,\"count\":2},{\"timestamp\":1679810838000,\"count\":3},{\"timestamp\":1679817006000,\"count\":3},{\"timestamp\":1679822493000,\"count\":4},{\"timestamp\":1679828319000,\"count\":2},{\"timestamp\":1679828605000,\"count\":2},{\"timestamp\":1679834591000,\"count\":6},{\"timestamp\":1679840518000,\"count\":1},{\"timestamp\":1679845833000,\"count\":4},{\"timestamp\":1679852443000,\"count\":3},{\"timestamp\":1679854455000,\"count\":2},{\"timestamp\":1679860329000,\"count\":1},{\"timestamp\":1679864830000,\"count\":3},{\"timestamp\":1679871514000,\"count\":3},{\"timestamp\":1679877806000,\"count\":2},{\"timestamp\":1679885309000,\"count\":5},{\"timestamp\":1679889125000,\"count\":2},{\"timestamp\":1679891257000,\"count\":4},{\"timestamp\":1679896808000,\"count\":1},{\"timestamp\":1679901979000,\"count\":4},{\"timestamp\":1679905679000,\"count\":1},{\"timestamp\":1679910830000,\"count\":2},{\"timestamp\":1679915960000,\"count\":1},{\"timestamp\":1679918817000,\"count\":2},{\"timestamp\":1679924153000,\"count\":1},{\"timestamp\":1679930002000,\"count\":3},{\"timestamp\":1679935839000,\"count\":3},{\"timestamp\":1679941346000,\"count\":2},{\"timestamp\":1679947411000,\"count\":2},{\"timestamp\":1679953307000,\"count\":2},{\"timestamp\":1679959448000,\"count\":1},{\"timestamp\":1679965639000,\"count\":2},{\"timestamp\":1679972080000,\"count\":3},{\"timestamp\":1679977309000,\"count\":2},{\"timestamp\":1679982734000,\"count\":1},{\"timestamp\":1679987859000,\"count\":1},{\"timestamp\":1679993089000,\"count\":2},{\"timestamp\":1679998108000,\"count\":4},{\"timestamp\":1680003398000,\"count\":5},{\"timestamp\":1680008708000,\"count\":5},{\"timestamp\":1680014735000,\"count\":3},{\"timestamp\":1680016405000,\"count\":3},{\"timestamp\":1680021989000,\"count\":2},{\"timestamp\":1680027550000,\"count\":2},{\"timestamp\":1680033631000,\"count\":1},{\"timestamp\":1680039616000,\"count\":1},{\"timestamp\":1680046410000,\"count\":0},{\"timestamp\":1680064372000,\"count\":2},{\"timestamp\":1680069268000,\"count\":2},{\"timestamp\":1680074008000,\"count\":0},{\"timestamp\":1680077292000,\"count\":0},{\"timestamp\":1680087355000,\"count\":1},{\"timestamp\":1680092482000,\"count\":1},{\"timestamp\":1680097762000,\"count\":4},{\"timestamp\":1680102989000,\"count\":2},{\"timestamp\":1680108449000,\"count\":0},{\"timestamp\":1680121729000,\"count\":2},{\"timestamp\":1680128019000,\"count\":1},{\"timestamp\":1680133595000,\"count\":1},{\"timestamp\":1680138616000,\"count\":1},{\"timestamp\":1680143623000,\"count\":0},{\"timestamp\":1680152203000,\"count\":2},{\"timestamp\":1680157178000,\"count\":0},{\"timestamp\":1680177286000,\"count\":0},{\"timestamp\":1680200912000,\"count\":0},{\"timestamp\":1680204778000,\"count\":2},{\"timestamp\":1680210454000,\"count\":0},{\"timestamp\":1680220387000,\"count\":1},{\"timestamp\":1680225904000,\"count\":1},{\"timestamp\":1680231209000,\"count\":2},{\"timestamp\":1680235012000,\"count\":1},{\"timestamp\":1680240308000,\"count\":3},{\"timestamp\":1680246115000,\"count\":3},{\"timestamp\":1680249889000,\"count\":1},{\"timestamp\":1680254906000,\"count\":2},{\"timestamp\":1680260089000,\"count\":0},{\"timestamp\":1680316829000,\"count\":0},{\"timestamp\":1680496615000,\"count\":4},{\"timestamp\":1680502100000,\"count\":3},{\"timestamp\":1680507205000,\"count\":1},{\"timestamp\":1680512034000,\"count\":3},{\"timestamp\":1680516669000,\"count\":1},{\"timestamp\":1680521543000,\"count\":1},{\"timestamp\":1680526583000,\"count\":0},{\"timestamp\":1680592879000,\"count\":3},{\"timestamp\":1680597849000,\"count\":4},{\"timestamp\":1680602525000,\"count\":3},{\"timestamp\":1680607302000,\"count\":1},{\"timestamp\":1680612637000,\"count\":4},{\"timestamp\":1680617792000,\"count\":5},{\"timestamp\":1680623316000,\"count\":4},{\"timestamp\":1680628864000,\"count\":5},{\"timestamp\":1680634484000,\"count\":0},{\"timestamp\":1680744694000,\"count\":3},{\"timestamp\":1680749661000,\"count\":1},{\"timestamp\":1680752152000,\"count\":2},{\"timestamp\":1680757109000,\"count\":2},{\"timestamp\":1680761844000,\"count\":3},{\"timestamp\":1680766715000,\"count\":3},{\"timestamp\":1680771466000,\"count\":3},{\"timestamp\":1680776172000,\"count\":5},{\"timestamp\":1680781149000,\"count\":5},{\"timestamp\":1680786235000,\"count\":3},{\"timestamp\":1680792264000,\"count\":3},{\"timestamp\":1680799832000,\"count\":2},{\"timestamp\":1680805457000,\"count\":3},{\"timestamp\":1680811507000,\"count\":2},{\"timestamp\":1680817180000,\"count\":3},{\"timestamp\":1680822586000,\"count\":2},{\"timestamp\":1680827873000,\"count\":3},{\"timestamp\":1680834155000,\"count\":2},{\"timestamp\":1680839958000,\"count\":2},{\"timestamp\":1680845044000,\"count\":2},{\"timestamp\":1680850152000,\"count\":2},{\"timestamp\":1680854819000,\"count\":1},{\"timestamp\":1680859863000,\"count\":1},{\"timestamp\":1680864904000,\"count\":1},{\"timestamp\":1680869832000,\"count\":3},{\"timestamp\":1680875432000,\"count\":1},{\"timestamp\":1680881065000,\"count\":7},{\"timestamp\":1680886752000,\"count\":2},{\"timestamp\":1680892500000,\"count\":1},{\"timestamp\":1680898182000,\"count\":2},{\"timestamp\":1680903971000,\"count\":2},{\"timestamp\":1680909749000,\"count\":1},{\"timestamp\":1680915624000,\"count\":0},{\"timestamp\":1681063695000,\"count\":4},{\"timestamp\":1681069791000,\"count\":4},{\"timestamp\":1681075860000,\"count\":4},{\"timestamp\":1681081799000,\"count\":2},{\"timestamp\":1681087539000,\"count\":5},{\"timestamp\":1681093059000,\"count\":4},{\"timestamp\":1681098569000,\"count\":2},{\"timestamp\":1681103936000,\"count\":3},{\"timestamp\":1681109550000,\"count\":4},{\"timestamp\":1681114834000,\"count\":3},{\"timestamp\":1681120010000,\"count\":2},{\"timestamp\":1681124974000,\"count\":4},{\"timestamp\":1681130187000,\"count\":4},{\"timestamp\":1681135764000,\"count\":1},{\"timestamp\":1681141325000,\"count\":1},{\"timestamp\":1681147376000,\"count\":4},{\"timestamp\":1681153779000,\"count\":1},{\"timestamp\":1681160143000,\"count\":2},{\"timestamp\":1681166169000,\"count\":3},{\"timestamp\":1681171252000,\"count\":2},{\"timestamp\":1681176590000,\"count\":2},{\"timestamp\":1681182228000,\"count\":3},{\"timestamp\":1681187712000,\"count\":2},{\"timestamp\":1681192732000,\"count\":3},{\"timestamp\":1681197787000,\"count\":3},{\"timestamp\":1681203073000,\"count\":2},{\"timestamp\":1681207984000,\"count\":2},{\"timestamp\":1681212662000,\"count\":2},{\"timestamp\":1681218471000,\"count\":4},{\"timestamp\":1681224081000,\"count\":3},{\"timestamp\":1681229227000,\"count\":0},{\"timestamp\":1681290580000,\"count\":1},{\"timestamp\":1681295295000,\"count\":2},{\"timestamp\":1681300130000,\"count\":2},{\"timestamp\":1681305054000,\"count\":4},{\"timestamp\":1681310135000,\"count\":2},{\"timestamp\":1681315095000,\"count\":2},{\"timestamp\":1681320266000,\"count\":3},{\"timestamp\":1681325709000,\"count\":1},{\"timestamp\":1681331528000,\"count\":1},{\"timestamp\":1681337438000,\"count\":3},{\"timestamp\":1681342775000,\"count\":3},{\"timestamp\":1681347493000,\"count\":2},{\"timestamp\":1681352060000,\"count\":1},{\"timestamp\":1681357124000,\"count\":3},{\"timestamp\":1681361834000,\"count\":1},{\"timestamp\":1681366188000,\"count\":4},{\"timestamp\":1681370890000,\"count\":2},{\"timestamp\":1681375712000,\"count\":4},{\"timestamp\":1681380230000,\"count\":2},{\"timestamp\":1681385323000,\"count\":1},{\"timestamp\":1681390366000,\"count\":1},{\"timestamp\":1681395289000,\"count\":4},{\"timestamp\":1681400902000,\"count\":1},{\"timestamp\":1681406075000,\"count\":2},{\"timestamp\":1681411893000,\"count\":0},{\"timestamp\":1681417656000,\"count\":3},{\"timestamp\":1681422914000,\"count\":2},{\"timestamp\":1681427515000,\"count\":3},{\"timestamp\":1681432404000,\"count\":0},{\"timestamp\":1681477541000,\"count\":3},{\"timestamp\":1681482982000,\"count\":5},{\"timestamp\":1681488376000,\"count\":4},{\"timestamp\":1681493789000,\"count\":2},{\"timestamp\":1681499348000,\"count\":2},{\"timestamp\":1681504954000,\"count\":1},{\"timestamp\":1681511091000,\"count\":3},{\"timestamp\":1681516678000,\"count\":1},{\"timestamp\":1681521885000,\"count\":1},{\"timestamp\":1681527256000,\"count\":2},{\"timestamp\":1681532629000,\"count\":3},{\"timestamp\":1681537967000,\"count\":4},{\"timestamp\":1681542953000,\"count\":2},{\"timestamp\":1681548165000,\"count\":2},{\"timestamp\":1681553200000,\"count\":1},{\"timestamp\":1681558422000,\"count\":3},{\"timestamp\":1681563599000,\"count\":7},{\"timestamp\":1681569370000,\"count\":8},{\"timestamp\":1681575156000,\"count\":5},{\"timestamp\":1681580970000,\"count\":4},{\"timestamp\":1681586670000,\"count\":1},{\"timestamp\":1681592716000,\"count\":4},{\"timestamp\":1681598892000,\"count\":2},{\"timestamp\":1681604536000,\"count\":5},{\"timestamp\":1681610139000,\"count\":3},{\"timestamp\":1681615532000,\"count\":3},{\"timestamp\":1681621202000,\"count\":2},{\"timestamp\":1681626356000,\"count\":9},{\"timestamp\":1681631647000,\"count\":3},{\"timestamp\":1681636736000,\"count\":4},{\"timestamp\":1681642082000,\"count\":5},{\"timestamp\":1681647226000,\"count\":4},{\"timestamp\":1681652872000,\"count\":6},{\"timestamp\":1681658629000,\"count\":3},{\"timestamp\":1681664696000,\"count\":2},{\"timestamp\":1681670834000,\"count\":2},{\"timestamp\":1681676830000,\"count\":2},{\"timestamp\":1681683312000,\"count\":2},{\"timestamp\":1681689302000,\"count\":2},{\"timestamp\":1681695222000,\"count\":1},{\"timestamp\":1681700702000,\"count\":1},{\"timestamp\":1681705830000,\"count\":1},{\"timestamp\":1681710679000,\"count\":0},{\"timestamp\":1681783360000,\"count\":3},{\"timestamp\":1681788383000,\"count\":3},{\"timestamp\":1681793690000,\"count\":3},{\"timestamp\":1681798691000,\"count\":3},{\"timestamp\":1681803850000,\"count\":5},{\"timestamp\":1681808770000,\"count\":2},{\"timestamp\":1681813828000,\"count\":1},{\"timestamp\":1681819141000,\"count\":2},{\"timestamp\":1681824437000,\"count\":8},{\"timestamp\":1681829992000,\"count\":0},{\"timestamp\":1681856861000,\"count\":1},{\"timestamp\":1681862446000,\"count\":3},{\"timestamp\":1681868136000,\"count\":1},{\"timestamp\":1681873110000,\"count\":1},{\"timestamp\":1681875696000,\"count\":0},{\"timestamp\":1681916996000,\"count\":3},{\"timestamp\":1681922735000,\"count\":1},{\"timestamp\":1681928533000,\"count\":2},{\"timestamp\":1681934378000,\"count\":1},{\"timestamp\":1681940085000,\"count\":2},{\"timestamp\":1681946731000,\"count\":2},{\"timestamp\":1681952328000,\"count\":0},{\"timestamp\":1682013255000,\"count\":1},{\"timestamp\":1682019349000,\"count\":1},{\"timestamp\":1682025070000,\"count\":5},{\"timestamp\":1682030630000,\"count\":1},{\"timestamp\":1682036170000,\"count\":2},{\"timestamp\":1682041570000,\"count\":3},{\"timestamp\":1682046583000,\"count\":3},{\"timestamp\":1682051584000,\"count\":1},{\"timestamp\":1682056668000,\"count\":1},{\"timestamp\":1682061369000,\"count\":4},{\"timestamp\":1682066533000,\"count\":3},{\"timestamp\":1682071289000,\"count\":1},{\"timestamp\":1682076238000,\"count\":1},{\"timestamp\":1682081726000,\"count\":5},{\"timestamp\":1682087083000,\"count\":3},{\"timestamp\":1682092629000,\"count\":1},{\"timestamp\":1682098556000,\"count\":2},{\"timestamp\":1682104280000,\"count\":2},{\"timestamp\":1682109826000,\"count\":3},{\"timestamp\":1682115872000,\"count\":3},{\"timestamp\":1682121345000,\"count\":5},{\"timestamp\":1682126460000,\"count\":2},{\"timestamp\":1682131623000,\"count\":2},{\"timestamp\":1682136828000,\"count\":6},{\"timestamp\":1682142004000,\"count\":3},{\"timestamp\":1682146906000,\"count\":3},{\"timestamp\":1682151861000,\"count\":3},{\"timestamp\":1682157040000,\"count\":4},{\"timestamp\":1682162138000,\"count\":4},{\"timestamp\":1682167402000,\"count\":7},{\"timestamp\":1682173140000,\"count\":6},{\"timestamp\":1682179017000,\"count\":1},{\"timestamp\":1682184939000,\"count\":4},{\"timestamp\":1682190761000,\"count\":3},{\"timestamp\":1682197018000,\"count\":0},{\"timestamp\":1682282940000,\"count\":1}])\n",
      "999730\tList([{\"timestamp\":1564617600000,\"count\":3659},{\"timestamp\":1567296000000,\"count\":26},{\"timestamp\":1569888000000,\"count\":28},{\"timestamp\":1572566400000,\"count\":18},{\"timestamp\":1575158400000,\"count\":8},{\"timestamp\":1577836800000,\"count\":7},{\"timestamp\":1580515200000,\"count\":4},{\"timestamp\":1583020800000,\"count\":6},{\"timestamp\":1585699200000,\"count\":4},{\"timestamp\":1588291200000,\"count\":4},{\"timestamp\":1590969600000,\"count\":8},{\"timestamp\":1593561600000,\"count\":6},{\"timestamp\":1596240000000,\"count\":4},{\"timestamp\":1598918400000,\"count\":2},{\"timestamp\":1601510400000,\"count\":4},{\"timestamp\":1604188800000,\"count\":2},{\"timestamp\":1606780800000,\"count\":3},{\"timestamp\":1609459200000,\"count\":3},{\"timestamp\":1612137600000,\"count\":2},{\"timestamp\":1614556800000,\"count\":2},{\"timestamp\":1617235200000,\"count\":2},{\"timestamp\":1619827200000,\"count\":2},{\"timestamp\":1622505600000,\"count\":1},{\"timestamp\":1625097600000,\"count\":2},{\"timestamp\":1627776000000,\"count\":2},{\"timestamp\":1630454400000,\"count\":0},{\"timestamp\":1633046400000,\"count\":2},{\"timestamp\":1635724800000,\"count\":2},{\"timestamp\":1638316800000,\"count\":0},{\"timestamp\":1640995200000,\"count\":1},{\"timestamp\":1643673600000,\"count\":2},{\"timestamp\":1646092800000,\"count\":3},{\"timestamp\":1648771200000,\"count\":4},{\"timestamp\":1651363200000,\"count\":0},{\"timestamp\":1654041600000,\"count\":0},{\"timestamp\":1656633600000,\"count\":2},{\"timestamp\":1659312000000,\"count\":1},{\"timestamp\":1661990400000,\"count\":1},{\"timestamp\":1664582400000,\"count\":1},{\"timestamp\":1667260800000,\"count\":3},{\"timestamp\":1669852800000,\"count\":1},{\"timestamp\":1672531200000,\"count\":2},{\"timestamp\":1674518400000,\"count\":0},{\"timestamp\":1674604800000,\"count\":0},{\"timestamp\":1674777600000,\"count\":0},{\"timestamp\":1674864000000,\"count\":0},{\"timestamp\":1674950400000,\"count\":0},{\"timestamp\":1675036800000,\"count\":0},{\"timestamp\":1675123200000,\"count\":0},{\"timestamp\":1675209600000,\"count\":0},{\"timestamp\":1675296000000,\"count\":0},{\"timestamp\":1675382400000,\"count\":1},{\"timestamp\":1675468800000,\"count\":0},{\"timestamp\":1675555200000,\"count\":0},{\"timestamp\":1675641600000,\"count\":0},{\"timestamp\":1675728000000,\"count\":0},{\"timestamp\":1675814400000,\"count\":0},{\"timestamp\":1675900800000,\"count\":0},{\"timestamp\":1676073600000,\"count\":0},{\"timestamp\":1676160000000,\"count\":0},{\"timestamp\":1676332800000,\"count\":0},{\"timestamp\":1676419200000,\"count\":0},{\"timestamp\":1676505600000,\"count\":0},{\"timestamp\":1676678400000,\"count\":1},{\"timestamp\":1676764800000,\"count\":1},{\"timestamp\":1676851200000,\"count\":1},{\"timestamp\":1676937600000,\"count\":2},{\"timestamp\":1677110400000,\"count\":0},{\"timestamp\":1677283200000,\"count\":0},{\"timestamp\":1677369600000,\"count\":0},{\"timestamp\":1677542400000,\"count\":0},{\"timestamp\":1677628800000,\"count\":0},{\"timestamp\":1677715200000,\"count\":0},{\"timestamp\":1677888000000,\"count\":0},{\"timestamp\":1677974400000,\"count\":0},{\"timestamp\":1678233600000,\"count\":0},{\"timestamp\":1678492800000,\"count\":0},{\"timestamp\":1678579200000,\"count\":0},{\"timestamp\":1678665600000,\"count\":0},{\"timestamp\":1678924800000,\"count\":0},{\"timestamp\":1679011200000,\"count\":0},{\"timestamp\":1679097600000,\"count\":0},{\"timestamp\":1679184000000,\"count\":0},{\"timestamp\":1679270400000,\"count\":0},{\"timestamp\":1679616000000,\"count\":0},{\"timestamp\":1679702603000,\"count\":0},{\"timestamp\":1679832044000,\"count\":0},{\"timestamp\":1679851580000,\"count\":0},{\"timestamp\":1679899754000,\"count\":0},{\"timestamp\":1680802901000,\"count\":0},{\"timestamp\":1680845227000,\"count\":0},{\"timestamp\":1680902404000,\"count\":0},{\"timestamp\":1680957195000,\"count\":0},{\"timestamp\":1681199485000,\"count\":0},{\"timestamp\":1681345288000,\"count\":0},{\"timestamp\":1681725756000,\"count\":0},{\"timestamp\":1681905304000,\"count\":0},{\"timestamp\":1682228510000,\"count\":0}])\n",
      "999750\tList([{\"timestamp\":1543622400000,\"count\":1},{\"timestamp\":1546300800000,\"count\":1},{\"timestamp\":1548979200000,\"count\":0},{\"timestamp\":1551398400000,\"count\":1},{\"timestamp\":1554076800000,\"count\":0},{\"timestamp\":1556668800000,\"count\":0},{\"timestamp\":1559347200000,\"count\":0},{\"timestamp\":1561939200000,\"count\":0},{\"timestamp\":1564617600000,\"count\":0},{\"timestamp\":1567296000000,\"count\":0},{\"timestamp\":1569888000000,\"count\":0},{\"timestamp\":1572566400000,\"count\":0},{\"timestamp\":1575158400000,\"count\":0},{\"timestamp\":1577836800000,\"count\":0},{\"timestamp\":1580515200000,\"count\":0},{\"timestamp\":1583020800000,\"count\":0},{\"timestamp\":1585699200000,\"count\":0},{\"timestamp\":1588291200000,\"count\":0},{\"timestamp\":1590969600000,\"count\":0},{\"timestamp\":1593561600000,\"count\":0},{\"timestamp\":1596240000000,\"count\":0},{\"timestamp\":1598918400000,\"count\":0},{\"timestamp\":1601510400000,\"count\":0},{\"timestamp\":1604188800000,\"count\":1},{\"timestamp\":1606780800000,\"count\":0},{\"timestamp\":1609459200000,\"count\":0},{\"timestamp\":1612137600000,\"count\":0},{\"timestamp\":1614556800000,\"count\":0},{\"timestamp\":1617235200000,\"count\":0},{\"timestamp\":1619827200000,\"count\":0},{\"timestamp\":1622505600000,\"count\":0},{\"timestamp\":1625097600000,\"count\":0},{\"timestamp\":1627776000000,\"count\":0},{\"timestamp\":1630454400000,\"count\":0},{\"timestamp\":1633046400000,\"count\":0},{\"timestamp\":1635724800000,\"count\":0},{\"timestamp\":1638316800000,\"count\":0},{\"timestamp\":1640995200000,\"count\":0},{\"timestamp\":1643673600000,\"count\":0},{\"timestamp\":1646092800000,\"count\":0},{\"timestamp\":1648771200000,\"count\":0},{\"timestamp\":1651363200000,\"count\":0},{\"timestamp\":1654041600000,\"count\":0},{\"timestamp\":1656633600000,\"count\":0},{\"timestamp\":1659312000000,\"count\":0},{\"timestamp\":1661990400000,\"count\":0},{\"timestamp\":1664582400000,\"count\":0},{\"timestamp\":1667260800000,\"count\":0},{\"timestamp\":1669852800000,\"count\":0},{\"timestamp\":1672531200000,\"count\":0},{\"timestamp\":1674777600000,\"count\":0},{\"timestamp\":1674950400000,\"count\":0},{\"timestamp\":1675036800000,\"count\":0},{\"timestamp\":1675209600000,\"count\":0},{\"timestamp\":1675641600000,\"count\":0},{\"timestamp\":1675900800000,\"count\":0},{\"timestamp\":1675987200000,\"count\":0},{\"timestamp\":1676160000000,\"count\":0},{\"timestamp\":1676505600000,\"count\":0},{\"timestamp\":1676592000000,\"count\":0},{\"timestamp\":1676764800000,\"count\":0},{\"timestamp\":1677024000000,\"count\":0},{\"timestamp\":1677110400000,\"count\":0},{\"timestamp\":1677283200000,\"count\":0},{\"timestamp\":1677628800000,\"count\":0},{\"timestamp\":1677801600000,\"count\":0},{\"timestamp\":1677974400000,\"count\":0},{\"timestamp\":1678233600000,\"count\":0},{\"timestamp\":1678492800000,\"count\":0},{\"timestamp\":1678838400000,\"count\":0},{\"timestamp\":1679097600000,\"count\":0},{\"timestamp\":1679184000000,\"count\":0},{\"timestamp\":1679270400000,\"count\":0},{\"timestamp\":1679731692000,\"count\":0},{\"timestamp\":1679743817000,\"count\":0},{\"timestamp\":1679784900000,\"count\":0},{\"timestamp\":1679941115000,\"count\":0},{\"timestamp\":1680028198000,\"count\":0},{\"timestamp\":1680081766000,\"count\":0},{\"timestamp\":1680152060000,\"count\":0},{\"timestamp\":1680481696000,\"count\":0},{\"timestamp\":1680663337000,\"count\":0},{\"timestamp\":1680749119000,\"count\":0},{\"timestamp\":1680854860000,\"count\":0},{\"timestamp\":1681220459000,\"count\":0},{\"timestamp\":1681310783000,\"count\":0},{\"timestamp\":1681336650000,\"count\":0},{\"timestamp\":1681427402000,\"count\":0},{\"timestamp\":1681515106000,\"count\":0},{\"timestamp\":1681727779000,\"count\":0},{\"timestamp\":1681774998000,\"count\":0},{\"timestamp\":1681836692000,\"count\":0},{\"timestamp\":1682078798000,\"count\":0}])\n",
      "999760\tList([{\"timestamp\":1543622400000,\"count\":10},{\"timestamp\":1546300800000,\"count\":9},{\"timestamp\":1548979200000,\"count\":4},{\"timestamp\":1551398400000,\"count\":2},{\"timestamp\":1554076800000,\"count\":2},{\"timestamp\":1556668800000,\"count\":1},{\"timestamp\":1559347200000,\"count\":3},{\"timestamp\":1561939200000,\"count\":8},{\"timestamp\":1564617600000,\"count\":1},{\"timestamp\":1567296000000,\"count\":0},{\"timestamp\":1569888000000,\"count\":0},{\"timestamp\":1572566400000,\"count\":0},{\"timestamp\":1575158400000,\"count\":0},{\"timestamp\":1577836800000,\"count\":0},{\"timestamp\":1580515200000,\"count\":0},{\"timestamp\":1583020800000,\"count\":0},{\"timestamp\":1585699200000,\"count\":0},{\"timestamp\":1588291200000,\"count\":0},{\"timestamp\":1590969600000,\"count\":0},{\"timestamp\":1593561600000,\"count\":1},{\"timestamp\":1596240000000,\"count\":0},{\"timestamp\":1598918400000,\"count\":0},{\"timestamp\":1601510400000,\"count\":0},{\"timestamp\":1604188800000,\"count\":0},{\"timestamp\":1606780800000,\"count\":0},{\"timestamp\":1609459200000,\"count\":0},{\"timestamp\":1612137600000,\"count\":0},{\"timestamp\":1614556800000,\"count\":0},{\"timestamp\":1617235200000,\"count\":0},{\"timestamp\":1619827200000,\"count\":0},{\"timestamp\":1622505600000,\"count\":0},{\"timestamp\":1625097600000,\"count\":0},{\"timestamp\":1627776000000,\"count\":0},{\"timestamp\":1630454400000,\"count\":0},{\"timestamp\":1633046400000,\"count\":0},{\"timestamp\":1635724800000,\"count\":0},{\"timestamp\":1638316800000,\"count\":1},{\"timestamp\":1640995200000,\"count\":0},{\"timestamp\":1643673600000,\"count\":0},{\"timestamp\":1646092800000,\"count\":0},{\"timestamp\":1648771200000,\"count\":0},{\"timestamp\":1651363200000,\"count\":0},{\"timestamp\":1654041600000,\"count\":0},{\"timestamp\":1656633600000,\"count\":0},{\"timestamp\":1659312000000,\"count\":0},{\"timestamp\":1661990400000,\"count\":0},{\"timestamp\":1664582400000,\"count\":0},{\"timestamp\":1667260800000,\"count\":0},{\"timestamp\":1669852800000,\"count\":0},{\"timestamp\":1672531200000,\"count\":0},{\"timestamp\":1674604800000,\"count\":0},{\"timestamp\":1674777600000,\"count\":0},{\"timestamp\":1674864000000,\"count\":0},{\"timestamp\":1675209600000,\"count\":0},{\"timestamp\":1675382400000,\"count\":0},{\"timestamp\":1675987200000,\"count\":1},{\"timestamp\":1676073600000,\"count\":1},{\"timestamp\":1676160000000,\"count\":0},{\"timestamp\":1676505600000,\"count\":0},{\"timestamp\":1676851200000,\"count\":0},{\"timestamp\":1676937600000,\"count\":0},{\"timestamp\":1677110400000,\"count\":0},{\"timestamp\":1677283200000,\"count\":0},{\"timestamp\":1677456000000,\"count\":0},{\"timestamp\":1677542400000,\"count\":0},{\"timestamp\":1677628800000,\"count\":0},{\"timestamp\":1677715200000,\"count\":0},{\"timestamp\":1677888000000,\"count\":0},{\"timestamp\":1678060800000,\"count\":0},{\"timestamp\":1678233600000,\"count\":0},{\"timestamp\":1678406400000,\"count\":0},{\"timestamp\":1678492800000,\"count\":0},{\"timestamp\":1678579200000,\"count\":0},{\"timestamp\":1678665600000,\"count\":0},{\"timestamp\":1678924800000,\"count\":0},{\"timestamp\":1679097600000,\"count\":0},{\"timestamp\":1679915212000,\"count\":0},{\"timestamp\":1679989590000,\"count\":0},{\"timestamp\":1680152575000,\"count\":0},{\"timestamp\":1680308745000,\"count\":0},{\"timestamp\":1680398672000,\"count\":0},{\"timestamp\":1680551632000,\"count\":0},{\"timestamp\":1680574176000,\"count\":0},{\"timestamp\":1680800190000,\"count\":0},{\"timestamp\":1680996134000,\"count\":0},{\"timestamp\":1681214213000,\"count\":0},{\"timestamp\":1681232815000,\"count\":0},{\"timestamp\":1681338658000,\"count\":0},{\"timestamp\":1681405641000,\"count\":0},{\"timestamp\":1681423213000,\"count\":0},{\"timestamp\":1681533085000,\"count\":0},{\"timestamp\":1681582662000,\"count\":0},{\"timestamp\":1682022563000,\"count\":0},{\"timestamp\":1682229635000,\"count\":0}])\n",
      "999830\tList([{\"timestamp\":1546300800000,\"count\":14},{\"timestamp\":1548979200000,\"count\":10},{\"timestamp\":1551398400000,\"count\":8},{\"timestamp\":1554076800000,\"count\":6},{\"timestamp\":1556668800000,\"count\":4},{\"timestamp\":1559347200000,\"count\":10},{\"timestamp\":1561939200000,\"count\":15},{\"timestamp\":1564617600000,\"count\":2},{\"timestamp\":1567296000000,\"count\":3},{\"timestamp\":1569888000000,\"count\":4},{\"timestamp\":1572566400000,\"count\":5},{\"timestamp\":1575158400000,\"count\":4},{\"timestamp\":1577836800000,\"count\":5},{\"timestamp\":1580515200000,\"count\":5},{\"timestamp\":1583020800000,\"count\":4},{\"timestamp\":1585699200000,\"count\":5},{\"timestamp\":1588291200000,\"count\":3},{\"timestamp\":1590969600000,\"count\":3},{\"timestamp\":1593561600000,\"count\":3},{\"timestamp\":1596240000000,\"count\":4},{\"timestamp\":1598918400000,\"count\":4},{\"timestamp\":1601510400000,\"count\":3},{\"timestamp\":1604188800000,\"count\":3},{\"timestamp\":1606780800000,\"count\":4},{\"timestamp\":1609459200000,\"count\":4},{\"timestamp\":1612137600000,\"count\":4},{\"timestamp\":1614556800000,\"count\":3},{\"timestamp\":1617235200000,\"count\":2},{\"timestamp\":1619827200000,\"count\":4},{\"timestamp\":1622505600000,\"count\":3},{\"timestamp\":1625097600000,\"count\":3},{\"timestamp\":1627776000000,\"count\":3},{\"timestamp\":1630454400000,\"count\":3},{\"timestamp\":1633046400000,\"count\":3},{\"timestamp\":1635724800000,\"count\":2},{\"timestamp\":1638316800000,\"count\":3},{\"timestamp\":1640995200000,\"count\":3},{\"timestamp\":1643673600000,\"count\":3},{\"timestamp\":1646092800000,\"count\":2},{\"timestamp\":1648771200000,\"count\":1},{\"timestamp\":1651363200000,\"count\":1},{\"timestamp\":1654041600000,\"count\":2},{\"timestamp\":1656633600000,\"count\":1},{\"timestamp\":1659312000000,\"count\":1},{\"timestamp\":1661990400000,\"count\":1},{\"timestamp\":1664582400000,\"count\":2},{\"timestamp\":1667260800000,\"count\":4},{\"timestamp\":1669852800000,\"count\":2},{\"timestamp\":1672531200000,\"count\":2},{\"timestamp\":1674518400000,\"count\":1},{\"timestamp\":1674604800000,\"count\":0},{\"timestamp\":1674691200000,\"count\":0},{\"timestamp\":1674777600000,\"count\":1},{\"timestamp\":1674864000000,\"count\":0},{\"timestamp\":1674950400000,\"count\":1},{\"timestamp\":1675036800000,\"count\":0},{\"timestamp\":1675296000000,\"count\":0},{\"timestamp\":1675468800000,\"count\":0},{\"timestamp\":1675641600000,\"count\":0},{\"timestamp\":1676160000000,\"count\":0},{\"timestamp\":1676246400000,\"count\":0},{\"timestamp\":1676851200000,\"count\":0},{\"timestamp\":1676937600000,\"count\":0},{\"timestamp\":1677024000000,\"count\":0},{\"timestamp\":1677369600000,\"count\":2},{\"timestamp\":1677456000000,\"count\":1},{\"timestamp\":1677628800000,\"count\":0},{\"timestamp\":1677888000000,\"count\":0},{\"timestamp\":1678060800000,\"count\":0},{\"timestamp\":1678320000000,\"count\":0},{\"timestamp\":1678406400000,\"count\":0},{\"timestamp\":1678752000000,\"count\":0},{\"timestamp\":1678838400000,\"count\":0},{\"timestamp\":1678924800000,\"count\":1},{\"timestamp\":1679011200000,\"count\":0},{\"timestamp\":1679270400000,\"count\":1},{\"timestamp\":1679443200000,\"count\":0},{\"timestamp\":1679616000000,\"count\":0},{\"timestamp\":1679766912000,\"count\":0},{\"timestamp\":1679829333000,\"count\":0},{\"timestamp\":1679861016000,\"count\":0},{\"timestamp\":1680109479000,\"count\":0},{\"timestamp\":1680153181000,\"count\":0},{\"timestamp\":1680204193000,\"count\":0},{\"timestamp\":1680266240000,\"count\":1},{\"timestamp\":1680271738000,\"count\":0},{\"timestamp\":1680338718000,\"count\":0},{\"timestamp\":1680399793000,\"count\":0},{\"timestamp\":1680467374000,\"count\":0},{\"timestamp\":1680572119000,\"count\":0},{\"timestamp\":1680596890000,\"count\":1},{\"timestamp\":1680601834000,\"count\":1},{\"timestamp\":1680606439000,\"count\":1},{\"timestamp\":1680611712000,\"count\":0},{\"timestamp\":1680632649000,\"count\":0},{\"timestamp\":1680656281000,\"count\":0},{\"timestamp\":1680680491000,\"count\":0},{\"timestamp\":1680691458000,\"count\":0},{\"timestamp\":1680789793000,\"count\":0},{\"timestamp\":1680850339000,\"count\":1},{\"timestamp\":1680855088000,\"count\":2},{\"timestamp\":1680860144000,\"count\":1},{\"timestamp\":1680865066000,\"count\":2},{\"timestamp\":1680870143000,\"count\":1},{\"timestamp\":1680875621000,\"count\":0},{\"timestamp\":1680933769000,\"count\":1},{\"timestamp\":1680939592000,\"count\":1},{\"timestamp\":1680944666000,\"count\":1},{\"timestamp\":1680949840000,\"count\":1},{\"timestamp\":1680954864000,\"count\":1},{\"timestamp\":1680960101000,\"count\":0},{\"timestamp\":1681007414000,\"count\":0},{\"timestamp\":1681114870000,\"count\":0},{\"timestamp\":1681138786000,\"count\":0},{\"timestamp\":1681264874000,\"count\":0},{\"timestamp\":1681281364000,\"count\":0},{\"timestamp\":1681358426000,\"count\":0},{\"timestamp\":1681407119000,\"count\":0},{\"timestamp\":1681472843000,\"count\":0},{\"timestamp\":1681529055000,\"count\":0},{\"timestamp\":1681597504000,\"count\":0},{\"timestamp\":1681647707000,\"count\":0},{\"timestamp\":1681657932000,\"count\":0},{\"timestamp\":1681711923000,\"count\":0},{\"timestamp\":1681757714000,\"count\":0},{\"timestamp\":1681809671000,\"count\":0},{\"timestamp\":1681977220000,\"count\":0},{\"timestamp\":1682035794000,\"count\":0},{\"timestamp\":1682111286000,\"count\":1},{\"timestamp\":1682117507000,\"count\":1},{\"timestamp\":1682122697000,\"count\":1},{\"timestamp\":1682128027000,\"count\":1},{\"timestamp\":1682133241000,\"count\":1},{\"timestamp\":1682138399000,\"count\":1},{\"timestamp\":1682143316000,\"count\":0},{\"timestamp\":1682213647000,\"count\":2},{\"timestamp\":1682219189000,\"count\":0},{\"timestamp\":1682230670000,\"count\":0}])\n",
      "999840\tList([{\"timestamp\":1543622400000,\"count\":1},{\"timestamp\":1546300800000,\"count\":1},{\"timestamp\":1548979200000,\"count\":0},{\"timestamp\":1551398400000,\"count\":0},{\"timestamp\":1554076800000,\"count\":0},{\"timestamp\":1556668800000,\"count\":2},{\"timestamp\":1559347200000,\"count\":2},{\"timestamp\":1561939200000,\"count\":1},{\"timestamp\":1564617600000,\"count\":0},{\"timestamp\":1567296000000,\"count\":0},{\"timestamp\":1569888000000,\"count\":0},{\"timestamp\":1572566400000,\"count\":0},{\"timestamp\":1575158400000,\"count\":2},{\"timestamp\":1577836800000,\"count\":2},{\"timestamp\":1580515200000,\"count\":0},{\"timestamp\":1583020800000,\"count\":0},{\"timestamp\":1585699200000,\"count\":0},{\"timestamp\":1588291200000,\"count\":0},{\"timestamp\":1590969600000,\"count\":0},{\"timestamp\":1593561600000,\"count\":0},{\"timestamp\":1596240000000,\"count\":0},{\"timestamp\":1598918400000,\"count\":4},{\"timestamp\":1601510400000,\"count\":3},{\"timestamp\":1604188800000,\"count\":0},{\"timestamp\":1606780800000,\"count\":1},{\"timestamp\":1609459200000,\"count\":2},{\"timestamp\":1612137600000,\"count\":2},{\"timestamp\":1614556800000,\"count\":1},{\"timestamp\":1617235200000,\"count\":1},{\"timestamp\":1619827200000,\"count\":3},{\"timestamp\":1622505600000,\"count\":0},{\"timestamp\":1625097600000,\"count\":1},{\"timestamp\":1627776000000,\"count\":7},{\"timestamp\":1630454400000,\"count\":0},{\"timestamp\":1633046400000,\"count\":2},{\"timestamp\":1635724800000,\"count\":1},{\"timestamp\":1638316800000,\"count\":0},{\"timestamp\":1640995200000,\"count\":1},{\"timestamp\":1643673600000,\"count\":3},{\"timestamp\":1646092800000,\"count\":2},{\"timestamp\":1648771200000,\"count\":0},{\"timestamp\":1651363200000,\"count\":2},{\"timestamp\":1654041600000,\"count\":0},{\"timestamp\":1656633600000,\"count\":0},{\"timestamp\":1659312000000,\"count\":0},{\"timestamp\":1661990400000,\"count\":1},{\"timestamp\":1664582400000,\"count\":4},{\"timestamp\":1667260800000,\"count\":0},{\"timestamp\":1669852800000,\"count\":1},{\"timestamp\":1672531200000,\"count\":0},{\"timestamp\":1674518400000,\"count\":0},{\"timestamp\":1674777600000,\"count\":0},{\"timestamp\":1674950400000,\"count\":0},{\"timestamp\":1675036800000,\"count\":0},{\"timestamp\":1675123200000,\"count\":0},{\"timestamp\":1675296000000,\"count\":0},{\"timestamp\":1675468800000,\"count\":0},{\"timestamp\":1675555200000,\"count\":0},{\"timestamp\":1675814400000,\"count\":0},{\"timestamp\":1675987200000,\"count\":0},{\"timestamp\":1676073600000,\"count\":0},{\"timestamp\":1676332800000,\"count\":0},{\"timestamp\":1676419200000,\"count\":0},{\"timestamp\":1676678400000,\"count\":0},{\"timestamp\":1676851200000,\"count\":0},{\"timestamp\":1676937600000,\"count\":0},{\"timestamp\":1677024000000,\"count\":0},{\"timestamp\":1677196800000,\"count\":0},{\"timestamp\":1677369600000,\"count\":0},{\"timestamp\":1677974400000,\"count\":0},{\"timestamp\":1678060800000,\"count\":0},{\"timestamp\":1678147200000,\"count\":0},{\"timestamp\":1678406400000,\"count\":0},{\"timestamp\":1678838400000,\"count\":0},{\"timestamp\":1679011200000,\"count\":0},{\"timestamp\":1679097600000,\"count\":0},{\"timestamp\":1679184000000,\"count\":0},{\"timestamp\":1679616000000,\"count\":0},{\"timestamp\":1679824860000,\"count\":0},{\"timestamp\":1679959976000,\"count\":0},{\"timestamp\":1679969628000,\"count\":0},{\"timestamp\":1679989305000,\"count\":0},{\"timestamp\":1680141915000,\"count\":0},{\"timestamp\":1680314441000,\"count\":0},{\"timestamp\":1680764381000,\"count\":0},{\"timestamp\":1680868066000,\"count\":0},{\"timestamp\":1680895721000,\"count\":0},{\"timestamp\":1680960323000,\"count\":0},{\"timestamp\":1681214665000,\"count\":0},{\"timestamp\":1681284785000,\"count\":0},{\"timestamp\":1681444026000,\"count\":0},{\"timestamp\":1681774667000,\"count\":0},{\"timestamp\":1681783929000,\"count\":0},{\"timestamp\":1681832470000,\"count\":0},{\"timestamp\":1681934990000,\"count\":0}])\n",
      "999860\tList([{\"timestamp\":1588291200000,\"count\":682},{\"timestamp\":1590969600000,\"count\":209},{\"timestamp\":1593561600000,\"count\":159},{\"timestamp\":1596240000000,\"count\":166},{\"timestamp\":1598918400000,\"count\":110},{\"timestamp\":1601510400000,\"count\":195},{\"timestamp\":1604188800000,\"count\":57},{\"timestamp\":1606780800000,\"count\":45},{\"timestamp\":1609459200000,\"count\":36},{\"timestamp\":1612137600000,\"count\":43},{\"timestamp\":1614556800000,\"count\":54},{\"timestamp\":1617235200000,\"count\":28},{\"timestamp\":1619827200000,\"count\":25},{\"timestamp\":1622505600000,\"count\":23},{\"timestamp\":1625097600000,\"count\":16},{\"timestamp\":1627776000000,\"count\":20},{\"timestamp\":1630454400000,\"count\":12},{\"timestamp\":1633046400000,\"count\":20},{\"timestamp\":1635724800000,\"count\":23},{\"timestamp\":1638316800000,\"count\":18},{\"timestamp\":1640995200000,\"count\":17},{\"timestamp\":1643673600000,\"count\":22},{\"timestamp\":1646092800000,\"count\":15},{\"timestamp\":1648771200000,\"count\":9},{\"timestamp\":1651363200000,\"count\":9},{\"timestamp\":1654041600000,\"count\":7},{\"timestamp\":1656633600000,\"count\":9},{\"timestamp\":1659312000000,\"count\":9},{\"timestamp\":1661990400000,\"count\":7},{\"timestamp\":1664582400000,\"count\":6},{\"timestamp\":1667260800000,\"count\":5},{\"timestamp\":1669852800000,\"count\":5},{\"timestamp\":1672531200000,\"count\":4},{\"timestamp\":1674518400000,\"count\":0},{\"timestamp\":1674604800000,\"count\":0},{\"timestamp\":1674777600000,\"count\":0},{\"timestamp\":1674864000000,\"count\":0},{\"timestamp\":1674950400000,\"count\":4},{\"timestamp\":1675123200000,\"count\":0},{\"timestamp\":1675209600000,\"count\":0},{\"timestamp\":1675382400000,\"count\":0},{\"timestamp\":1675641600000,\"count\":0},{\"timestamp\":1675900800000,\"count\":0},{\"timestamp\":1676073600000,\"count\":7},{\"timestamp\":1676160000000,\"count\":0},{\"timestamp\":1676332800000,\"count\":0},{\"timestamp\":1676419200000,\"count\":0},{\"timestamp\":1676505600000,\"count\":0},{\"timestamp\":1676592000000,\"count\":0},{\"timestamp\":1676678400000,\"count\":0},{\"timestamp\":1676764800000,\"count\":0},{\"timestamp\":1676851200000,\"count\":2},{\"timestamp\":1676937600000,\"count\":0},{\"timestamp\":1677196800000,\"count\":0},{\"timestamp\":1677283200000,\"count\":0},{\"timestamp\":1677369600000,\"count\":0},{\"timestamp\":1677628800000,\"count\":0},{\"timestamp\":1677715200000,\"count\":0},{\"timestamp\":1677888000000,\"count\":0},{\"timestamp\":1678060800000,\"count\":0},{\"timestamp\":1678233600000,\"count\":0},{\"timestamp\":1678492800000,\"count\":0},{\"timestamp\":1678752000000,\"count\":0},{\"timestamp\":1678924800000,\"count\":0},{\"timestamp\":1679011200000,\"count\":0},{\"timestamp\":1679356800000,\"count\":0},{\"timestamp\":1679443200000,\"count\":0},{\"timestamp\":1679725919000,\"count\":0},{\"timestamp\":1679874204000,\"count\":0},{\"timestamp\":1679938637000,\"count\":0},{\"timestamp\":1680172702000,\"count\":0},{\"timestamp\":1680256106000,\"count\":0},{\"timestamp\":1680288083000,\"count\":0},{\"timestamp\":1680498646000,\"count\":0},{\"timestamp\":1680834337000,\"count\":0},{\"timestamp\":1680886943000,\"count\":0},{\"timestamp\":1680925743000,\"count\":0},{\"timestamp\":1681685262000,\"count\":0},{\"timestamp\":1681834038000,\"count\":1},{\"timestamp\":1681839882000,\"count\":0},{\"timestamp\":1681870478000,\"count\":0},{\"timestamp\":1681913081000,\"count\":0},{\"timestamp\":1681931799000,\"count\":0},{\"timestamp\":1681974310000,\"count\":0},{\"timestamp\":1682139457000,\"count\":0},{\"timestamp\":1682167586000,\"count\":0}])\n",
      "999880\tList([{\"timestamp\":1554076800000,\"count\":4},{\"timestamp\":1556668800000,\"count\":3},{\"timestamp\":1559347200000,\"count\":2},{\"timestamp\":1561939200000,\"count\":5},{\"timestamp\":1564617600000,\"count\":2},{\"timestamp\":1567296000000,\"count\":0},{\"timestamp\":1569888000000,\"count\":2},{\"timestamp\":1572566400000,\"count\":1},{\"timestamp\":1575158400000,\"count\":0},{\"timestamp\":1577836800000,\"count\":1},{\"timestamp\":1580515200000,\"count\":1},{\"timestamp\":1583020800000,\"count\":0},{\"timestamp\":1585699200000,\"count\":1},{\"timestamp\":1588291200000,\"count\":0},{\"timestamp\":1590969600000,\"count\":0},{\"timestamp\":1593561600000,\"count\":0},{\"timestamp\":1596240000000,\"count\":0},{\"timestamp\":1598918400000,\"count\":0},{\"timestamp\":1601510400000,\"count\":2},{\"timestamp\":1604188800000,\"count\":1},{\"timestamp\":1606780800000,\"count\":0},{\"timestamp\":1609459200000,\"count\":1},{\"timestamp\":1612137600000,\"count\":0},{\"timestamp\":1614556800000,\"count\":0},{\"timestamp\":1617235200000,\"count\":2},{\"timestamp\":1619827200000,\"count\":3},{\"timestamp\":1622505600000,\"count\":0},{\"timestamp\":1625097600000,\"count\":0},{\"timestamp\":1627776000000,\"count\":0},{\"timestamp\":1630454400000,\"count\":2},{\"timestamp\":1633046400000,\"count\":0},{\"timestamp\":1635724800000,\"count\":1},{\"timestamp\":1638316800000,\"count\":1},{\"timestamp\":1640995200000,\"count\":0},{\"timestamp\":1643673600000,\"count\":0},{\"timestamp\":1646092800000,\"count\":1},{\"timestamp\":1648771200000,\"count\":0},{\"timestamp\":1651363200000,\"count\":1},{\"timestamp\":1654041600000,\"count\":0},{\"timestamp\":1656633600000,\"count\":1},{\"timestamp\":1659312000000,\"count\":0},{\"timestamp\":1661990400000,\"count\":0},{\"timestamp\":1664582400000,\"count\":0},{\"timestamp\":1667260800000,\"count\":0},{\"timestamp\":1669852800000,\"count\":0},{\"timestamp\":1672531200000,\"count\":1},{\"timestamp\":1674518400000,\"count\":0},{\"timestamp\":1674777600000,\"count\":0},{\"timestamp\":1674950400000,\"count\":0},{\"timestamp\":1675123200000,\"count\":0},{\"timestamp\":1675209600000,\"count\":0},{\"timestamp\":1675296000000,\"count\":1},{\"timestamp\":1675382400000,\"count\":0},{\"timestamp\":1675468800000,\"count\":0},{\"timestamp\":1675555200000,\"count\":0},{\"timestamp\":1675728000000,\"count\":0},{\"timestamp\":1675900800000,\"count\":0},{\"timestamp\":1675987200000,\"count\":0},{\"timestamp\":1676073600000,\"count\":0},{\"timestamp\":1676160000000,\"count\":0},{\"timestamp\":1676332800000,\"count\":0},{\"timestamp\":1676419200000,\"count\":0},{\"timestamp\":1676592000000,\"count\":0},{\"timestamp\":1676678400000,\"count\":0},{\"timestamp\":1676851200000,\"count\":0},{\"timestamp\":1676937600000,\"count\":0},{\"timestamp\":1677024000000,\"count\":0},{\"timestamp\":1677110400000,\"count\":0},{\"timestamp\":1677196800000,\"count\":0},{\"timestamp\":1677283200000,\"count\":0},{\"timestamp\":1677369600000,\"count\":0},{\"timestamp\":1677456000000,\"count\":0},{\"timestamp\":1677628800000,\"count\":0},{\"timestamp\":1677801600000,\"count\":0},{\"timestamp\":1678147200000,\"count\":1},{\"timestamp\":1678233600000,\"count\":0},{\"timestamp\":1678320000000,\"count\":0},{\"timestamp\":1678406400000,\"count\":0},{\"timestamp\":1678579200000,\"count\":0},{\"timestamp\":1678752000000,\"count\":0},{\"timestamp\":1678838400000,\"count\":0},{\"timestamp\":1678924800000,\"count\":0},{\"timestamp\":1679097600000,\"count\":0},{\"timestamp\":1679184000000,\"count\":0},{\"timestamp\":1679270400000,\"count\":0},{\"timestamp\":1679356800000,\"count\":0},{\"timestamp\":1679443200000,\"count\":0},{\"timestamp\":1679763792000,\"count\":0},{\"timestamp\":1679818320000,\"count\":0},{\"timestamp\":1679946661000,\"count\":0},{\"timestamp\":1679959175000,\"count\":0},{\"timestamp\":1680150458000,\"count\":0},{\"timestamp\":1680172259000,\"count\":0},{\"timestamp\":1680215362000,\"count\":0},{\"timestamp\":1680407447000,\"count\":0},{\"timestamp\":1680513085000,\"count\":0},{\"timestamp\":1680724784000,\"count\":0},{\"timestamp\":1680880314000,\"count\":0},{\"timestamp\":1680969607000,\"count\":0},{\"timestamp\":1681236295000,\"count\":0},{\"timestamp\":1681364602000,\"count\":0},{\"timestamp\":1681500541000,\"count\":0},{\"timestamp\":1681720270000,\"count\":0},{\"timestamp\":1681737453000,\"count\":0},{\"timestamp\":1681794009000,\"count\":0},{\"timestamp\":1682232362000,\"count\":0}])\n",
      "999890\tList([{\"timestamp\":1554076800000,\"count\":0},{\"timestamp\":1556668800000,\"count\":1},{\"timestamp\":1559347200000,\"count\":0},{\"timestamp\":1561939200000,\"count\":0},{\"timestamp\":1564617600000,\"count\":0},{\"timestamp\":1567296000000,\"count\":0},{\"timestamp\":1569888000000,\"count\":0},{\"timestamp\":1572566400000,\"count\":0},{\"timestamp\":1575158400000,\"count\":0},{\"timestamp\":1577836800000,\"count\":0},{\"timestamp\":1580515200000,\"count\":0},{\"timestamp\":1583020800000,\"count\":1},{\"timestamp\":1585699200000,\"count\":0},{\"timestamp\":1588291200000,\"count\":0},{\"timestamp\":1590969600000,\"count\":0},{\"timestamp\":1593561600000,\"count\":0},{\"timestamp\":1596240000000,\"count\":0},{\"timestamp\":1598918400000,\"count\":0},{\"timestamp\":1601510400000,\"count\":0},{\"timestamp\":1604188800000,\"count\":0},{\"timestamp\":1606780800000,\"count\":0},{\"timestamp\":1609459200000,\"count\":0},{\"timestamp\":1612137600000,\"count\":0},{\"timestamp\":1614556800000,\"count\":0},{\"timestamp\":1617235200000,\"count\":0},{\"timestamp\":1619827200000,\"count\":0},{\"timestamp\":1622505600000,\"count\":0},{\"timestamp\":1625097600000,\"count\":0},{\"timestamp\":1627776000000,\"count\":0},{\"timestamp\":1630454400000,\"count\":0},{\"timestamp\":1633046400000,\"count\":0},{\"timestamp\":1635724800000,\"count\":0},{\"timestamp\":1638316800000,\"count\":0},{\"timestamp\":1640995200000,\"count\":0},{\"timestamp\":1643673600000,\"count\":0},{\"timestamp\":1646092800000,\"count\":0},{\"timestamp\":1648771200000,\"count\":0},{\"timestamp\":1651363200000,\"count\":0},{\"timestamp\":1654041600000,\"count\":0},{\"timestamp\":1656633600000,\"count\":0},{\"timestamp\":1659312000000,\"count\":0},{\"timestamp\":1661990400000,\"count\":0},{\"timestamp\":1664582400000,\"count\":0},{\"timestamp\":1667260800000,\"count\":0},{\"timestamp\":1669852800000,\"count\":0},{\"timestamp\":1672531200000,\"count\":0},{\"timestamp\":1674604800000,\"count\":0},{\"timestamp\":1674864000000,\"count\":0},{\"timestamp\":1674950400000,\"count\":0},{\"timestamp\":1675209600000,\"count\":0},{\"timestamp\":1675382400000,\"count\":0},{\"timestamp\":1675987200000,\"count\":0},{\"timestamp\":1676160000000,\"count\":0},{\"timestamp\":1676332800000,\"count\":0},{\"timestamp\":1676419200000,\"count\":0},{\"timestamp\":1676505600000,\"count\":0},{\"timestamp\":1676592000000,\"count\":0},{\"timestamp\":1676764800000,\"count\":0},{\"timestamp\":1676851200000,\"count\":0},{\"timestamp\":1676937600000,\"count\":0},{\"timestamp\":1677024000000,\"count\":0},{\"timestamp\":1677196800000,\"count\":0},{\"timestamp\":1677456000000,\"count\":0},{\"timestamp\":1677628800000,\"count\":0},{\"timestamp\":1677715200000,\"count\":0},{\"timestamp\":1677801600000,\"count\":0},{\"timestamp\":1677888000000,\"count\":0},{\"timestamp\":1677974400000,\"count\":0},{\"timestamp\":1678406400000,\"count\":0},{\"timestamp\":1678579200000,\"count\":0},{\"timestamp\":1678752000000,\"count\":0},{\"timestamp\":1678838400000,\"count\":0},{\"timestamp\":1678924800000,\"count\":0},{\"timestamp\":1679011200000,\"count\":0},{\"timestamp\":1679443200000,\"count\":0},{\"timestamp\":1679529600000,\"count\":0},{\"timestamp\":1679777238000,\"count\":0},{\"timestamp\":1679910711000,\"count\":0},{\"timestamp\":1679931523000,\"count\":0},{\"timestamp\":1680237735000,\"count\":0},{\"timestamp\":1680559535000,\"count\":0},{\"timestamp\":1680698475000,\"count\":0},{\"timestamp\":1681092648000,\"count\":0},{\"timestamp\":1681242351000,\"count\":0},{\"timestamp\":1681308293000,\"count\":0},{\"timestamp\":1681829013000,\"count\":0},{\"timestamp\":1681919846000,\"count\":0},{\"timestamp\":1681995016000,\"count\":0},{\"timestamp\":1682101514000,\"count\":0},{\"timestamp\":1682265231000,\"count\":0}])\n",
      "999900\tList([{\"timestamp\":1546300800000,\"count\":4},{\"timestamp\":1548979200000,\"count\":5},{\"timestamp\":1551398400000,\"count\":4},{\"timestamp\":1554076800000,\"count\":3},{\"timestamp\":1556668800000,\"count\":3},{\"timestamp\":1559347200000,\"count\":2},{\"timestamp\":1561939200000,\"count\":3},{\"timestamp\":1564617600000,\"count\":2},{\"timestamp\":1567296000000,\"count\":2},{\"timestamp\":1569888000000,\"count\":2},{\"timestamp\":1572566400000,\"count\":3},{\"timestamp\":1575158400000,\"count\":4},{\"timestamp\":1577836800000,\"count\":5},{\"timestamp\":1580515200000,\"count\":4},{\"timestamp\":1583020800000,\"count\":3},{\"timestamp\":1585699200000,\"count\":4},{\"timestamp\":1588291200000,\"count\":3},{\"timestamp\":1590969600000,\"count\":4},{\"timestamp\":1593561600000,\"count\":3},{\"timestamp\":1596240000000,\"count\":3},{\"timestamp\":1598918400000,\"count\":6},{\"timestamp\":1601510400000,\"count\":5},{\"timestamp\":1604188800000,\"count\":3},{\"timestamp\":1606780800000,\"count\":1},{\"timestamp\":1609459200000,\"count\":1},{\"timestamp\":1612137600000,\"count\":1},{\"timestamp\":1614556800000,\"count\":1},{\"timestamp\":1617235200000,\"count\":1},{\"timestamp\":1619827200000,\"count\":1},{\"timestamp\":1622505600000,\"count\":1},{\"timestamp\":1625097600000,\"count\":1},{\"timestamp\":1627776000000,\"count\":1},{\"timestamp\":1630454400000,\"count\":0},{\"timestamp\":1633046400000,\"count\":0},{\"timestamp\":1635724800000,\"count\":0},{\"timestamp\":1638316800000,\"count\":1},{\"timestamp\":1640995200000,\"count\":1},{\"timestamp\":1643673600000,\"count\":0},{\"timestamp\":1646092800000,\"count\":0},{\"timestamp\":1648771200000,\"count\":1},{\"timestamp\":1651363200000,\"count\":1},{\"timestamp\":1654041600000,\"count\":0},{\"timestamp\":1656633600000,\"count\":0},{\"timestamp\":1659312000000,\"count\":0},{\"timestamp\":1661990400000,\"count\":0},{\"timestamp\":1664582400000,\"count\":0},{\"timestamp\":1667260800000,\"count\":0},{\"timestamp\":1669852800000,\"count\":1},{\"timestamp\":1672531200000,\"count\":0},{\"timestamp\":1674518400000,\"count\":0},{\"timestamp\":1674691200000,\"count\":0},{\"timestamp\":1674777600000,\"count\":0},{\"timestamp\":1674864000000,\"count\":0},{\"timestamp\":1675036800000,\"count\":0},{\"timestamp\":1675123200000,\"count\":0},{\"timestamp\":1675209600000,\"count\":0},{\"timestamp\":1675382400000,\"count\":0},{\"timestamp\":1675468800000,\"count\":0},{\"timestamp\":1675555200000,\"count\":0},{\"timestamp\":1675641600000,\"count\":0},{\"timestamp\":1676246400000,\"count\":0},{\"timestamp\":1676419200000,\"count\":0},{\"timestamp\":1676592000000,\"count\":0},{\"timestamp\":1676678400000,\"count\":0},{\"timestamp\":1677456000000,\"count\":0},{\"timestamp\":1677628800000,\"count\":0},{\"timestamp\":1677715200000,\"count\":0},{\"timestamp\":1677888000000,\"count\":0},{\"timestamp\":1677974400000,\"count\":0},{\"timestamp\":1678060800000,\"count\":0},{\"timestamp\":1678147200000,\"count\":0},{\"timestamp\":1678406400000,\"count\":0},{\"timestamp\":1678492800000,\"count\":0},{\"timestamp\":1678665600000,\"count\":0},{\"timestamp\":1678838400000,\"count\":0},{\"timestamp\":1679184000000,\"count\":0},{\"timestamp\":1679270400000,\"count\":0},{\"timestamp\":1679443200000,\"count\":0},{\"timestamp\":1679616000000,\"count\":0},{\"timestamp\":1679693198000,\"count\":0},{\"timestamp\":1679733900000,\"count\":0},{\"timestamp\":1680187150000,\"count\":0},{\"timestamp\":1680414823000,\"count\":0},{\"timestamp\":1680687898000,\"count\":0},{\"timestamp\":1680694859000,\"count\":0},{\"timestamp\":1680750138000,\"count\":0},{\"timestamp\":1681129455000,\"count\":0},{\"timestamp\":1681307351000,\"count\":0},{\"timestamp\":1681700745000,\"count\":0},{\"timestamp\":1681799743000,\"count\":0},{\"timestamp\":1681805854000,\"count\":0},{\"timestamp\":1681932541000,\"count\":0},{\"timestamp\":1682123603000,\"count\":0},{\"timestamp\":1682152317000,\"count\":0},{\"timestamp\":1682277158000,\"count\":0}])\n",
      "999930\tList([{\"timestamp\":1546300800000,\"count\":1},{\"timestamp\":1548979200000,\"count\":0},{\"timestamp\":1551398400000,\"count\":0},{\"timestamp\":1554076800000,\"count\":1},{\"timestamp\":1556668800000,\"count\":0},{\"timestamp\":1559347200000,\"count\":1},{\"timestamp\":1561939200000,\"count\":0},{\"timestamp\":1564617600000,\"count\":0},{\"timestamp\":1567296000000,\"count\":0},{\"timestamp\":1569888000000,\"count\":0},{\"timestamp\":1572566400000,\"count\":0},{\"timestamp\":1575158400000,\"count\":0},{\"timestamp\":1577836800000,\"count\":0},{\"timestamp\":1580515200000,\"count\":0},{\"timestamp\":1583020800000,\"count\":0},{\"timestamp\":1585699200000,\"count\":0},{\"timestamp\":1588291200000,\"count\":0},{\"timestamp\":1590969600000,\"count\":0},{\"timestamp\":1593561600000,\"count\":0},{\"timestamp\":1596240000000,\"count\":0},{\"timestamp\":1598918400000,\"count\":0},{\"timestamp\":1601510400000,\"count\":0},{\"timestamp\":1604188800000,\"count\":0},{\"timestamp\":1606780800000,\"count\":0},{\"timestamp\":1609459200000,\"count\":0},{\"timestamp\":1612137600000,\"count\":0},{\"timestamp\":1614556800000,\"count\":0},{\"timestamp\":1617235200000,\"count\":0},{\"timestamp\":1619827200000,\"count\":0},{\"timestamp\":1622505600000,\"count\":0},{\"timestamp\":1625097600000,\"count\":0},{\"timestamp\":1627776000000,\"count\":0},{\"timestamp\":1630454400000,\"count\":0},{\"timestamp\":1633046400000,\"count\":0},{\"timestamp\":1635724800000,\"count\":0},{\"timestamp\":1638316800000,\"count\":0},{\"timestamp\":1640995200000,\"count\":0},{\"timestamp\":1643673600000,\"count\":0},{\"timestamp\":1646092800000,\"count\":0},{\"timestamp\":1648771200000,\"count\":0},{\"timestamp\":1651363200000,\"count\":0},{\"timestamp\":1654041600000,\"count\":0},{\"timestamp\":1656633600000,\"count\":0},{\"timestamp\":1659312000000,\"count\":0},{\"timestamp\":1661990400000,\"count\":0},{\"timestamp\":1664582400000,\"count\":0},{\"timestamp\":1667260800000,\"count\":0},{\"timestamp\":1669852800000,\"count\":0},{\"timestamp\":1672531200000,\"count\":0},{\"timestamp\":1674777600000,\"count\":0},{\"timestamp\":1675036800000,\"count\":0},{\"timestamp\":1675296000000,\"count\":0},{\"timestamp\":1675468800000,\"count\":0},{\"timestamp\":1675555200000,\"count\":0},{\"timestamp\":1675641600000,\"count\":0},{\"timestamp\":1675728000000,\"count\":0},{\"timestamp\":1675814400000,\"count\":0},{\"timestamp\":1675987200000,\"count\":0},{\"timestamp\":1676246400000,\"count\":0},{\"timestamp\":1676678400000,\"count\":0},{\"timestamp\":1676764800000,\"count\":0},{\"timestamp\":1677110400000,\"count\":0},{\"timestamp\":1677196800000,\"count\":0},{\"timestamp\":1677369600000,\"count\":0},{\"timestamp\":1677456000000,\"count\":0},{\"timestamp\":1677715200000,\"count\":0},{\"timestamp\":1677801600000,\"count\":0},{\"timestamp\":1677974400000,\"count\":0},{\"timestamp\":1678147200000,\"count\":0},{\"timestamp\":1678233600000,\"count\":0},{\"timestamp\":1678320000000,\"count\":0},{\"timestamp\":1678492800000,\"count\":0},{\"timestamp\":1678665600000,\"count\":0},{\"timestamp\":1678752000000,\"count\":0},{\"timestamp\":1678838400000,\"count\":0},{\"timestamp\":1679011200000,\"count\":0},{\"timestamp\":1679097600000,\"count\":0},{\"timestamp\":1679184000000,\"count\":0},{\"timestamp\":1679270400000,\"count\":0},{\"timestamp\":1679443200000,\"count\":0},{\"timestamp\":1679735429000,\"count\":0},{\"timestamp\":1679833929000,\"count\":0},{\"timestamp\":1679863498000,\"count\":0},{\"timestamp\":1679970900000,\"count\":0},{\"timestamp\":1679986347000,\"count\":0},{\"timestamp\":1680010787000,\"count\":0},{\"timestamp\":1680387151000,\"count\":0},{\"timestamp\":1680661034000,\"count\":0},{\"timestamp\":1680940924000,\"count\":0},{\"timestamp\":1681020564000,\"count\":0},{\"timestamp\":1681368964000,\"count\":0},{\"timestamp\":1681593507000,\"count\":0},{\"timestamp\":1681764425000,\"count\":0},{\"timestamp\":1681822579000,\"count\":0},{\"timestamp\":1681934562000,\"count\":0},{\"timestamp\":1681996196000,\"count\":0},{\"timestamp\":1682023022000,\"count\":0},{\"timestamp\":1682124915000,\"count\":0},{\"timestamp\":1682136032000,\"count\":0},{\"timestamp\":1682198260000,\"count\":0},{\"timestamp\":1682257679000,\"count\":0}])\n",
      "999990\tList([{\"timestamp\":1567296000000,\"count\":3},{\"timestamp\":1569888000000,\"count\":1},{\"timestamp\":1572566400000,\"count\":0},{\"timestamp\":1575158400000,\"count\":0},{\"timestamp\":1577836800000,\"count\":0},{\"timestamp\":1580515200000,\"count\":0},{\"timestamp\":1583020800000,\"count\":0},{\"timestamp\":1585699200000,\"count\":0},{\"timestamp\":1588291200000,\"count\":0},{\"timestamp\":1590969600000,\"count\":0},{\"timestamp\":1593561600000,\"count\":0},{\"timestamp\":1596240000000,\"count\":0},{\"timestamp\":1598918400000,\"count\":0},{\"timestamp\":1601510400000,\"count\":0},{\"timestamp\":1604188800000,\"count\":0},{\"timestamp\":1606780800000,\"count\":0},{\"timestamp\":1609459200000,\"count\":1},{\"timestamp\":1612137600000,\"count\":0},{\"timestamp\":1614556800000,\"count\":0},{\"timestamp\":1617235200000,\"count\":0},{\"timestamp\":1619827200000,\"count\":0},{\"timestamp\":1622505600000,\"count\":0},{\"timestamp\":1625097600000,\"count\":0},{\"timestamp\":1627776000000,\"count\":0},{\"timestamp\":1630454400000,\"count\":1},{\"timestamp\":1633046400000,\"count\":0},{\"timestamp\":1635724800000,\"count\":0},{\"timestamp\":1638316800000,\"count\":0},{\"timestamp\":1640995200000,\"count\":0},{\"timestamp\":1643673600000,\"count\":0},{\"timestamp\":1646092800000,\"count\":0},{\"timestamp\":1648771200000,\"count\":0},{\"timestamp\":1651363200000,\"count\":0},{\"timestamp\":1654041600000,\"count\":0},{\"timestamp\":1656633600000,\"count\":0},{\"timestamp\":1659312000000,\"count\":1},{\"timestamp\":1661990400000,\"count\":0},{\"timestamp\":1664582400000,\"count\":0},{\"timestamp\":1667260800000,\"count\":0},{\"timestamp\":1669852800000,\"count\":0},{\"timestamp\":1672531200000,\"count\":0},{\"timestamp\":1674777600000,\"count\":0},{\"timestamp\":1674864000000,\"count\":0},{\"timestamp\":1675036800000,\"count\":0},{\"timestamp\":1675382400000,\"count\":0},{\"timestamp\":1675468800000,\"count\":0},{\"timestamp\":1675555200000,\"count\":0},{\"timestamp\":1675641600000,\"count\":0},{\"timestamp\":1675814400000,\"count\":0},{\"timestamp\":1676160000000,\"count\":0},{\"timestamp\":1676332800000,\"count\":0},{\"timestamp\":1676764800000,\"count\":1},{\"timestamp\":1676937600000,\"count\":0},{\"timestamp\":1677110400000,\"count\":0},{\"timestamp\":1677196800000,\"count\":0},{\"timestamp\":1677283200000,\"count\":0},{\"timestamp\":1677456000000,\"count\":0},{\"timestamp\":1677628800000,\"count\":0},{\"timestamp\":1677801600000,\"count\":0},{\"timestamp\":1677974400000,\"count\":0},{\"timestamp\":1678147200000,\"count\":0},{\"timestamp\":1678233600000,\"count\":0},{\"timestamp\":1678406400000,\"count\":0},{\"timestamp\":1679011200000,\"count\":0},{\"timestamp\":1679097600000,\"count\":0},{\"timestamp\":1679270400000,\"count\":0},{\"timestamp\":1679356800000,\"count\":0},{\"timestamp\":1679529600000,\"count\":0},{\"timestamp\":1679616000000,\"count\":0},{\"timestamp\":1679700678000,\"count\":0},{\"timestamp\":1679757004000,\"count\":0},{\"timestamp\":1679916709000,\"count\":0},{\"timestamp\":1680084727000,\"count\":0},{\"timestamp\":1680115216000,\"count\":0},{\"timestamp\":1680230641000,\"count\":0},{\"timestamp\":1680871761000,\"count\":0},{\"timestamp\":1680954590000,\"count\":0},{\"timestamp\":1680978815000,\"count\":0},{\"timestamp\":1681091220000,\"count\":0},{\"timestamp\":1681186206000,\"count\":0},{\"timestamp\":1681208867000,\"count\":0},{\"timestamp\":1681302563000,\"count\":0},{\"timestamp\":1681439399000,\"count\":0},{\"timestamp\":1681747501000,\"count\":0},{\"timestamp\":1681907974000,\"count\":0},{\"timestamp\":1681909341000,\"count\":0}])\n",
      "\n"
     ]
    }
   ],
   "source": [
    "raw = container.exec_run(\"hdfs dfs -cat /out_steam_3/part-r-00000\").output.decode('utf-8')\n",
    "print(f\"{raw[0:1000000]}\")"
   ]
  },
  {
   "cell_type": "markdown",
   "metadata": {},
   "source": [
    "### Akwizycja danych"
   ]
  },
  {
   "cell_type": "code",
   "execution_count": null,
   "metadata": {},
   "outputs": [],
   "source": []
  },
  {
   "cell_type": "markdown",
   "metadata": {},
   "source": [
    "## Snippety kodu map-reduce\n",
    "\n",
    "Jak zapewne łatwo zauważyć, poniższy kod napisany jest w języku scala. Największą rzeczą jaką trzeba było zrobić, aby dostosować map-reduce do scali było napisanie funkcji konwertującej iterator w reduce. Iterator ten nie jest zgodny z API, co powodowało konieczność wcześniejszej konwersji jego ArrayList.\n",
    "\n",
    "```scala\n",
    "  class MyMapper extends HadoopJob.HadoopMapper[AnyRef, Text, Text, Text] {\n",
    "    override def myMap(key: AnyRef, value: Text, emit: (Text, Text) => Unit): Unit = {\n",
    "      val jsons  = value.toString.split(\"\\n\").map(x => x.dropWhile(!_.isWhitespace)).map(_.trim).toList\n",
    "      val mapped = jsons.flatMap(x => Input.decoder.decodeJson(x).toOption)\n",
    "\n",
    "      def downloadTimestamps(id: Int) = for {\n",
    "        res  <- zio.http.Client.request(f\"\"\"https://steamcharts.com/app/$id/chart-data.json\"\"\")\n",
    "        data <- res.body.asString\n",
    "        json  = data.fromJson[ApiResult].getOrElse(List.empty)\n",
    "      } yield json\n",
    "\n",
    "      val workflow = ZIO.foreach(mapped)(x => downloadTimestamps(x.game_id).map(res => (x, res)))\n",
    "\n",
    "      val result = runZIO(\n",
    "        workflow\n",
    "          .tapError(err => { ZIO.succeed(emit(Text(\"error!\"), Text(err.getMessage))) })\n",
    "          .orElse(ZIO.succeed(List.empty))\n",
    "          .provide(zio.http.Client.default)\n",
    "      ).map(x => Result(x._1.game_id, x._2.map(y => PlayCount(y.head, y.last))))\n",
    "\n",
    "      result.foreach { x =>\n",
    "        emit(new Text(x.game_id.toString), Text(x.playcounts.toJson))\n",
    "      }\n",
    "    }\n",
    "  }\n",
    "\n",
    "  class MyReducer extends HadoopJob.HadoopReducer[Text, Text, Text] {\n",
    "    override def myReduce(key: Text, values: List[String], emit: (Text, Text) => Unit): Unit = {\n",
    "      emit(key, Text(values.toString()))\n",
    "    }\n",
    "  }\n",
    "\n",
    "  def main(args: Array[String]) = {\n",
    "\n",
    "    java.lang.System.setProperty(\"java.net.preferIPv4Stack\", \"true\")\n",
    "\n",
    "    val conf = new Configuration\n",
    "    val job  = Job.getInstance(conf, \"word count\")\n",
    "\n",
    "    job.setJarByClass(classOf[Main.type])\n",
    "    job.setMapperClass(classOf[MyMapper])\n",
    "    job.setReducerClass(classOf[MyReducer])\n",
    "    job.setOutputKeyClass(classOf[Text])\n",
    "    job.setOutputValueClass(classOf[Text])\n",
    "\n",
    "    FileInputFormat.addInputPath(job, new Path(args(0)))\n",
    "    FileOutputFormat.setOutputPath(job, new Path(args(1)))\n",
    "\n",
    "    java.lang.System.exit(\n",
    "      if (job.waitForCompletion(true)) 0\n",
    "      else 1\n",
    "    )\n",
    "  }\n",
    "```"
   ]
  }
 ],
 "metadata": {
  "kernelspec": {
   "display_name": "Python 3 (ipykernel)",
   "language": "python",
   "name": "python3"
  },
  "language_info": {
   "codemirror_mode": {
    "name": "ipython",
    "version": 3
   },
   "file_extension": ".py",
   "mimetype": "text/x-python",
   "name": "python",
   "nbconvert_exporter": "python",
   "pygments_lexer": "ipython3",
   "version": "3.10.11"
  }
 },
 "nbformat": 4,
 "nbformat_minor": 1
}
