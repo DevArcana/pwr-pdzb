{
 "cells": [
  {
   "cell_type": "code",
   "execution_count": 1,
   "id": "d616878c",
   "metadata": {},
   "outputs": [],
   "source": [
    "import docker\n",
    "import uuid\n",
    "import paramiko\n",
    "import os\n",
    "from timeit import default_timer as timer\n",
    "from dataclasses import dataclass\n",
    "import re\n",
    "import requests\n",
    "import statistics\n",
    "import pandas as pd\n",
    "import numpy as np"
   ]
  },
  {
   "cell_type": "code",
   "execution_count": 2,
   "id": "40c2f44b",
   "metadata": {},
   "outputs": [],
   "source": [
    "def run_in_master(command):\n",
    "    ssh = paramiko.SSHClient()\n",
    "    ssh.set_missing_host_key_policy(paramiko.AutoAddPolicy())\n",
    "    ssh.connect(\"namenode\", username=\"root\", password=\"pass\")\n",
    "    ssh_stdin, ssh_stdout, ssh_stderr = ssh.exec_command(f\"cd /app/ && . /env_var_path.sh && {command}\")\n",
    "    return (ssh_stdout.readlines(), ssh_stderr.readlines())\n",
    "\n",
    "def run_in_hive(command):\n",
    "    ssh = paramiko.SSHClient()\n",
    "    ssh.set_missing_host_key_policy(paramiko.AutoAddPolicy())\n",
    "    ssh.connect(\"hive-server\", username=\"root\", password=\"pass\")\n",
    "    ssh_stdin, ssh_stdout, ssh_stderr = ssh.exec_command(f\"bash -c '. /env_var_path.sh && {command}'\")\n",
    "    return (ssh_stdout.readlines(), ssh_stderr.readlines())"
   ]
  },
  {
   "cell_type": "code",
   "execution_count": 3,
   "id": "e1423206",
   "metadata": {},
   "outputs": [],
   "source": [
    "def setup_test_table():\n",
    "    return run_in_hive(\"hive -f /data/master_volume/hive_scripts/employee_table.hql\")\n",
    "    \n",
    "def copy_test_file():\n",
    "    path = \"/data/master_volume/hive_scripts/employee.csv\"\n",
    "    dest = \"/user/hive/warehouse/testdb.db/employee\"\n",
    "    run_in_master(f\"hdfs dfs -mkdir -p {dest}\")\n",
    "    return run_in_master(f\"hdfs dfs -put {path} {dest}\")"
   ]
  },
  {
   "cell_type": "code",
   "execution_count": 4,
   "id": "c7115061",
   "metadata": {},
   "outputs": [
    {
     "data": {
      "text/plain": [
       "([], [])"
      ]
     },
     "execution_count": 4,
     "metadata": {},
     "output_type": "execute_result"
    }
   ],
   "source": [
    "setup_test_table()\n",
    "copy_test_file()"
   ]
  },
  {
   "cell_type": "code",
   "execution_count": 5,
   "id": "7bdf5d9c",
   "metadata": {},
   "outputs": [
    {
     "data": {
      "text/plain": [
       "([],\n",
       " ['SLF4J: Class path contains multiple SLF4J bindings.\\n',\n",
       "  'SLF4J: Found binding in [jar:file:/opt/hive/lib/log4j-slf4j-impl-2.10.0.jar!/org/slf4j/impl/StaticLoggerBinder.class]\\n',\n",
       "  'SLF4J: Found binding in [jar:file:/opt/hadoop-3.3.1/share/hadoop/common/lib/slf4j-log4j12-1.7.30.jar!/org/slf4j/impl/StaticLoggerBinder.class]\\n',\n",
       "  'SLF4J: See http://www.slf4j.org/codes.html#multiple_bindings for an explanation.\\n',\n",
       "  'SLF4J: Actual binding is of type [org.apache.logging.slf4j.Log4jLoggerFactory]\\n',\n",
       "  'Hive Session ID = b27f80a3-9b51-4c51-a01e-22347f36cc34\\n',\n",
       "  '\\n',\n",
       "  'Logging initialized using configuration in file:/opt/hive/conf/hive-log4j2.properties Async: true\\n',\n",
       "  'Hive Session ID = 72914f09-6a13-4243-8adc-a3fef52caa63\\n',\n",
       "  'OK\\n',\n",
       "  'Time taken: 0.429 seconds\\n',\n",
       "  'Query ID = root_20230526162420_93f2b8a0-e555-41b8-b81a-364bd085b3d8\\n',\n",
       "  'Total jobs = 1\\n',\n",
       "  'Launching Job 1 out of 1\\n',\n",
       "  'Number of reduce tasks not specified. Estimated from input data size: 1\\n',\n",
       "  'In order to change the average load for a reducer (in bytes):\\n',\n",
       "  '  set hive.exec.reducers.bytes.per.reducer=<number>\\n',\n",
       "  'In order to limit the maximum number of reducers:\\n',\n",
       "  '  set hive.exec.reducers.max=<number>\\n',\n",
       "  'In order to set a constant number of reducers:\\n',\n",
       "  '  set mapreduce.job.reduces=<number>\\n',\n",
       "  'Starting Job = job_1685117801843_0001, Tracking URL = http://resourcemanager:8088/proxy/application_1685117801843_0001/\\n',\n",
       "  'Kill Command = /opt/hadoop-3.3.1/bin/mapred job  -kill job_1685117801843_0001\\n',\n",
       "  'Hadoop job information for Stage-1: number of mappers: 1; number of reducers: 1\\n',\n",
       "  '2023-05-26 16:24:27,518 Stage-1 map = 0%,  reduce = 0%\\n',\n",
       "  '2023-05-26 16:24:32,663 Stage-1 map = 100%,  reduce = 0%, Cumulative CPU 1.52 sec\\n',\n",
       "  '2023-05-26 16:24:38,867 Stage-1 map = 100%,  reduce = 100%, Cumulative CPU 2.63 sec\\n',\n",
       "  'MapReduce Total cumulative CPU time: 2 seconds 630 msec\\n',\n",
       "  'Ended Job = job_1685117801843_0001\\n',\n",
       "  'Moving data to directory hdfs://namenode:9000/user/hive/warehouse/results\\n',\n",
       "  'MapReduce Jobs Launched: \\n',\n",
       "  'Stage-Stage-1: Map: 1  Reduce: 1   Cumulative CPU: 2.63 sec   HDFS Read: 66867 HDFS Write: 11665 SUCCESS\\n',\n",
       "  'Total MapReduce CPU Time Spent: 2 seconds 630 msec\\n',\n",
       "  'OK\\n',\n",
       "  'Time taken: 19.687 seconds\\n'])"
      ]
     },
     "execution_count": 5,
     "metadata": {},
     "output_type": "execute_result"
    }
   ],
   "source": [
    "run_in_hive(\"hive -f /data/master_volume/hive_scripts/test_group.hql\")"
   ]
  },
  {
   "cell_type": "code",
   "execution_count": 19,
   "id": "b2b08299",
   "metadata": {},
   "outputs": [
    {
     "data": {
      "text/plain": [
       "([],\n",
       " ['SLF4J: Class path contains multiple SLF4J bindings.\\n',\n",
       "  'SLF4J: Found binding in [jar:file:/opt/hive/lib/log4j-slf4j-impl-2.10.0.jar!/org/slf4j/impl/StaticLoggerBinder.class]\\n',\n",
       "  'SLF4J: Found binding in [jar:file:/opt/hadoop-3.3.1/share/hadoop/common/lib/slf4j-log4j12-1.7.30.jar!/org/slf4j/impl/StaticLoggerBinder.class]\\n',\n",
       "  'SLF4J: See http://www.slf4j.org/codes.html#multiple_bindings for an explanation.\\n',\n",
       "  'SLF4J: Actual binding is of type [org.apache.logging.slf4j.Log4jLoggerFactory]\\n',\n",
       "  'Hive Session ID = 5f29bc9f-db5f-4ace-b4bb-b548ef97912a\\n',\n",
       "  '\\n',\n",
       "  'Logging initialized using configuration in file:/opt/hive/conf/hive-log4j2.properties Async: true\\n',\n",
       "  'Hive Session ID = fef67d91-ca49-4f6e-9367-907d00fc8e28\\n',\n",
       "  'OK\\n',\n",
       "  'Time taken: 0.449 seconds\\n',\n",
       "  'OK\\n',\n",
       "  'Time taken: 0.015 seconds\\n',\n",
       "  'OK\\n',\n",
       "  'Time taken: 0.031 seconds\\n',\n",
       "  'OK\\n',\n",
       "  'Time taken: 0.099 seconds\\n'])"
      ]
     },
     "execution_count": 19,
     "metadata": {},
     "output_type": "execute_result"
    }
   ],
   "source": [
    "run_in_hive(\"hive -f /data/master_volume/hive_scripts/covid_table.hql\")"
   ]
  },
  {
   "cell_type": "code",
   "execution_count": 22,
   "id": "5c16284c",
   "metadata": {},
   "outputs": [
    {
     "data": {
      "text/plain": [
       "([], [])"
      ]
     },
     "execution_count": 22,
     "metadata": {},
     "output_type": "execute_result"
    }
   ],
   "source": [
    "run_in_master(f\"hdfs dfs -rm /user/hive/warehouse/testdb.db/covid/covid-dataset.csv\")\n",
    "run_in_master(f\"hdfs dfs -cp /datasets/covid-dataset.csv /user/hive/warehouse/testdb.db/covid/covid-dataset.csv\")"
   ]
  },
  {
   "cell_type": "code",
   "execution_count": 24,
   "id": "aa578485",
   "metadata": {},
   "outputs": [
    {
     "data": {
      "text/plain": [
       "([],\n",
       " ['SLF4J: Class path contains multiple SLF4J bindings.\\n',\n",
       "  'SLF4J: Found binding in [jar:file:/opt/hive/lib/log4j-slf4j-impl-2.10.0.jar!/org/slf4j/impl/StaticLoggerBinder.class]\\n',\n",
       "  'SLF4J: Found binding in [jar:file:/opt/hadoop-3.3.1/share/hadoop/common/lib/slf4j-log4j12-1.7.30.jar!/org/slf4j/impl/StaticLoggerBinder.class]\\n',\n",
       "  'SLF4J: See http://www.slf4j.org/codes.html#multiple_bindings for an explanation.\\n',\n",
       "  'SLF4J: Actual binding is of type [org.apache.logging.slf4j.Log4jLoggerFactory]\\n',\n",
       "  'Hive Session ID = db6b5149-055d-46a7-9d8f-80e6d009fc75\\n',\n",
       "  '\\n',\n",
       "  'Logging initialized using configuration in file:/opt/hive/conf/hive-log4j2.properties Async: true\\n',\n",
       "  'Hive Session ID = 495f0c47-b20b-418a-b44a-0e5f83846f8b\\n',\n",
       "  'OK\\n',\n",
       "  'Time taken: 0.421 seconds\\n',\n",
       "  'Query ID = root_20230526171225_ad090ca2-6f31-4b40-8c49-f301dc979dc4\\n',\n",
       "  'Total jobs = 3\\n',\n",
       "  'Launching Job 1 out of 3\\n',\n",
       "  \"Number of reduce tasks is set to 0 since there's no reduce operator\\n\",\n",
       "  'Starting Job = job_1685117801843_0005, Tracking URL = http://resourcemanager:8088/proxy/application_1685117801843_0005/\\n',\n",
       "  'Kill Command = /opt/hadoop-3.3.1/bin/mapred job  -kill job_1685117801843_0005\\n',\n",
       "  'Hadoop job information for Stage-1: number of mappers: 1; number of reducers: 0\\n',\n",
       "  '2023-05-26 17:12:30,774 Stage-1 map = 0%,  reduce = 0%\\n',\n",
       "  '2023-05-26 17:12:35,929 Stage-1 map = 100%,  reduce = 0%, Cumulative CPU 2.23 sec\\n',\n",
       "  'MapReduce Total cumulative CPU time: 2 seconds 230 msec\\n',\n",
       "  'Ended Job = job_1685117801843_0005\\n',\n",
       "  'Stage-3 is selected by condition resolver.\\n',\n",
       "  'Stage-2 is filtered out by condition resolver.\\n',\n",
       "  'Stage-4 is filtered out by condition resolver.\\n',\n",
       "  'Moving data to directory hdfs://namenode:9000/user/hive/warehouse/results/.hive-staging_hive_2023-05-26_17-12-25_491_4651834070591635233-1/-ext-10000\\n',\n",
       "  'Moving data to directory hdfs://namenode:9000/user/hive/warehouse/results\\n',\n",
       "  'MapReduce Jobs Launched: \\n',\n",
       "  'Stage-Stage-1: Map: 1   Cumulative CPU: 2.23 sec   HDFS Read: 81541464 HDFS Write: 8917525 SUCCESS\\n',\n",
       "  'Total MapReduce CPU Time Spent: 2 seconds 230 msec\\n',\n",
       "  'OK\\n',\n",
       "  'Time taken: 11.584 seconds\\n'])"
      ]
     },
     "execution_count": 24,
     "metadata": {},
     "output_type": "execute_result"
    }
   ],
   "source": [
    "run_in_hive(\"hive -f /data/master_volume/hive_scripts/covid_data.hql\")"
   ]
  },
  {
   "cell_type": "code",
   "execution_count": null,
   "id": "668918c6",
   "metadata": {},
   "outputs": [],
   "source": []
  }
 ],
 "metadata": {
  "kernelspec": {
   "display_name": "Python 3 (ipykernel)",
   "language": "python",
   "name": "python3"
  },
  "language_info": {
   "codemirror_mode": {
    "name": "ipython",
    "version": 3
   },
   "file_extension": ".py",
   "mimetype": "text/x-python",
   "name": "python",
   "nbconvert_exporter": "python",
   "pygments_lexer": "ipython3",
   "version": "3.10.11"
  }
 },
 "nbformat": 4,
 "nbformat_minor": 5
}
