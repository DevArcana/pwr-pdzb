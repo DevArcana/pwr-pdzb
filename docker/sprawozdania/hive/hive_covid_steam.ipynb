{
 "cells": [
  {
   "cell_type": "code",
   "execution_count": 1,
   "id": "b9a5e1e2-f240-46be-8ed3-d04d916f6a93",
   "metadata": {},
   "outputs": [],
   "source": [
    "import docker\n",
    "import uuid\n",
    "import paramiko\n",
    "import os\n",
    "from timeit import default_timer as timer\n",
    "from dataclasses import dataclass\n",
    "import re\n",
    "import requests\n",
    "import statistics\n",
    "import pandas as pd\n",
    "import numpy as np"
   ]
  },
  {
   "cell_type": "code",
   "execution_count": 5,
   "id": "48d32b21-65bb-40c2-a03a-eea6528d0ebf",
   "metadata": {},
   "outputs": [],
   "source": [
    "def run_in_master(command):\n",
    "    ssh = paramiko.SSHClient()\n",
    "    ssh.set_missing_host_key_policy(paramiko.AutoAddPolicy())\n",
    "    ssh.connect(\"namenode\", username=\"root\", password=\"pass\")\n",
    "    ssh_stdin, ssh_stdout, ssh_stderr = ssh.exec_command(f\"cd /app/ && . /env_var_path.sh && {command}\")\n",
    "    return (ssh_stdout.readlines(), ssh_stderr.readlines())\n",
    "\n",
    "def run_in_hive(command):\n",
    "    ssh = paramiko.SSHClient()\n",
    "    ssh.set_missing_host_key_policy(paramiko.AutoAddPolicy())\n",
    "    ssh.connect(\"hive-server\", username=\"root\", password=\"pass\")\n",
    "    ssh_stdin, ssh_stdout, ssh_stderr = ssh.exec_command(f\"bash -c '. /env_var_path.sh && {command}'\")\n",
    "    return (ssh_stdout.readlines(), ssh_stderr.readlines())\n",
    "\n",
    "def get_hive_time_from_results(res):\n",
    "    all = []\n",
    "    for line in res[1]:\n",
    "        m = re.search('Time taken: (.*) \\w+', line)\n",
    "        if m != None and m.group(1) != '':\n",
    "            all.append(float(m.group(1)))\n",
    "    return sum(all)"
   ]
  },
  {
   "cell_type": "code",
   "execution_count": 8,
   "id": "5f14c304-7fec-476e-9833-6f68ce53b8a6",
   "metadata": {},
   "outputs": [],
   "source": [
    "run_in_hive(\"hive -f /data/master_volume/hive_scripts/covid_table.hql\")\n",
    "covid_load_res = run_in_hive(\"hive -f /data/master_volume/hive_scripts/covid_load_to_hive.hql\")\n",
    "covid_res = run_in_hive(\"hive -f /data/master_volume/hive_scripts/covid_data.hql\")\n",
    "\n",
    "covid_load_time = get_hive_time_from_results(covid_load_res)\n",
    "covid_time = get_hive_time_from_results(covid_res)"
   ]
  },
  {
   "cell_type": "code",
   "execution_count": 9,
   "id": "072267f0-f1fa-45d0-a9be-2c72f4178157",
   "metadata": {},
   "outputs": [
    {
     "data": {
      "text/plain": [
       "50.10600000000001"
      ]
     },
     "execution_count": 9,
     "metadata": {},
     "output_type": "execute_result"
    }
   ],
   "source": [
    "covid_load_time + covid_time"
   ]
  },
  {
   "cell_type": "code",
   "execution_count": null,
   "id": "84032d02-2b5a-438e-a506-b0f7c7ec5ed2",
   "metadata": {},
   "outputs": [],
   "source": [
    "run_in_master(f\"hdfs dfs -cat /user/hive/warehouse/coviddb.db/calculated/000000_0\")"
   ]
  },
  {
   "cell_type": "code",
   "execution_count": 13,
   "id": "c569e696-9254-42f8-83d4-04da1f4b58ae",
   "metadata": {
    "editable": true,
    "scrolled": true,
    "slideshow": {
     "slide_type": ""
    },
    "tags": []
   },
   "outputs": [],
   "source": [
    "steam_res = run_in_hive(\"hive -f /data/master_volume/hive_scripts/steam_01_combine.hql\")\n",
    "steam_time = get_hive_time_from_results(steam_res)"
   ]
  },
  {
   "cell_type": "code",
   "execution_count": 14,
   "id": "71074a8f-ef6b-4b94-a533-43226d8ea92d",
   "metadata": {},
   "outputs": [
    {
     "data": {
      "text/plain": [
       "85.789"
      ]
     },
     "execution_count": 14,
     "metadata": {},
     "output_type": "execute_result"
    }
   ],
   "source": [
    "steam_time"
   ]
  },
  {
   "cell_type": "code",
   "execution_count": 15,
   "id": "6a7a0d1c-7758-43a4-887d-30480078d40e",
   "metadata": {},
   "outputs": [
    {
     "data": {
      "text/plain": [
       "(['570\\tDota 2\\t1456697\\t291673\\t100,000,000 .. 200,000,000\\t612293\\tJul 9, 2013\\n',\n",
       "  '730\\tCounter-Strike: Global Offensive\\t5680980\\t756795\\t50,000,000 .. 100,000,000\\t679488\\tAug 21, 2012\\n',\n",
       "  '578080\\tPUBG: BATTLEGROUNDS\\t1139437\\t888720\\t50,000,000 .. 100,000,000\\t279181\\tDec 21, 2017\\n',\n",
       "  '1063730\\tNew World\\t153807\\t73148\\t50,000,000 .. 100,000,000\\t20403\\tSep 28, 2021\\n',\n",
       "  '440\\tTeam Fortress 2\\t813122\\t56073\\t50,000,000 .. 100,000,000\\t82571\\tOct 10, 2007\\n',\n",
       "  '304930\\tUnturned\\t438411\\t40925\\t20,000,000 .. 50,000,000\\t50423\\tJul 7, 2017\\n',\n",
       "  '271590\\tGrand Theft Auto V\\t1144201\\t208030\\t20,000,000 .. 50,000,000\\t109264\\tApr 13, 2015\\n',\n",
       "  '550\\tLeft 4 Dead 2\\t600580\\t15752\\t20,000,000 .. 50,000,000\\t20819\\tNov 16, 2009\\n',\n",
       "  '230410\\tWarframe\\t437656\\t47546\\t20,000,000 .. 50,000,000\\t50453\\tMar 25, 2013\\n',\n",
       "  '105600\\tTerraria\\t941388\\t20346\\t20,000,000 .. 50,000,000\\t39371\\tMay 16, 2011\\n'],\n",
       " ['SLF4J: Class path contains multiple SLF4J bindings.\\n',\n",
       "  'SLF4J: Found binding in [jar:file:/opt/hive/lib/log4j-slf4j-impl-2.10.0.jar!/org/slf4j/impl/StaticLoggerBinder.class]\\n',\n",
       "  'SLF4J: Found binding in [jar:file:/opt/hadoop-3.3.1/share/hadoop/common/lib/slf4j-log4j12-1.7.30.jar!/org/slf4j/impl/StaticLoggerBinder.class]\\n',\n",
       "  'SLF4J: See http://www.slf4j.org/codes.html#multiple_bindings for an explanation.\\n',\n",
       "  'SLF4J: Actual binding is of type [org.apache.logging.slf4j.Log4jLoggerFactory]\\n',\n",
       "  'Hive Session ID = 260bb526-6498-4d26-afee-00a172799116\\n',\n",
       "  '\\n',\n",
       "  'Logging initialized using configuration in file:/opt/hive/conf/hive-log4j2.properties Async: true\\n',\n",
       "  'Hive Session ID = 9a2b6dbb-c9e9-4bb6-9df6-2501065b4bb6\\n',\n",
       "  'OK\\n',\n",
       "  'Time taken: 0.402 seconds\\n',\n",
       "  'OK\\n',\n",
       "  'Time taken: 0.016 seconds\\n',\n",
       "  'OK\\n',\n",
       "  'Time taken: 0.924 seconds, Fetched: 10 row(s)\\n'])"
      ]
     },
     "execution_count": 15,
     "metadata": {},
     "output_type": "execute_result"
    }
   ],
   "source": [
    "run_in_hive(\"hive -f /data/master_volume/hive_scripts/steam_01_combine_show.hql\")"
   ]
  },
  {
   "cell_type": "code",
   "execution_count": null,
   "id": "16fee517-7cdb-4bf1-be68-e24721bb4394",
   "metadata": {},
   "outputs": [],
   "source": []
  }
 ],
 "metadata": {
  "kernelspec": {
   "display_name": "Python 3 (ipykernel)",
   "language": "python",
   "name": "python3"
  },
  "language_info": {
   "codemirror_mode": {
    "name": "ipython",
    "version": 3
   },
   "file_extension": ".py",
   "mimetype": "text/x-python",
   "name": "python",
   "nbconvert_exporter": "python",
   "pygments_lexer": "ipython3",
   "version": "3.10.11"
  }
 },
 "nbformat": 4,
 "nbformat_minor": 5
}
