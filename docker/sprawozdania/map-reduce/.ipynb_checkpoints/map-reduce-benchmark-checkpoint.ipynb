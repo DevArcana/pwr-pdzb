{
 "cells": [
  {
   "cell_type": "code",
   "execution_count": 3,
   "id": "83fb36f0",
   "metadata": {},
   "outputs": [],
   "source": [
    "import docker\n",
    "import uuid\n",
    "import paramiko\n",
    "import os\n",
    "from timeit import default_timer as timer\n",
    "\n",
    "def run_in_master(command):\n",
    "    ssh = paramiko.SSHClient()\n",
    "    ssh.set_missing_host_key_policy(paramiko.AutoAddPolicy())\n",
    "    ssh.connect(\"namenode\", username=\"root\", password=\"pass\")\n",
    "    ssh_stdin, ssh_stdout, ssh_stderr = ssh.exec_command(f\"cd /app/ && . env_var.sh && {command}\")\n",
    "    return (ssh_stdout.readlines(), ssh_stderr.readlines())\n",
    "\n",
    "def get_data_from_output_path(path):\n",
    "    return f\"{path}/merged.txt\"\n",
    "\n",
    "def print_hdfs_output(path):\n",
    "    raw = run_in_master(f\"hdfs dfs -cat {get_data_from_output_path(path)}\")[0]\n",
    "    print(\"\\n\".join(raw[0:1000]))\n",
    "\n",
    "def merge_results(path):\n",
    "    run_in_master(f\"hdfs dfs -cat {path}/part-r-* | hdfs dfs -put - {path}/merged.txt\")"
   ]
  },
  {
   "cell_type": "markdown",
   "id": "2128bf49",
   "metadata": {},
   "source": [
    "# Wpływ replikacji danych"
   ]
  },
  {
   "cell_type": "markdown",
   "id": "9182c214",
   "metadata": {},
   "source": [
    "## 1 replika"
   ]
  },
  {
   "cell_type": "code",
   "execution_count": 6,
   "id": "fc388b9b",
   "metadata": {},
   "outputs": [],
   "source": [
    "_ = run_in_master(\"hdfs dfs -setrep -R 1 /\")"
   ]
  },
  {
   "cell_type": "code",
   "execution_count": null,
   "id": "0720a507",
   "metadata": {},
   "outputs": [],
   "source": [
    "def run_covid_01():\n",
    "    covid_01_jar_path = \"/data/master_volume/map_reduce_jars/covid_01.jar\"\n",
    "    covid_01_input_path = \"/datasets/covid-dataset.jsonl\"\n",
    "    covid_01_output_path = \"/out_covid_1\" + str(uuid.uuid4())\n",
    "    res = run_in_master(f\"yarn jar {covid_01_jar_path} {covid_01_input_path} {covid_01_output_path\n",
    "    return res[0]"
   ]
  },
  {
   "cell_type": "code",
   "execution_count": null,
   "id": "2a2a417c",
   "metadata": {},
   "outputs": [],
   "source": [
    "## Czas"
   ]
  },
  {
   "cell_type": "markdown",
   "id": "e992f550",
   "metadata": {},
   "source": [
    "## 3 repliki"
   ]
  },
  {
   "cell_type": "code",
   "execution_count": 1,
   "id": "3d5940da",
   "metadata": {},
   "outputs": [
    {
     "ename": "NameError",
     "evalue": "name 'run_in_master' is not defined",
     "output_type": "error",
     "traceback": [
      "\u001b[0;31m---------------------------------------------------------------------------\u001b[0m",
      "\u001b[0;31mNameError\u001b[0m                                 Traceback (most recent call last)",
      "Cell \u001b[0;32mIn[1], line 1\u001b[0m\n\u001b[0;32m----> 1\u001b[0m \u001b[43mrun_in_master\u001b[49m(\u001b[38;5;124m\"\u001b[39m\u001b[38;5;124mhdfs dfs -setrep -R 1 /\u001b[39m\u001b[38;5;124m\"\u001b[39m)\n",
      "\u001b[0;31mNameError\u001b[0m: name 'run_in_master' is not defined"
     ]
    }
   ],
   "source": [
    "_ = run_in_master(\"hdfs dfs -setrep -R 3 /\")"
   ]
  },
  {
   "cell_type": "code",
   "execution_count": null,
   "id": "ffc189cb",
   "metadata": {},
   "outputs": [],
   "source": [
    "covid_01_jar_path = \"/data/master_volume/map_reduce_jars/covid_01.jar\"\n",
    "covid_01_input_path = \"/datasets/covid-dataset.jsonl\"\n",
    "covid_01_output_path = \"/out_covid_1\" + str(uuid.uuid4())\n",
    "\n",
    "res = run_in_master(f\"yarn jar {covid_01_jar_path} {covid_01_input_path} {covid_01_output_path}\")\n",
    "merge_results(covid_01_output_path)"
   ]
  },
  {
   "cell_type": "code",
   "execution_count": null,
   "id": "66db8fdb",
   "metadata": {},
   "outputs": [],
   "source": [
    "## Czas"
   ]
  }
 ],
 "metadata": {
  "kernelspec": {
   "display_name": "Python 3 (ipykernel)",
   "language": "python",
   "name": "python3"
  },
  "language_info": {
   "codemirror_mode": {
    "name": "ipython",
    "version": 3
   },
   "file_extension": ".py",
   "mimetype": "text/x-python",
   "name": "python",
   "nbconvert_exporter": "python",
   "pygments_lexer": "ipython3",
   "version": "3.10.11"
  }
 },
 "nbformat": 4,
 "nbformat_minor": 5
}
