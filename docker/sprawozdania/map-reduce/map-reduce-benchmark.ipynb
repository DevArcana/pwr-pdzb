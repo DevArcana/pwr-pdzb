{
 "cells": [
  {
   "cell_type": "code",
   "execution_count": 11,
   "id": "1f54ca28",
   "metadata": {},
   "outputs": [],
   "source": [
    "import docker\n",
    "import uuid\n",
    "import paramiko\n",
    "import os\n",
    "from timeit import default_timer as timer\n",
    "from dataclasses import dataclass\n",
    "import re\n",
    "import requests\n",
    "\n",
    "@dataclass\n",
    "class HadoopRunResult:\n",
    "    stdout: list[str]\n",
    "    stderr: list[str]\n",
    "    elapsed: str\n",
    "        \n",
    "def get_elapsed_time(res):\n",
    "    def get_id_from_res(res):\n",
    "        for line in res[1]:\n",
    "            m = re.search('job_([0-9_]*)', line)\n",
    "            if m != None and m.group(1) != '':\n",
    "                return m.group(1)\n",
    "        return None\n",
    "    x = requests.get(f'http://resourcemanager:8088/ws/v1/cluster/apps/application_{get_id_from_res(res)}')\n",
    "    return x.json()['app']['elapsedTime']\n",
    "\n",
    "def run_in_master(command):\n",
    "    ssh = paramiko.SSHClient()\n",
    "    ssh.set_missing_host_key_policy(paramiko.AutoAddPolicy())\n",
    "    ssh.connect(\"namenode\", username=\"root\", password=\"pass\")\n",
    "    ssh_stdin, ssh_stdout, ssh_stderr = ssh.exec_command(f\"cd /app/ && . env_var.sh && {command}\")\n",
    "    return (ssh_stdout.readlines(), ssh_stderr.readlines())\n",
    "\n",
    "def get_data_from_output_path(path):\n",
    "    return f\"{path}/merged.txt\"\n",
    "\n",
    "def print_hdfs_output(path):\n",
    "    raw = run_in_master(f\"hdfs dfs -cat {get_data_from_output_path(path)}\")[0]\n",
    "    print(\"\\n\".join(raw[0:1000]))\n",
    "\n",
    "def merge_results(path):\n",
    "    run_in_master(f\"hdfs dfs -cat {path}/part-r-* | hdfs dfs -put - {path}/merged.txt\")"
   ]
  },
  {
   "cell_type": "markdown",
   "id": "01ecb596",
   "metadata": {},
   "source": [
    "# Wpływ replikacji danych"
   ]
  },
  {
   "cell_type": "code",
   "execution_count": null,
   "id": "f67fec42",
   "metadata": {},
   "outputs": [],
   "source": [
    "covid_01_jar_path = \"/data/master_volume/map_reduce_jars/covid_01.jar\"\n",
    "covid_01_input_path = \"/datasets/covid-dataset.jsonl\"\n",
    "covid_01_output_path = \"/out_covid_1\" + str(uuid.uuid4())\n",
    "_ = run_in_master(f\"yarn jar {covid_01_jar_path} {covid_01_input_path} {covid_01_output_path}\")\n",
    "merge_results(covid_01_output_path)"
   ]
  },
  {
   "cell_type": "code",
   "execution_count": 12,
   "id": "99546888",
   "metadata": {},
   "outputs": [],
   "source": [
    "def run_covid_02():\n",
    "    covid_02_jar_path = \"/data/master_volume/map_reduce_jars/covid_02.jar\"\n",
    "    covid_02_input_path = get_data_from_output_path(covid_01_output_path)\n",
    "    covid_02_output_path = \"/out_covid_2\" + str(uuid.uuid4())\n",
    "    res = run_in_master(f\"yarn jar {covid_02_jar_path} {covid_02_input_path} {covid_02_output_path}\")\n",
    "    merge_results(covid_02_output_path)\n",
    "    return HadoopRunResult(res[0], res[1], get_elapsed_time(res))"
   ]
  },
  {
   "cell_type": "markdown",
   "id": "8a2a185b",
   "metadata": {},
   "source": [
    "## 1 replika"
   ]
  },
  {
   "cell_type": "code",
   "execution_count": 13,
   "id": "d42b8f82",
   "metadata": {},
   "outputs": [],
   "source": [
    "_ = run_in_master(\"hdfs dfs -setrep -R 1 /\")"
   ]
  },
  {
   "cell_type": "code",
   "execution_count": 16,
   "id": "a9a03460",
   "metadata": {},
   "outputs": [
    {
     "ename": "NameError",
     "evalue": "name 'run_covid_02' is not defined",
     "output_type": "error",
     "traceback": [
      "\u001b[0;31m---------------------------------------------------------------------------\u001b[0m",
      "\u001b[0;31mNameError\u001b[0m                                 Traceback (most recent call last)",
      "Cell \u001b[0;32mIn[16], line 3\u001b[0m\n\u001b[1;32m      1\u001b[0m results \u001b[38;5;241m=\u001b[39m []\n\u001b[1;32m      2\u001b[0m \u001b[38;5;28;01mfor\u001b[39;00m i \u001b[38;5;129;01min\u001b[39;00m \u001b[38;5;28mrange\u001b[39m(\u001b[38;5;241m3\u001b[39m):\n\u001b[0;32m----> 3\u001b[0m     temp \u001b[38;5;241m=\u001b[39m \u001b[43mrun_covid_02\u001b[49m();\n\u001b[1;32m      4\u001b[0m     results\u001b[38;5;241m.\u001b[39mappend(temp)\n",
      "\u001b[0;31mNameError\u001b[0m: name 'run_covid_02' is not defined"
     ]
    }
   ],
   "source": [
    "results = []\n",
    "for i in range(3):\n",
    "    temp = run_covid_02();\n",
    "    results.append(temp)"
   ]
  },
  {
   "cell_type": "code",
   "execution_count": 15,
   "id": "4fd86050",
   "metadata": {},
   "outputs": [
    {
     "name": "stdout",
     "output_type": "stream",
     "text": [
      "119668\n"
     ]
    }
   ],
   "source": [
    "print(a.elapsed)"
   ]
  },
  {
   "cell_type": "code",
   "execution_count": null,
   "id": "4e1eb5a7",
   "metadata": {},
   "outputs": [],
   "source": [
    "## Czas"
   ]
  },
  {
   "cell_type": "markdown",
   "id": "ceb1efc4",
   "metadata": {},
   "source": [
    "## 3 repliki"
   ]
  },
  {
   "cell_type": "code",
   "execution_count": null,
   "id": "f8faeba7",
   "metadata": {},
   "outputs": [],
   "source": [
    "_ = run_in_master(\"hdfs dfs -setrep -R 3 /\")"
   ]
  },
  {
   "cell_type": "code",
   "execution_count": null,
   "id": "43be82e3",
   "metadata": {},
   "outputs": [],
   "source": [
    "covid_01_jar_path = \"/data/master_volume/map_reduce_jars/covid_01.jar\"\n",
    "covid_01_input_path = \"/datasets/covid-dataset.jsonl\"\n",
    "covid_01_output_path = \"/out_covid_1\" + str(uuid.uuid4())\n",
    "\n",
    "res = run_in_master(f\"yarn jar {covid_01_jar_path} {covid_01_input_path} {covid_01_output_path}\")\n",
    "merge_results(covid_01_output_path)"
   ]
  },
  {
   "cell_type": "code",
   "execution_count": null,
   "id": "01b5f262",
   "metadata": {},
   "outputs": [],
   "source": [
    "## Czas"
   ]
  }
 ],
 "metadata": {
  "kernelspec": {
   "display_name": "Python 3 (ipykernel)",
   "language": "python",
   "name": "python3"
  },
  "language_info": {
   "codemirror_mode": {
    "name": "ipython",
    "version": 3
   },
   "file_extension": ".py",
   "mimetype": "text/x-python",
   "name": "python",
   "nbconvert_exporter": "python",
   "pygments_lexer": "ipython3",
   "version": "3.10.11"
  }
 },
 "nbformat": 4,
 "nbformat_minor": 5
}
