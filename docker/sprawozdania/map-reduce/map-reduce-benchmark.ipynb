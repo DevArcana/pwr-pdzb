{
 "cells": [
  {
   "cell_type": "code",
   "execution_count": 1,
   "id": "9bfe99fa",
   "metadata": {},
   "outputs": [],
   "source": [
    "import docker\n",
    "import uuid\n",
    "import paramiko\n",
    "import os\n",
    "from timeit import default_timer as timer\n",
    "from dataclasses import dataclass\n",
    "import re\n",
    "import requests\n",
    "import statistics\n",
    "import pandas as pd\n",
    "import numpy as np\n",
    "\n",
    "@dataclass\n",
    "class HadoopRunResult:\n",
    "    name: str\n",
    "    output_path: str\n",
    "    stdout: list[str]\n",
    "    stderr: list[str]\n",
    "    elapsed: str\n",
    "        \n",
    "@dataclass\n",
    "class MultiRunResult:\n",
    "    name: str\n",
    "    results: list[HadoopRunResult]\n",
    "    average: float\n",
    "    output_path: str\n",
    "        \n",
    "    @staticmethod\n",
    "    def fromResults(results: list[HadoopRunResult]):\n",
    "        avg = statistics.mean(list(map(lambda x: int(x.elapsed), results)))\n",
    "        return MultiRunResult(results[0].name, results, avg, results[0].output_path)\n",
    "    \n",
    "def run_n(f, n):\n",
    "    results = []\n",
    "    for i in range(n):\n",
    "        results.append(f())\n",
    "    return results\n",
    "        \n",
    "def get_elapsed_time(res):\n",
    "    def get_id_from_res(res):\n",
    "        for line in res[1]:\n",
    "            m = re.search('job_([0-9_]*)', line)\n",
    "            if m != None and m.group(1) != '':\n",
    "                return m.group(1)\n",
    "        return None\n",
    "    x = requests.get(f'http://resourcemanager:8088/ws/v1/cluster/apps/application_{get_id_from_res(res)}')\n",
    "    return x.json()['app']['elapsedTime']\n",
    "\n",
    "def run_in_master(command):\n",
    "    ssh = paramiko.SSHClient()\n",
    "    ssh.set_missing_host_key_policy(paramiko.AutoAddPolicy())\n",
    "    ssh.connect(\"namenode\", username=\"root\", password=\"pass\")\n",
    "    ssh_stdin, ssh_stdout, ssh_stderr = ssh.exec_command(f\"cd /app/ && . /env_var_path.sh && {command}\")\n",
    "    return (ssh_stdout.readlines(), ssh_stderr.readlines())\n",
    "\n",
    "def get_data_from_output_path(path):\n",
    "    return f\"{path}/merged.txt\"\n",
    "\n",
    "def print_hdfs_output(path):\n",
    "    raw = run_in_master(f\"hdfs dfs -cat {get_data_from_output_path(path)}\")[0]\n",
    "    print(\"\\n\".join(raw[0:1000]))\n",
    "\n",
    "def merge_results(path):\n",
    "    run_in_master(f\"hdfs dfs -cat {path}/part-r-* | hdfs dfs -put - {path}/merged.txt\")\n",
    "    \n",
    "    \n",
    "def convert_results(all_results: list[MultiRunResult])-> pd.DataFrame:\n",
    "    def convert_single_result(multirun_res: MultiRunResult) -> list[int]:\n",
    "        return [res.elapsed for res in multirun_res.results] + [multirun_res.average]\n",
    "    \n",
    "    runs = len(all_results[0].results)\n",
    "    labels = list(map(lambda x: f\"run_{x} (ms)\", range(runs))) + ['average (ms)']\n",
    "    indexes = []\n",
    "    converted_results = []\n",
    "    for multirun_res in all_results:\n",
    "        indexes.append(multirun_res.name)\n",
    "        converted_results.append(convert_single_result(multirun_res))\n",
    "\n",
    "    return pd.DataFrame(np.array(converted_results), columns = labels, index=indexes)"
   ]
  },
  {
   "cell_type": "markdown",
   "id": "21307ff0",
   "metadata": {},
   "source": [
    "# Wpływ replikacji danych"
   ]
  },
  {
   "cell_type": "code",
   "execution_count": 2,
   "id": "3006b478",
   "metadata": {},
   "outputs": [],
   "source": [
    "def run_covid_01():\n",
    "    covid_01_jar_path = \"/data/master_volume/map_reduce_jars/covid_01.jar\"\n",
    "    covid_01_input_path = \"/datasets/covid-dataset.jsonl\"\n",
    "    covid_01_output_path = \"/out_covid_1\" + str(uuid.uuid4())\n",
    "    res = run_in_master(f\"yarn jar {covid_01_jar_path} {covid_01_input_path} {covid_01_output_path}\")\n",
    "    merge_results(covid_01_output_path)\n",
    "    return HadoopRunResult(\"Covid01\", covid_01_output_path, res[0], res[1], get_elapsed_time(res))"
   ]
  },
  {
   "cell_type": "code",
   "execution_count": 3,
   "id": "6da0f878",
   "metadata": {},
   "outputs": [],
   "source": [
    "def run_covid_02(covid_01_output_path):\n",
    "    covid_02_jar_path = \"/data/master_volume/map_reduce_jars/covid_02.jar\"\n",
    "    covid_02_input_path = get_data_from_output_path(covid_01_output_path)\n",
    "    covid_02_output_path = \"/out_covid_2\" + str(uuid.uuid4())\n",
    "    res = run_in_master(f\"yarn jar {covid_02_jar_path} {covid_02_input_path} {covid_02_output_path}\")\n",
    "    merge_results(covid_02_output_path)\n",
    "    return HadoopRunResult(\"Covid02\",covid_02_output_path, res[0], res[1], get_elapsed_time(res))"
   ]
  },
  {
   "cell_type": "code",
   "execution_count": 4,
   "id": "2179ce01",
   "metadata": {},
   "outputs": [],
   "source": [
    "def run_covid_03(covid_01_output_path):\n",
    "    covid_03_jar_path = \"/data/master_volume/map_reduce_jars/covid_03.jar\"\n",
    "    covid_03_input_path = get_data_from_output_path(covid_01_output_path)\n",
    "    covid_03_output_path = \"/out_covid_3\" + str(uuid.uuid4())\n",
    "    res = run_in_master(f\"yarn jar {covid_03_jar_path} {covid_03_input_path} {covid_03_output_path}\")\n",
    "    merge_results(covid_03_output_path)\n",
    "    return HadoopRunResult(\"Covid03\",covid_03_output_path, res[0], res[1], get_elapsed_time(res))"
   ]
  },
  {
   "cell_type": "code",
   "execution_count": 5,
   "id": "dd19ba1a",
   "metadata": {},
   "outputs": [],
   "source": [
    "def run_covid_03_single_reducer(covid_01_output_path):\n",
    "    covid_03_jar_path = \"/data/master_volume/map_reduce_jars/covid_03_single_reducer.jar\"\n",
    "    covid_03_input_path = get_data_from_output_path(covid_01_output_path)\n",
    "    covid_03_output_path = \"/out_covid_3\" + str(uuid.uuid4())\n",
    "    res = run_in_master(f\"yarn jar {covid_03_jar_path} {covid_03_input_path} {covid_03_output_path}\")\n",
    "    merge_results(covid_03_output_path)\n",
    "    return HadoopRunResult(\"Covid03SingleReducer\",covid_03_output_path, res[0], res[1], get_elapsed_time(res))"
   ]
  },
  {
   "cell_type": "code",
   "execution_count": 6,
   "id": "ccb1e2b1",
   "metadata": {},
   "outputs": [],
   "source": [
    "def run_steam_01():\n",
    "    steam_01_jar_path = \"/data/master_volume/map_reduce_jars/steam_01_combine.jar\"\n",
    "    steam_01_input_path = \"/datasets/steam-dataset/steam_dataset/appinfo/store_data/steam_store_data.jsonl\"\n",
    "    steam_01_input_path2 = \"/datasets/steam-dataset/steam_dataset/steamspy/basic/steam_spy_scrap.jsonl\"\n",
    "    steam_01_output_path = \"/out_steam_1\" + str(uuid.uuid4())\n",
    "    res = run_in_master(f\"yarn jar {steam_01_jar_path} {steam_01_input_path} {steam_01_input_path2} {steam_01_output_path}\")\n",
    "    merge_results(steam_01_output_path)\n",
    "    return HadoopRunResult(\"Steam01\",steam_01_output_path, res[0], res[1], get_elapsed_time(res))"
   ]
  },
  {
   "cell_type": "code",
   "execution_count": 7,
   "id": "525830c6",
   "metadata": {},
   "outputs": [],
   "source": [
    "def run_steam_02(steam_01_output_path):\n",
    "    steam_02_jar_path = \"/data/master_volume/map_reduce_jars/steam_02_choose.jar\"\n",
    "    steam_02_input_path = get_data_from_output_path(steam_01_output_path)\n",
    "    steam_02_output_path = \"/out_steam_2\" + str(uuid.uuid4())\n",
    "    res = run_in_master(f\"yarn jar {steam_02_jar_path} {steam_02_input_path} {steam_02_output_path}\")\n",
    "    merge_results(steam_02_output_path)\n",
    "    return HadoopRunResult(\"Steam02\",steam_02_output_path, res[0], res[1], get_elapsed_time(res))"
   ]
  },
  {
   "cell_type": "code",
   "execution_count": 8,
   "id": "bfac7fc0",
   "metadata": {},
   "outputs": [],
   "source": [
    "def run_steam_03(steam_02_output_path):\n",
    "    steam_03_jar_path = \"/data/master_volume/map_reduce_jars/steam_03_takeN.jar\"\n",
    "    steam_03_input_path = get_data_from_output_path(steam_02_output_path)\n",
    "    steam_03_output_path = \"/out_steam_3\" + str(uuid.uuid4())\n",
    "    res = run_in_master(f\"yarn jar {steam_03_jar_path} {steam_03_input_path} {steam_03_output_path}\")\n",
    "    merge_results(steam_03_output_path)\n",
    "    return HadoopRunResult(\"Steam03\",steam_03_output_path, res[0], res[1], get_elapsed_time(res))"
   ]
  },
  {
   "cell_type": "code",
   "execution_count": 9,
   "id": "bb325604",
   "metadata": {},
   "outputs": [],
   "source": [
    "def run_steam_04(steam_03_output_path):\n",
    "    steam_04_jar_path = \"/data/master_volume/map_reduce_jars/steam_04_fetch.jar\"\n",
    "    steam_04_input_path = get_data_from_output_path(steam_03_output_path)\n",
    "    steam_04_output_path = \"/out_steam_4\" + str(uuid.uuid4())\n",
    "    res = run_in_master(f\"yarn jar {steam_04_jar_path} {steam_04_input_path} {steam_04_output_path}\")\n",
    "    merge_results(steam_04_output_path)\n",
    "    return HadoopRunResult(\"Steam04\",steam_04_output_path, res[0], res[1], get_elapsed_time(res))"
   ]
  },
  {
   "cell_type": "code",
   "execution_count": 10,
   "id": "0a9b2a46",
   "metadata": {},
   "outputs": [],
   "source": [
    "def run_steam_05(steam_04_output_path, covid_02_output_path):\n",
    "    steam_05_jar_path = \"/data/master_volume/map_reduce_jars/steam_05_merge_time.jar\"\n",
    "    steam_05_input_path = get_data_from_output_path(steam_04_output_path)\n",
    "    steam_05_input_path2 = get_data_from_output_path(covid_02_output_path)\n",
    "    steam_05_output_path = \"/out_steam_5\" + str(uuid.uuid4())\n",
    "    res = run_in_master(f\"yarn jar {steam_05_jar_path} {steam_05_input_path} {steam_05_input_path2} {steam_05_output_path}\")\n",
    "    merge_results(steam_05_output_path)\n",
    "    return HadoopRunResult(\"Steam05\",steam_05_output_path, res[0], res[1], get_elapsed_time(res))"
   ]
  },
  {
   "cell_type": "code",
   "execution_count": 11,
   "id": "34ab6210",
   "metadata": {},
   "outputs": [],
   "source": [
    "def run_pipeline(repeat_count: int):\n",
    "    STEP_COUNT = repeat_count\n",
    "    covid_01 = MultiRunResult.fromResults(run_n(run_covid_01, STEP_COUNT))\n",
    "    covid_02 = MultiRunResult.fromResults(run_n(lambda: run_covid_02(covid_01.output_path), STEP_COUNT))\n",
    "    covid_03 = MultiRunResult.fromResults(run_n(lambda: run_covid_03(covid_01.output_path), STEP_COUNT))\n",
    "    steam_01 = MultiRunResult.fromResults(run_n(run_steam_01, STEP_COUNT))\n",
    "    steam_02 = MultiRunResult.fromResults(run_n(lambda: run_steam_02(steam_01.output_path), STEP_COUNT))\n",
    "    steam_03 = MultiRunResult.fromResults(run_n(lambda: run_steam_03(steam_02.output_path), STEP_COUNT))\n",
    "    steam_04 = MultiRunResult.fromResults(run_n(lambda: run_steam_04(steam_03.output_path), STEP_COUNT))\n",
    "    steam_05 = MultiRunResult.fromResults(run_n(lambda: run_steam_05(steam_04.output_path, covid_02.output_path), STEP_COUNT))\n",
    "    return [covid_01, covid_02, covid_03, steam_01, steam_02, steam_03, steam_04, steam_05]"
   ]
  },
  {
   "cell_type": "markdown",
   "id": "94222474",
   "metadata": {},
   "source": [
    "## 1 replika"
   ]
  },
  {
   "cell_type": "code",
   "execution_count": 18,
   "id": "06e8cb02",
   "metadata": {},
   "outputs": [],
   "source": [
    "_ = run_in_master(\"hdfs dfs -setrep -R 1 /\")"
   ]
  },
  {
   "cell_type": "code",
   "execution_count": null,
   "id": "de79484b",
   "metadata": {},
   "outputs": [],
   "source": [
    "run_covid_01()"
   ]
  },
  {
   "cell_type": "code",
   "execution_count": 13,
   "id": "5a53fb89",
   "metadata": {},
   "outputs": [
    {
     "data": {
      "text/html": [
       "<div>\n",
       "<style scoped>\n",
       "    .dataframe tbody tr th:only-of-type {\n",
       "        vertical-align: middle;\n",
       "    }\n",
       "\n",
       "    .dataframe tbody tr th {\n",
       "        vertical-align: top;\n",
       "    }\n",
       "\n",
       "    .dataframe thead th {\n",
       "        text-align: right;\n",
       "    }\n",
       "</style>\n",
       "<table border=\"1\" class=\"dataframe\">\n",
       "  <thead>\n",
       "    <tr style=\"text-align: right;\">\n",
       "      <th></th>\n",
       "      <th>run_0 (ms)</th>\n",
       "      <th>run_1 (ms)</th>\n",
       "      <th>run_2 (ms)</th>\n",
       "      <th>average (ms)</th>\n",
       "    </tr>\n",
       "  </thead>\n",
       "  <tbody>\n",
       "    <tr>\n",
       "      <th>Covid01</th>\n",
       "      <td>123881.0</td>\n",
       "      <td>124319.0</td>\n",
       "      <td>124610.0</td>\n",
       "      <td>124270.000000</td>\n",
       "    </tr>\n",
       "    <tr>\n",
       "      <th>Covid02</th>\n",
       "      <td>11569.0</td>\n",
       "      <td>11663.0</td>\n",
       "      <td>12171.0</td>\n",
       "      <td>11801.000000</td>\n",
       "    </tr>\n",
       "    <tr>\n",
       "      <th>Covid03</th>\n",
       "      <td>29686.0</td>\n",
       "      <td>28588.0</td>\n",
       "      <td>28859.0</td>\n",
       "      <td>29044.333333</td>\n",
       "    </tr>\n",
       "    <tr>\n",
       "      <th>Steam01</th>\n",
       "      <td>63199.0</td>\n",
       "      <td>62510.0</td>\n",
       "      <td>62707.0</td>\n",
       "      <td>62805.333333</td>\n",
       "    </tr>\n",
       "    <tr>\n",
       "      <th>Steam02</th>\n",
       "      <td>11466.0</td>\n",
       "      <td>10875.0</td>\n",
       "      <td>12057.0</td>\n",
       "      <td>11466.000000</td>\n",
       "    </tr>\n",
       "    <tr>\n",
       "      <th>Steam03</th>\n",
       "      <td>10802.0</td>\n",
       "      <td>11005.0</td>\n",
       "      <td>10359.0</td>\n",
       "      <td>10722.000000</td>\n",
       "    </tr>\n",
       "    <tr>\n",
       "      <th>Steam04</th>\n",
       "      <td>57272.0</td>\n",
       "      <td>57821.0</td>\n",
       "      <td>56745.0</td>\n",
       "      <td>57279.333333</td>\n",
       "    </tr>\n",
       "    <tr>\n",
       "      <th>Steam05</th>\n",
       "      <td>11570.0</td>\n",
       "      <td>11988.0</td>\n",
       "      <td>12461.0</td>\n",
       "      <td>12006.333333</td>\n",
       "    </tr>\n",
       "  </tbody>\n",
       "</table>\n",
       "</div>"
      ],
      "text/plain": [
       "         run_0 (ms)  run_1 (ms)  run_2 (ms)   average (ms)\n",
       "Covid01    123881.0    124319.0    124610.0  124270.000000\n",
       "Covid02     11569.0     11663.0     12171.0   11801.000000\n",
       "Covid03     29686.0     28588.0     28859.0   29044.333333\n",
       "Steam01     63199.0     62510.0     62707.0   62805.333333\n",
       "Steam02     11466.0     10875.0     12057.0   11466.000000\n",
       "Steam03     10802.0     11005.0     10359.0   10722.000000\n",
       "Steam04     57272.0     57821.0     56745.0   57279.333333\n",
       "Steam05     11570.0     11988.0     12461.0   12006.333333"
      ]
     },
     "execution_count": 13,
     "metadata": {},
     "output_type": "execute_result"
    }
   ],
   "source": [
    "pipeline_result = run_pipeline(3)\n",
    "convert_results(pipeline_result)"
   ]
  },
  {
   "cell_type": "markdown",
   "id": "d1cf9ba7",
   "metadata": {},
   "source": [
    "## 3 repliki"
   ]
  },
  {
   "cell_type": "code",
   "execution_count": 14,
   "id": "1b9d865a",
   "metadata": {},
   "outputs": [],
   "source": [
    "_ = run_in_master(\"hdfs dfs -setrep -R 3 /\")"
   ]
  },
  {
   "cell_type": "code",
   "execution_count": 15,
   "id": "69eb491f",
   "metadata": {},
   "outputs": [
    {
     "data": {
      "text/html": [
       "<div>\n",
       "<style scoped>\n",
       "    .dataframe tbody tr th:only-of-type {\n",
       "        vertical-align: middle;\n",
       "    }\n",
       "\n",
       "    .dataframe tbody tr th {\n",
       "        vertical-align: top;\n",
       "    }\n",
       "\n",
       "    .dataframe thead th {\n",
       "        text-align: right;\n",
       "    }\n",
       "</style>\n",
       "<table border=\"1\" class=\"dataframe\">\n",
       "  <thead>\n",
       "    <tr style=\"text-align: right;\">\n",
       "      <th></th>\n",
       "      <th>run_0 (ms)</th>\n",
       "      <th>run_1 (ms)</th>\n",
       "      <th>run_2 (ms)</th>\n",
       "      <th>average (ms)</th>\n",
       "    </tr>\n",
       "  </thead>\n",
       "  <tbody>\n",
       "    <tr>\n",
       "      <th>Covid01</th>\n",
       "      <td>123320.0</td>\n",
       "      <td>124412.0</td>\n",
       "      <td>126269.0</td>\n",
       "      <td>124667.000000</td>\n",
       "    </tr>\n",
       "    <tr>\n",
       "      <th>Covid02</th>\n",
       "      <td>12308.0</td>\n",
       "      <td>12704.0</td>\n",
       "      <td>12147.0</td>\n",
       "      <td>12386.333333</td>\n",
       "    </tr>\n",
       "    <tr>\n",
       "      <th>Covid03</th>\n",
       "      <td>29593.0</td>\n",
       "      <td>28632.0</td>\n",
       "      <td>29120.0</td>\n",
       "      <td>29115.000000</td>\n",
       "    </tr>\n",
       "    <tr>\n",
       "      <th>Steam01</th>\n",
       "      <td>65405.0</td>\n",
       "      <td>61505.0</td>\n",
       "      <td>61481.0</td>\n",
       "      <td>62797.000000</td>\n",
       "    </tr>\n",
       "    <tr>\n",
       "      <th>Steam02</th>\n",
       "      <td>11370.0</td>\n",
       "      <td>11380.0</td>\n",
       "      <td>11477.0</td>\n",
       "      <td>11409.000000</td>\n",
       "    </tr>\n",
       "    <tr>\n",
       "      <th>Steam03</th>\n",
       "      <td>10024.0</td>\n",
       "      <td>10947.0</td>\n",
       "      <td>10625.0</td>\n",
       "      <td>10532.000000</td>\n",
       "    </tr>\n",
       "    <tr>\n",
       "      <th>Steam04</th>\n",
       "      <td>55547.0</td>\n",
       "      <td>56584.0</td>\n",
       "      <td>56626.0</td>\n",
       "      <td>56252.333333</td>\n",
       "    </tr>\n",
       "    <tr>\n",
       "      <th>Steam05</th>\n",
       "      <td>12586.0</td>\n",
       "      <td>12032.0</td>\n",
       "      <td>12564.0</td>\n",
       "      <td>12394.000000</td>\n",
       "    </tr>\n",
       "  </tbody>\n",
       "</table>\n",
       "</div>"
      ],
      "text/plain": [
       "         run_0 (ms)  run_1 (ms)  run_2 (ms)   average (ms)\n",
       "Covid01    123320.0    124412.0    126269.0  124667.000000\n",
       "Covid02     12308.0     12704.0     12147.0   12386.333333\n",
       "Covid03     29593.0     28632.0     29120.0   29115.000000\n",
       "Steam01     65405.0     61505.0     61481.0   62797.000000\n",
       "Steam02     11370.0     11380.0     11477.0   11409.000000\n",
       "Steam03     10024.0     10947.0     10625.0   10532.000000\n",
       "Steam04     55547.0     56584.0     56626.0   56252.333333\n",
       "Steam05     12586.0     12032.0     12564.0   12394.000000"
      ]
     },
     "execution_count": 15,
     "metadata": {},
     "output_type": "execute_result"
    }
   ],
   "source": [
    "pipeline_result = run_pipeline(3)\n",
    "convert_results(pipeline_result)"
   ]
  },
  {
   "cell_type": "markdown",
   "id": "c46bbc9d",
   "metadata": {},
   "source": [
    "# Covid03 - benchmark 1 vs 3 reducers "
   ]
  },
  {
   "cell_type": "code",
   "execution_count": 16,
   "id": "d81e8fea",
   "metadata": {},
   "outputs": [],
   "source": [
    "def run_reducer_pipeline(repeat_count: int):\n",
    "    STEP_COUNT = repeat_count\n",
    "    covid_01 = MultiRunResult.fromResults(run_n(run_covid_01, 1))\n",
    "    covid_03 = MultiRunResult.fromResults(run_n(lambda: run_covid_03(covid_01.output_path), STEP_COUNT))\n",
    "    covid_03_single_reducer = MultiRunResult.fromResults(run_n(lambda: run_covid_03_single_reducer(covid_01.output_path), STEP_COUNT))\n",
    "    return [covid_03, covid_03_single_reducer]"
   ]
  },
  {
   "cell_type": "code",
   "execution_count": 17,
   "id": "99649b4d",
   "metadata": {},
   "outputs": [
    {
     "data": {
      "text/html": [
       "<div>\n",
       "<style scoped>\n",
       "    .dataframe tbody tr th:only-of-type {\n",
       "        vertical-align: middle;\n",
       "    }\n",
       "\n",
       "    .dataframe tbody tr th {\n",
       "        vertical-align: top;\n",
       "    }\n",
       "\n",
       "    .dataframe thead th {\n",
       "        text-align: right;\n",
       "    }\n",
       "</style>\n",
       "<table border=\"1\" class=\"dataframe\">\n",
       "  <thead>\n",
       "    <tr style=\"text-align: right;\">\n",
       "      <th></th>\n",
       "      <th>run_0 (ms)</th>\n",
       "      <th>run_1 (ms)</th>\n",
       "      <th>run_2 (ms)</th>\n",
       "      <th>average (ms)</th>\n",
       "    </tr>\n",
       "  </thead>\n",
       "  <tbody>\n",
       "    <tr>\n",
       "      <th>Covid03</th>\n",
       "      <td>29445.0</td>\n",
       "      <td>28660.0</td>\n",
       "      <td>29226.0</td>\n",
       "      <td>29110.333333</td>\n",
       "    </tr>\n",
       "    <tr>\n",
       "      <th>Covid03SingleReducer</th>\n",
       "      <td>27857.0</td>\n",
       "      <td>26816.0</td>\n",
       "      <td>27088.0</td>\n",
       "      <td>27253.666667</td>\n",
       "    </tr>\n",
       "  </tbody>\n",
       "</table>\n",
       "</div>"
      ],
      "text/plain": [
       "                      run_0 (ms)  run_1 (ms)  run_2 (ms)  average (ms)\n",
       "Covid03                  29445.0     28660.0     29226.0  29110.333333\n",
       "Covid03SingleReducer     27857.0     26816.0     27088.0  27253.666667"
      ]
     },
     "execution_count": 17,
     "metadata": {},
     "output_type": "execute_result"
    }
   ],
   "source": [
    "pipeline_result = run_reducer_pipeline(3)\n",
    "convert_results(pipeline_result)"
   ]
  },
  {
   "cell_type": "code",
   "execution_count": null,
   "id": "5d1ea380",
   "metadata": {},
   "outputs": [],
   "source": []
  }
 ],
 "metadata": {
  "kernelspec": {
   "display_name": "Python 3 (ipykernel)",
   "language": "python",
   "name": "python3"
  },
  "language_info": {
   "codemirror_mode": {
    "name": "ipython",
    "version": 3
   },
   "file_extension": ".py",
   "mimetype": "text/x-python",
   "name": "python",
   "nbconvert_exporter": "python",
   "pygments_lexer": "ipython3",
   "version": "3.10.11"
  }
 },
 "nbformat": 4,
 "nbformat_minor": 5
}
