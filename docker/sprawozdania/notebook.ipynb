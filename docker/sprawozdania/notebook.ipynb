{
 "cells": [
  {
   "cell_type": "markdown",
   "id": "18d719c7-6d9e-42b3-abaf-f0e4cad11db4",
   "metadata": {},
   "source": [
    "# How to run commands on hadoop using jupyter"
   ]
  },
  {
   "cell_type": "markdown",
   "id": "e98b8abc-9233-40a5-80c7-8ff991a48b64",
   "metadata": {},
   "source": [
    "## Import utility functions\n",
    "run_in_master runs provided command on namenode. Use it to start map-reduce, pig or spark application. \n",
    "\n",
    "run_in_hive runs provided command on hive-server. Use it to start hive application"
   ]
  },
  {
   "cell_type": "code",
   "execution_count": null,
   "id": "91ae2f6a-fe7c-4543-aaf1-e347de4b7d1b",
   "metadata": {},
   "outputs": [],
   "source": [
    "from utils import run_in_master, run_in_hive, print_hdfs_output, hdfs_upload"
   ]
  },
  {
   "cell_type": "code",
   "execution_count": null,
   "id": "0b9e7712-ab2d-4908-bb5b-87cc85b0d592",
   "metadata": {},
   "outputs": [],
   "source": [
    "print(run_in_master(\"echo 'test'\"))\n",
    "print(run_in_hive(\"echo 'test'\"))"
   ]
  },
  {
   "cell_type": "markdown",
   "id": "0c403ac5-3250-470a-b203-483a09dd983e",
   "metadata": {},
   "source": [
    "# Map reduce"
   ]
  },
  {
   "cell_type": "code",
   "execution_count": null,
   "id": "b4254bb1-7424-4935-9e61-5a1d8358d911",
   "metadata": {},
   "outputs": [],
   "source": [
    "run_in_master(\"yarn jar /opt/hadoop-3.3.1/share/hadoop/mapreduce/hadoop-mapreduce-examples-3.3.1.jar pi 2 5\")"
   ]
  },
  {
   "cell_type": "markdown",
   "id": "05aef1e7-3d5a-48df-84f1-3b56140d5a94",
   "metadata": {},
   "source": [
    "# Pig"
   ]
  },
  {
   "cell_type": "code",
   "execution_count": null,
   "id": "02c63ab2-5e30-4282-8432-859149fd4667",
   "metadata": {},
   "outputs": [],
   "source": [
    "hdfs_upload(\"examples/pig.pig\")\n",
    "hdfs_upload(\"examples/data.jsonl\")"
   ]
  },
  {
   "cell_type": "code",
   "execution_count": null,
   "id": "0917877a-508b-403f-a64b-0b296fedd65b",
   "metadata": {},
   "outputs": [],
   "source": [
    "run_in_master(\"pig -x mapreduce /data/master_volume/examples/pig.pig\")"
   ]
  },
  {
   "cell_type": "markdown",
   "id": "5db7d2f7-4616-42c0-8408-db4cd60fe72c",
   "metadata": {},
   "source": [
    "# Hive"
   ]
  },
  {
   "cell_type": "code",
   "execution_count": null,
   "id": "c1a3e5d0-1a04-425e-8ba2-af502d8af2a1",
   "metadata": {},
   "outputs": [],
   "source": [
    "hdfs_upload(\"examples/employee.csv\")"
   ]
  },
  {
   "cell_type": "code",
   "execution_count": null,
   "id": "c32bce82-69af-4529-8efa-d33ce61e78d1",
   "metadata": {},
   "outputs": [],
   "source": [
    "run_in_hive(\"hive -f /data/master_volume/examples/employee_table.hql\")"
   ]
  },
  {
   "cell_type": "code",
   "execution_count": null,
   "id": "56b6969b-6ade-4c41-8a39-a92c58ec1e54",
   "metadata": {},
   "outputs": [],
   "source": [
    "run_in_hive(\"hive -f /data/master_volume/examples/employee_load.hql\")"
   ]
  },
  {
   "cell_type": "code",
   "execution_count": null,
   "id": "4395759b-d00e-4190-bf5e-da5162232354",
   "metadata": {},
   "outputs": [],
   "source": [
    "run_in_hive(\"hive -f /data/master_volume/examples/test_group.hql\")"
   ]
  },
  {
   "cell_type": "code",
   "execution_count": null,
   "id": "92266f81-f14e-49dd-8dd0-74451a7b004e",
   "metadata": {},
   "outputs": [],
   "source": [
    "print_hdfs_output(\"/user/hive/warehouse/results/000000_0\")"
   ]
  },
  {
   "cell_type": "markdown",
   "id": "841b42e7-8782-4459-8c7e-1be51b1787e6",
   "metadata": {},
   "source": [
    "# Spark"
   ]
  },
  {
   "cell_type": "code",
   "execution_count": null,
   "id": "06fae32b-eddd-4157-ac81-c0255bb1dbed",
   "metadata": {},
   "outputs": [],
   "source": [
    "run_in_master(\"spark-submit --master yarn --deploy-mode cluster /data/master_volume/examples/spark.py\")"
   ]
  },
  {
   "cell_type": "code",
   "execution_count": null,
   "id": "16ee6e9c-7866-4753-8df4-48790e9e12dd",
   "metadata": {},
   "outputs": [],
   "source": [
    "print_hdfs_output(\"/user/hive/warehouse/results/000000_0\")"
   ]
  }
 ],
 "metadata": {
  "kernelspec": {
   "display_name": "Python 3 (ipykernel)",
   "language": "python",
   "name": "python3"
  },
  "language_info": {
   "codemirror_mode": {
    "name": "ipython",
    "version": 3
   },
   "file_extension": ".py",
   "mimetype": "text/x-python",
   "name": "python",
   "nbconvert_exporter": "python",
   "pygments_lexer": "ipython3",
   "version": "3.10.11"
  }
 },
 "nbformat": 4,
 "nbformat_minor": 5
}
