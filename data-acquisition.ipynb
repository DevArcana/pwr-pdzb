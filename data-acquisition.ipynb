{
 "cells": [
  {
   "cell_type": "code",
   "execution_count": 37,
   "outputs": [],
   "source": [
    "import os\n",
    "import requests\n",
    "import docker\n",
    "import opendatasets as od"
   ],
   "metadata": {
    "collapsed": false,
    "ExecuteTime": {
     "start_time": "2023-04-23T11:44:50.960930Z",
     "end_time": "2023-04-23T11:44:50.977131Z"
    }
   }
  },
  {
   "cell_type": "code",
   "execution_count": 38,
   "metadata": {
    "collapsed": true,
    "ExecuteTime": {
     "start_time": "2023-04-23T11:44:50.977131Z",
     "end_time": "2023-04-23T11:44:51.008916Z"
    }
   },
   "outputs": [],
   "source": [
    "client = docker.from_env()\n",
    "container = client.containers.get('master')\n",
    "\n",
    "def hdfs_mkdir(path):\n",
    "    container.exec_run(f\"hdfs dfs -mkdir -p /{path}/\")\n",
    "\n",
    "def hdfs_upload(path):\n",
    "    directory = \"/\".join(path.split(\"/\")[:-1])\n",
    "    hdfs_mkdir(directory)\n",
    "    cmd = f\"hdfs dfs -put /data/master_volume/{path} /{directory}\"\n",
    "    print(cmd)\n",
    "    code, output = container.exec_run(cmd)\n",
    "    print(f\"exit code {code}\")\n",
    "    print(output)\n",
    "\n",
    "def hdfs_set_replication_level(number):\n",
    "    container.exec_run(f\"hdfs dfs -setrep -R {number} /\")"
   ]
  },
  {
   "cell_type": "markdown",
   "source": [
    "Ensure `kaggle.json` is located in the root of the repository or at `~/.kaggle/kaggle.json`."
   ],
   "metadata": {
    "collapsed": false
   }
  },
  {
   "cell_type": "code",
   "execution_count": 40,
   "outputs": [],
   "source": [
    "output_dir = \"vagrant/master_volume/datasets\""
   ],
   "metadata": {
    "collapsed": false,
    "ExecuteTime": {
     "start_time": "2023-04-23T11:44:52.262114Z",
     "end_time": "2023-04-23T11:44:52.273691Z"
    }
   }
  },
  {
   "cell_type": "code",
   "execution_count": 41,
   "outputs": [
    {
     "name": "stdout",
     "output_type": "stream",
     "text": [
      "Dataset steam-dataset already exists, skipping download\n",
      "Dataset youtube-trending-video-dataset already exists, skipping download\n"
     ]
    }
   ],
   "source": [
    "if not os.path.isdir(f\"{output_dir}/steam-dataset\"):\n",
    "    od.download(\"https://www.kaggle.com/datasets/souyama/steam-dataset\", f\"{output_dir}\")\n",
    "else:\n",
    "    print(\"Dataset steam-dataset already exists, skipping download\")\n",
    "\n",
    "if not os.path.isdir(f\"{output_dir}/youtube-trending-video-dataset\"):\n",
    "    od.download(\"https://www.kaggle.com/datasets/rsrishav/youtube-trending-video-dataset\", f\"{output_dir}\")\n",
    "else:\n",
    "    print(\"Dataset youtube-trending-video-dataset already exists, skipping download\")"
   ],
   "metadata": {
    "collapsed": false,
    "ExecuteTime": {
     "start_time": "2023-04-23T11:44:52.273691Z",
     "end_time": "2023-04-23T11:44:52.320653Z"
    }
   }
  },
  {
   "cell_type": "code",
   "execution_count": 43,
   "outputs": [
    {
     "name": "stdout",
     "output_type": "stream",
     "text": [
      "Dataset covid-dataset already exists, skipping download\n",
      "covid-dataset.csv: 77.76MB\n",
      "Uploading to HDFS\n",
      "hdfs dfs -put /data/master_volume/datasets/covid-dataset.csv /datasets\n",
      "exit code 1\n",
      "b\"put: `/datasets/covid-dataset.csv': File exists\\n\"\n",
      "Done\n"
     ]
    }
   ],
   "source": [
    "path = f\"{output_dir}/covid-dataset.csv\"\n",
    "\n",
    "if not os.path.isfile(path):\n",
    "    print(f\"Downloading covid-dataset to {path}\")\n",
    "    r = requests.get(\"https://covid.ourworldindata.org/data/owid-covid-data.csv\", allow_redirects=True)\n",
    "    with open(path, 'wb') as file:\n",
    "        file.write(r.content)\n",
    "else:\n",
    "    print(\"Dataset covid-dataset already exists, skipping download\")\n",
    "\n",
    "print(f\"covid-dataset.csv: {os.stat(path).st_size / (1024 * 1024):.02f}MB\")"
   ],
   "metadata": {
    "collapsed": false,
    "ExecuteTime": {
     "start_time": "2023-04-23T11:45:20.327666Z",
     "end_time": "2023-04-23T11:45:22.835689Z"
    }
   }
  },
  {
   "cell_type": "code",
   "execution_count": 55,
   "outputs": [
    {
     "name": "stdout",
     "output_type": "stream",
     "text": [
      "Uploading to HDFS\n",
      "hdfs dfs -put /data/master_volume/datasets/covid-dataset.csv /datasets\n",
      "exit code 1\n",
      "b\"put: `/datasets/covid-dataset.csv': File exists\\n\"\n",
      "hdfs dfs -put /data/master_volume/datasets/steam-dataset/steam_dataset/appinfo/dlc_data/missing.json /datasets/steam-dataset/steam_dataset/appinfo/dlc_data\n",
      "exit code 0\n",
      "b''\n",
      "hdfs dfs -put /data/master_volume/datasets/steam-dataset/steam_dataset/appinfo/dlc_data/steam_dlc_data.json /datasets/steam-dataset/steam_dataset/appinfo/dlc_data\n",
      "exit code 0\n",
      "b''\n",
      "hdfs dfs -put /data/master_volume/datasets/steam-dataset/steam_dataset/appinfo/dlc_data/timestamp.txt /datasets/steam-dataset/steam_dataset/appinfo/dlc_data\n",
      "exit code 0\n",
      "b''\n",
      "hdfs dfs -put /data/master_volume/datasets/steam-dataset/steam_dataset/appinfo/store_data/steam_store_data.json /datasets/steam-dataset/steam_dataset/appinfo/store_data\n",
      "exit code 0\n",
      "b''\n",
      "hdfs dfs -put /data/master_volume/datasets/steam-dataset/steam_dataset/appinfo/store_data/timestamp.txt /datasets/steam-dataset/steam_dataset/appinfo/store_data\n",
      "exit code 0\n",
      "b''\n",
      "hdfs dfs -put /data/master_volume/datasets/steam-dataset/steam_dataset/news_data/missing.json /datasets/steam-dataset/steam_dataset/news_data\n",
      "exit code 0\n",
      "b''\n",
      "hdfs dfs -put /data/master_volume/datasets/steam-dataset/steam_dataset/news_data/steam_news_data.json /datasets/steam-dataset/steam_dataset/news_data\n",
      "exit code 0\n",
      "b''\n",
      "hdfs dfs -put /data/master_volume/datasets/steam-dataset/steam_dataset/news_data/timestamp.txt /datasets/steam-dataset/steam_dataset/news_data\n",
      "exit code 0\n",
      "b''\n",
      "hdfs dfs -put /data/master_volume/datasets/steam-dataset/steam_dataset/steamspy/basic/steam_spy_scrap.json /datasets/steam-dataset/steam_dataset/steamspy/basic\n",
      "exit code 0\n",
      "b''\n",
      "hdfs dfs -put /data/master_volume/datasets/steam-dataset/steam_dataset/steamspy/basic/timestamp.txt /datasets/steam-dataset/steam_dataset/steamspy/basic\n",
      "exit code 0\n",
      "b''\n",
      "hdfs dfs -put /data/master_volume/datasets/steam-dataset/steam_dataset/steamspy/detailed/steam_spy_detailed.json /datasets/steam-dataset/steam_dataset/steamspy/detailed\n",
      "exit code 0\n",
      "b''\n",
      "hdfs dfs -put /data/master_volume/datasets/steam-dataset/steam_dataset/steamspy/detailed/timestamp.txt /datasets/steam-dataset/steam_dataset/steamspy/detailed\n",
      "exit code 0\n",
      "b''\n",
      "hdfs dfs -put /data/master_volume/datasets/steam-dataset/steam_dataset/steam_charts/missing.json /datasets/steam-dataset/steam_dataset/steam_charts\n",
      "exit code 0\n",
      "b''\n",
      "hdfs dfs -put /data/master_volume/datasets/steam-dataset/steam_dataset/steam_charts/steam_charts.json /datasets/steam-dataset/steam_dataset/steam_charts\n",
      "exit code 0\n",
      "b''\n",
      "hdfs dfs -put /data/master_volume/datasets/steam-dataset/steam_dataset/steam_charts/timestamp.txt /datasets/steam-dataset/steam_dataset/steam_charts\n",
      "exit code 0\n",
      "b''\n",
      "hdfs dfs -put /data/master_volume/datasets/youtube-trending-video-dataset/BR_category_id.json /datasets/youtube-trending-video-dataset\n",
      "exit code 0\n",
      "b''\n",
      "hdfs dfs -put /data/master_volume/datasets/youtube-trending-video-dataset/BR_youtube_trending_data.csv /datasets/youtube-trending-video-dataset\n",
      "exit code 0\n",
      "b''\n",
      "hdfs dfs -put /data/master_volume/datasets/youtube-trending-video-dataset/CA_category_id.json /datasets/youtube-trending-video-dataset\n",
      "exit code 0\n",
      "b''\n",
      "hdfs dfs -put /data/master_volume/datasets/youtube-trending-video-dataset/CA_youtube_trending_data.csv /datasets/youtube-trending-video-dataset\n",
      "exit code 0\n",
      "b''\n",
      "hdfs dfs -put /data/master_volume/datasets/youtube-trending-video-dataset/DE_category_id.json /datasets/youtube-trending-video-dataset\n",
      "exit code 0\n",
      "b''\n",
      "hdfs dfs -put /data/master_volume/datasets/youtube-trending-video-dataset/DE_youtube_trending_data.csv /datasets/youtube-trending-video-dataset\n",
      "exit code 0\n",
      "b''\n",
      "hdfs dfs -put /data/master_volume/datasets/youtube-trending-video-dataset/FR_category_id.json /datasets/youtube-trending-video-dataset\n",
      "exit code 0\n",
      "b''\n",
      "hdfs dfs -put /data/master_volume/datasets/youtube-trending-video-dataset/FR_youtube_trending_data.csv /datasets/youtube-trending-video-dataset\n",
      "exit code 0\n",
      "b''\n",
      "hdfs dfs -put /data/master_volume/datasets/youtube-trending-video-dataset/GB_category_id.json /datasets/youtube-trending-video-dataset\n",
      "exit code 0\n",
      "b''\n",
      "hdfs dfs -put /data/master_volume/datasets/youtube-trending-video-dataset/GB_youtube_trending_data.csv /datasets/youtube-trending-video-dataset\n",
      "exit code 0\n",
      "b''\n",
      "hdfs dfs -put /data/master_volume/datasets/youtube-trending-video-dataset/IN_category_id.json /datasets/youtube-trending-video-dataset\n",
      "exit code 0\n",
      "b''\n",
      "hdfs dfs -put /data/master_volume/datasets/youtube-trending-video-dataset/IN_youtube_trending_data.csv /datasets/youtube-trending-video-dataset\n",
      "exit code 0\n",
      "b''\n",
      "hdfs dfs -put /data/master_volume/datasets/youtube-trending-video-dataset/JP_category_id.json /datasets/youtube-trending-video-dataset\n",
      "exit code 0\n",
      "b''\n",
      "hdfs dfs -put /data/master_volume/datasets/youtube-trending-video-dataset/JP_youtube_trending_data.csv /datasets/youtube-trending-video-dataset\n",
      "exit code 0\n",
      "b''\n",
      "hdfs dfs -put /data/master_volume/datasets/youtube-trending-video-dataset/KR_category_id.json /datasets/youtube-trending-video-dataset\n",
      "exit code 0\n",
      "b''\n",
      "hdfs dfs -put /data/master_volume/datasets/youtube-trending-video-dataset/KR_youtube_trending_data.csv /datasets/youtube-trending-video-dataset\n",
      "exit code 0\n",
      "b''\n",
      "hdfs dfs -put /data/master_volume/datasets/youtube-trending-video-dataset/MX_category_id.json /datasets/youtube-trending-video-dataset\n",
      "exit code 0\n",
      "b''\n",
      "hdfs dfs -put /data/master_volume/datasets/youtube-trending-video-dataset/MX_youtube_trending_data.csv /datasets/youtube-trending-video-dataset\n",
      "exit code 0\n",
      "b''\n",
      "hdfs dfs -put /data/master_volume/datasets/youtube-trending-video-dataset/RU_category_id.json /datasets/youtube-trending-video-dataset\n",
      "exit code 0\n",
      "b''\n",
      "hdfs dfs -put /data/master_volume/datasets/youtube-trending-video-dataset/RU_youtube_trending_data.csv /datasets/youtube-trending-video-dataset\n",
      "exit code 0\n",
      "b''\n",
      "hdfs dfs -put /data/master_volume/datasets/youtube-trending-video-dataset/US_category_id.json /datasets/youtube-trending-video-dataset\n",
      "exit code 0\n",
      "b''\n",
      "hdfs dfs -put /data/master_volume/datasets/youtube-trending-video-dataset/US_youtube_trending_data.csv /datasets/youtube-trending-video-dataset\n",
      "exit code 0\n",
      "b''\n",
      "Done\n"
     ]
    }
   ],
   "source": [
    "print(\"Uploading to HDFS\")\n",
    "for root, directories, files in os.walk(f\"{output_dir}\"):\n",
    "        for filename in files:\n",
    "            path = os.path\\\n",
    "                .join(root,filename)\\\n",
    "                .removeprefix(\"vagrant/master_volume/\")\\\n",
    "                .replace(\"\\\\\", \"/\")\n",
    "\n",
    "            hdfs_upload(path)\n",
    "print(\"Done\")"
   ],
   "metadata": {
    "collapsed": false,
    "ExecuteTime": {
     "start_time": "2023-04-23T11:53:52.210836Z",
     "end_time": "2023-04-23T11:59:46.170422Z"
    }
   }
  },
  {
   "cell_type": "code",
   "execution_count": 56,
   "outputs": [],
   "source": [
    "hdfs_set_replication_level(3)"
   ],
   "metadata": {
    "collapsed": false,
    "ExecuteTime": {
     "start_time": "2023-04-23T12:00:55.251739Z",
     "end_time": "2023-04-23T12:00:56.718692Z"
    }
   }
  },
  {
   "cell_type": "code",
   "execution_count": null,
   "outputs": [],
   "source": [],
   "metadata": {
    "collapsed": false
   }
  }
 ],
 "metadata": {
  "kernelspec": {
   "display_name": "Python 3",
   "language": "python",
   "name": "python3"
  },
  "language_info": {
   "codemirror_mode": {
    "name": "ipython",
    "version": 2
   },
   "file_extension": ".py",
   "mimetype": "text/x-python",
   "name": "python",
   "nbconvert_exporter": "python",
   "pygments_lexer": "ipython2",
   "version": "2.7.6"
  }
 },
 "nbformat": 4,
 "nbformat_minor": 0
}
